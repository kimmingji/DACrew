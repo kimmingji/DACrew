{
 "cells": [
  {
   "attachments": {},
   "cell_type": "markdown",
   "metadata": {
    "id": "gT4YPNgNxksw"
   },
   "source": [
    "# **윤슬의 잔물결✨**\n",
    "\n",
    "\n",
    "\n",
    "[[윤슬🌊] 퇴근시간 버스승차인원 예측 경진대회 Stage 1: 데이터 불러오기](https://dacon.io/competitions/official/236047/codeshare/7455?page=1&dtype=random)\n",
    "</br>[[윤슬🌊] 퇴근시간 버스승차인원 예측 경진대회 Stage 2: 데이터 전처리 및 모델링](https://dacon.io/competitions/official/236047/codeshare/7655?page=1&dtype=random)\n",
    "\n",
    "<br/>\n",
    "<div style=\"text-align: right\"> 23-01-28 | ver.003 </div>\n",
    "\n",
    "---\n",
    "\n"
   ]
  },
  {
   "cell_type": "markdown",
   "metadata": {
    "id": "EZeTJ7JK9uV1"
   },
   "source": [
    "지난 포스팅에서 \n",
    "</br> <font style=\"color : #6495ED ; font-weight : bold ; font-size : 25px;\">“데이터 전처리”</font> 파트에서 변수 선택과 결측치 처리,\n",
    "</br><font style=\"color : #6495ED ; font-weight : bold ; font-size : 25px;\">“모델링”</font> 파트에서 모델 선언 및 예측을 하는 시간을 가졌습니다.\n",
    "\n",
    "</br>우선, 라이브러리와 파일을 다시 불러오겠습니다.\n"
   ]
  },
  {
   "cell_type": "code",
   "execution_count": null,
   "metadata": {
    "id": "AUu8Fs0F9yUJ"
   },
   "outputs": [],
   "source": [
    "import pandas as pd\n",
    "import numpy as np"
   ]
  },
  {
   "cell_type": "code",
   "execution_count": null,
   "metadata": {
    "colab": {
     "base_uri": "https://localhost:8080/"
    },
    "executionInfo": {
     "elapsed": 17797,
     "status": "ok",
     "timestamp": 1676180237363,
     "user": {
      "displayName": "성수빈",
      "userId": "07375498608712401337"
     },
     "user_tz": -540
    },
    "id": "uxOCYYjd2xBu",
    "outputId": "41a319fe-216f-48fb-ba22-38b02ac9eb6f"
   },
   "outputs": [
    {
     "name": "stdout",
     "output_type": "stream",
     "text": [
      "Drive already mounted at /content/drive; to attempt to forcibly remount, call drive.mount(\"/content/drive\", force_remount=True).\n"
     ]
    }
   ],
   "source": [
    "train = pd.read_csv('train.csv' ,index_col=0)\n",
    "test = pd.read_csv('test.csv', index_col=0)\n",
    "bus = pd.read_csv('bus_bts.csv' ,index_col=0)\n",
    "submission = pd.read_csv('submission_sample.csv', index_col=0)"
   ]
  },
  {
   "cell_type": "markdown",
   "metadata": {
    "id": "TfnSFwDF9IAE"
   },
   "source": [
    "변수 선택 파트에서 다양한 메소드가 등장했습니다.\n",
    "\n",
    "</br>☝ replace()를 사용하여 in_out 컬럼 데이터에서 ‘시내’는 0으로, ‘시외’는 1로 대체해줬습니다.\n",
    "</br>✌ drop()을 사용하여 station_name 컬럼을 제거해줬습니다.\n",
    "</br>👌 to_datetime()과 weekday 함수를 사용하여 날짜를 요일로 변환했습니다.\n",
    "\n"
   ]
  },
  {
   "cell_type": "code",
   "execution_count": null,
   "metadata": {
    "id": "ogaJVnzh9XMb"
   },
   "outputs": [],
   "source": [
    "# train 데이터셋 전처리\n",
    "train = train.replace('시내', 0)\n",
    "train = train.replace('시외', 1)\n",
    "\n",
    "train = train.drop(['station_name'], axis = 1)\n",
    "\n",
    "train['date'] = pd.to_datetime(train['date'])\n",
    "train['date'] = train['date'].dt.weekday"
   ]
  },
  {
   "cell_type": "code",
   "execution_count": null,
   "metadata": {
    "id": "RtOFGmDE9bfY"
   },
   "outputs": [],
   "source": [
    "# test 데이터셋 전처리\n",
    "test = test.replace('시외', 1)\n",
    "test = test.replace('시내', 0)\n",
    "\n",
    "test = test.drop(['station_name'], axis=1)\n",
    "\n",
    "test['date'] = pd.to_datetime(test['date'])\n",
    "test['date'] = test['date'].dt.weekday"
   ]
  },
  {
   "cell_type": "markdown",
   "metadata": {
    "id": "QIB1NkUU-X7e"
   },
   "source": [
    "이젠 train 데이터에서 학습에 사용할 변수 x와 예측할 변수 y를 선택해줘야겠죠?\n",
    "</br>앞선 포스팅에서 우리가 예측해야 할 변수를 찾아놨습니다.\n",
    "</br>네, 바로 <font style=\"color : #6495ED ; font-weight : bold ; font-size : 25px;\">‘18~20_ride’</font> 입니다.\n",
    "\n",
    "</br>따라서, ‘18~20_ride’는 종속변수 y가 되었고, \n",
    "</br>y를 제외한 모든 컬럼이 독립변수 x가 되었습니다.\n",
    "\n"
   ]
  },
  {
   "cell_type": "code",
   "execution_count": null,
   "metadata": {
    "id": "q5adfXHF9ex5"
   },
   "outputs": [],
   "source": [
    "x = train[['date', 'bus_route_id', 'in_out', 'station_code', 'latitude', 'longitude',\n",
    "       '6~7_ride', '7~8_ride', '8~9_ride', '9~10_ride', '10~11_ride', '11~12_ride',\n",
    "       '6~7_takeoff', '7~8_takeoff', '8~9_takeoff', '9~10_takeoff', '10~11_takeoff', '11~12_takeoff']]\n",
    "\n",
    "y = train['18~20_ride']"
   ]
  },
  {
   "cell_type": "markdown",
   "metadata": {
    "id": "wnpywY2H-pmK"
   },
   "source": [
    "모델링에서는 무엇을 했었나요?\n",
    "</br>바로, 이 파트에서 모델의 종류에 대해 배웠습니다! 정말 여러 종류가 있었죠~\n",
    "\n",
    "</br>모델을 만들기위해 sklearn 모듈을 사용하고 \n",
    "</br>fit()과 predict() 메소드를 사용했습니다.\n",
    "\n",
    "</br>많은 종류 중에서 Stage2에서 사용한 모델은 <font style=\"color : #6495ED ; font-weight : bold ; font-size : 25px;\">\"LinearRegression\"</font> 이었습니다.\n",
    "\n",
    "</br>Stage3에서 어떤 모델링 방법을 사용할지 기대되지 않나요?!\n",
    "</br>끝까지 잘 따라와 주세요💛\n",
    "\n"
   ]
  },
  {
   "cell_type": "markdown",
   "metadata": {
    "id": "9e9Pn57X5-ck"
   },
   "source": [
    "# **1. 개념 알아가기**"
   ]
  },
  {
   "cell_type": "markdown",
   "metadata": {
    "id": "5OuUEXChkgRn"
   },
   "source": [
    "여러분 EDA를 들어보셨나요?\n",
    "\n",
    "</br>EDA란 탐색적 자료 분석(Exploratory Data Analysis)의 줄임말로 </br>데이터를 분석하고 결과를 내는 과정에 있어서 지속적으로 해당 데이터에 대한 </br><font style=\"color:#6495ED; font-weight : bold; font-size : 25px;\">“탐색과 이해”</font>를 기본으로 가져야 한다는 것을 의미합니다.\n",
    "\n",
    "</br>그렇다면 EDA는 무엇을 추구할까요?\n",
    "\n",
    "1️⃣ <font style=\"font-weight : bold\">저항성</font> : 자료의 일부 변동에 따른 영향을 비교적 작게 받는 성질을 보여준다\n",
    "</br>2️⃣ <font style=\"font-weight : bold\">잔차분석</font> : 각 관측값이 자료의 주경향으로부터 얼마나 벗어났는가를 보여준다\n",
    "</br>3️⃣ <font style=\"font-weight : bold\">자료의 재표현</font> : 원래 변수를 자료분석의 단순화를 위해 적당한 척도로 바꾼다\n",
    "</br>4️⃣ <font style=\"font-weight : bold\">현시성</font> : 그래프로부터 자료 안에 숨겨진 정보를 보여 준다\n",
    "\n",
    "따라서, 데이터를 다루는 사람이라면 누구나 <font style=\"font-weight : bold\">EDA</font>를 해야 합니다!\n",
    "\n",
    "</br>Stage2에서 얻은 결과를 토대로 이번 Stage3는 다양한 시각화를 시도 해보려고 합니다.\n",
    "</br>모두 준비됐나요?\n",
    "\n",
    "</br>그렇다면, 출발🌊\n"
   ]
  },
  {
   "cell_type": "markdown",
   "metadata": {
    "id": "KpBzUR9b6GPx"
   },
   "source": [
    "# **2. 기초통계 시각화**"
   ]
  },
  {
   "cell_type": "markdown",
   "metadata": {
    "id": "s-4x4y9NJfpT"
   },
   "source": [
    "데이터를 시각화 할 때 사용하는 라이브러리는 다양합니다! 저희는 그중에서도 가장 인기있고 초보자도 이해하기 쉬운  <font style=\"color:#99CCFF; font-weight : bold; font-size : 25px;\">matplotlib</font>을 가지고 시각화를 해보겠습니다.\n"
   ]
  },
  {
   "cell_type": "code",
   "execution_count": null,
   "metadata": {
    "id": "T9egGwO6Bs30"
   },
   "outputs": [],
   "source": [
    "import matplotlib.pyplot as plt\n",
    "import matplotlib"
   ]
  },
  {
   "cell_type": "markdown",
   "metadata": {
    "id": "4GMXA6PEJfpU"
   },
   "source": [
    "matplotlib.pyplot 모듈은 MATLAB과 비슷하게 명령어 스타일로 동작하는 함수의 모음입니다. </br>각각의 함수를 사용해서 간편하게 그래프를 만들고 변화를 줄 수 있습니다.\n",
    "\n",
    "예를 들어, 그래프 영역을 만들고, 다양한 선을 표현하고, 레이블로 꾸미는 등의 일을 할 수 있습니다.  \n",
    "\n",
    "코드에서 <font style=\"font-weight : bold\">pyplot</font>은 간단하게 <font style=\"font-weight : bold\">plt</font>로 작성합니다.\n",
    "</br><font style=\"color : #666666; font-weight : bold;\">(pyplot 그대로 작성하여도 아무 문제 없습니다.!!)</font>\n",
    "\n",
    "짧게 matplotlib을 이용해 그래프를 그려보겠습니다.!"
   ]
  },
  {
   "cell_type": "code",
   "execution_count": null,
   "metadata": {
    "colab": {
     "base_uri": "https://localhost:8080/",
     "height": 265
    },
    "executionInfo": {
     "elapsed": 17,
     "status": "ok",
     "timestamp": 1676180237935,
     "user": {
      "displayName": "성수빈",
      "userId": "07375498608712401337"
     },
     "user_tz": -540
    },
    "id": "9VFlJG48FWZL",
    "outputId": "c238330e-d747-43a8-e5c8-badca984e00c"
   },
   "outputs": [
    {
     "data": {
      "image/png": "[encoded data removed]",
      "text/plain": [
       "<Figure size 432x288 with 1 Axes>"
      ]
     },
     "metadata": {
      "needs_background": "light"
     },
     "output_type": "display_data"
    }
   ],
   "source": [
    "x_1=[1,2,3,4]\n",
    "y_1=[1,2,3,4]\n",
    "\n",
    "plt.plot(x_1,y_1)\n",
    "plt.show()"
   ]
  },
  {
   "cell_type": "markdown",
   "metadata": {
    "id": "ddOTm4J7FXSL"
   },
   "source": [
    "\n",
    "\n",
    "x와 y를 1,2,3,4로 지정해 show()함수로 그래프를 화면에 나타나도록 했습니다. \n",
    "\n",
    "matplotlib의 기본적인 원리를 이해하셨나요? </br>스테이지3 후반부에서 데이터의 화려한 변신을 확인해봅시다!\n"
   ]
  },
  {
   "cell_type": "markdown",
   "metadata": {
    "id": "KhBszlAq6uUj"
   },
   "source": [
    "## **2.0 기초 통계 분석**"
   ]
  },
  {
   "cell_type": "markdown",
   "metadata": {
    "id": "HQvnHEYT7HSf"
   },
   "source": [
    "데이터 분석의 가장 기초는 통계입니다. 데이터의 관점에서는 정말 다양한 분석방법이 있습니다. </br>stage3 에선 자료들의 특성을 알 수 있는 방법들을 설명해 드리고자 합니다!\n",
    "\n",
    "기초 통계는 크게 <font style=\"font-weight : bold\">중심 통계량, 변동 통계량, 형태 통계량, 관계 통계량</font>으로 나눌 수 있습니다.\n"
   ]
  },
  {
   "cell_type": "markdown",
   "metadata": {
    "id": "gZwqZ3mE7XBe"
   },
   "source": [
    "| **중심통계량**                                       | **변동 통계량**                                              | **형태 통계량**                                              | **관계 통계량**                                    |\n",
    "| :--------------------------------------------------- | ------------------------------------------------------------ | ------------------------------------------------------------ | -------------------------------------------------- |\n",
    "| **평균(mean)<br /><br />중앙값(median)<br /><br />최빈값(mode)** | **<br />범위(Range)<br /><br />편차(Deviation)<br /><br />변동(Variation)<br /><br />분산(Variance)<br /><br />표준편차(Standard Deviation)<br /><br />** | **왜도(Skewness)<br /><br />첨도(Kurtosis)<br /><br />이상치(outliner)** | **상관관계(Correlation)<br /><br />인과관계(Causality)** |\n",
    "\n",
    "각 개념을 알고 싶으시면 [링크](https://han-py.tistory.com/346)를 확인해 주세요.!\n"
   ]
  },
  {
   "cell_type": "markdown",
   "metadata": {
    "id": "6PPdEj7z8hvJ"
   },
   "source": [
    "파이썬으로 데이터 분석을 할때 자주 사용하는 기초 통계량도 한번 살펴 볼까요? </br>초록색으로 함수를 기록했습니다.   \n",
    "<br/>\n",
    "\n",
    ">📌 **기초 통계량**<br/>\n",
    "- 평균  <font color=\"339900\">mean()</font> <br/>\n",
    "- 중앙값 <font color=\"339900\">median()</font> <br/>\n",
    "- 최빈값 <font color=\"339900\">mode()</font><br/>\n",
    "- 최대값 <font color=\"339900\">max()</font><br/>\n",
    "- 최소값 <font color=\"339900\">min()</font><br/>\n",
    "- 분산 <font color=\"339900\">var()</font><br/>\n",
    "- 표준편차 <font color=\"339900\">std()</font><br/>\n",
    "\n",
    "<br/>\n",
    "여러분들도 다 어디선가 들어본 개념들이죠? \n",
    "</br>데이터프레임 열을 선택해 옆에 .을 찍고 함수를 사용하면 해당 통계를 알 수 있습니다! "
   ]
  },
  {
   "cell_type": "code",
   "execution_count": null,
   "metadata": {
    "colab": {
     "base_uri": "https://localhost:8080/"
    },
    "executionInfo": {
     "elapsed": 15,
     "status": "ok",
     "timestamp": 1676180237935,
     "user": {
      "displayName": "성수빈",
      "userId": "07375498608712401337"
     },
     "user_tz": -540
    },
    "id": "YbXD-REf87iO",
    "outputId": "fc5f2f83-777e-4a6c-8926-8b4afe677026"
   },
   "outputs": [
    {
     "data": {
      "text/plain": [
       "78.0"
      ]
     },
     "execution_count": 10,
     "metadata": {},
     "output_type": "execute_result"
    }
   ],
   "source": [
    "train['9~10_ride'].max()"
   ]
  },
  {
   "cell_type": "markdown",
   "metadata": {
    "id": "zNDb5Rsx88A2"
   },
   "source": [
    "값이 70으로 나옵니다.<br/>9시에서 10시 사이에 가장 많은 인원이 승차한 버스는 총 70명이 승차 했다는 정보를 알 수 있습니다.  \n",
    "\n",
    "그리고 이러한 통계적 분포를 한번에 확인 할 수 있는 함수가 있습니다. </br>바로 <font style=\"font-weight : bold\">describe()</font>입니다.\n",
    "\n",
    "</br>그럼 실습을 통해 train과 train['9~10_ride'] 열의 통계 분포를 확인해 봅시다! "
   ]
  },
  {
   "cell_type": "markdown",
   "metadata": {
    "id": "KdXZJ9Js9XGK"
   },
   "source": [
    "### **🔑참여 실습**\n",
    "\n",
    "\n",
    "### *Inst.*  \n",
    "train과 train['9~10_ride'] 의 통계 분포를 확인해 봅시다.\n",
    " \n",
    " \n",
    "### *Hint.*  \n",
    "describe()\n",
    "\n",
    "\n",
    "### *Solution.*"
   ]
  },
  {
   "cell_type": "code",
   "execution_count": null,
   "metadata": {
    "colab": {
     "base_uri": "https://localhost:8080/"
    },
    "executionInfo": {
     "elapsed": 332,
     "status": "ok",
     "timestamp": 1676180238257,
     "user": {
      "displayName": "성수빈",
      "userId": "07375498608712401337"
     },
     "user_tz": -540
    },
    "id": "LLkAy4CN60DS",
    "outputId": "959c5053-5d73-4c89-8a9f-e9caf49dbf1d"
   },
   "outputs": [
    {
     "data": {
      "text/plain": [
       "count    415423.000000\n",
       "mean          0.642475\n",
       "std           1.959844\n",
       "min           0.000000\n",
       "25%           0.000000\n",
       "50%           0.000000\n",
       "75%           1.000000\n",
       "max          78.000000\n",
       "Name: 9~10_ride, dtype: float64"
      ]
     },
     "execution_count": 11,
     "metadata": {},
     "output_type": "execute_result"
    }
   ],
   "source": [
    "train.describe()\n",
    "train['9~10_ride'].describe()"
   ]
  },
  {
   "cell_type": "markdown",
   "metadata": {
    "id": "DFTeIABF9oMn"
   },
   "source": [
    "그냥 describe()함수만 쓰면 <font style=\"font-weight : bold\">class</font>를 확인할 수 없습니다. 문자열 데이터로 이루어져있기 때문입니다. </br>그래서 문자열로 이루어진 column도 확인하기위해 <font style=\"font-weight : bold\">include</font> 인자값을 이용합니다!"
   ]
  },
  {
   "cell_type": "code",
   "execution_count": null,
   "metadata": {
    "colab": {
     "base_uri": "https://localhost:8080/",
     "height": 364
    },
    "executionInfo": {
     "elapsed": 372,
     "status": "ok",
     "timestamp": 1676180238626,
     "user": {
      "displayName": "성수빈",
      "userId": "07375498608712401337"
     },
     "user_tz": -540
    },
    "id": "yToyPAGJ9qYz",
    "outputId": "ebc9edeb-cf67-4491-9aca-7ed0c8915584"
   },
   "outputs": [
    {
     "data": {
      "text/html": [
       "\n",
       "  <div id=\"df-95a5d60b-1664-4c32-a329-714350789820\">\n",
       "    <div class=\"colab-df-container\">\n",
       "      <div>\n",
       "<style scoped>\n",
       "    .dataframe tbody tr th:only-of-type {\n",
       "        vertical-align: middle;\n",
       "    }\n",
       "\n",
       "    .dataframe tbody tr th {\n",
       "        vertical-align: top;\n",
       "    }\n",
       "\n",
       "    .dataframe thead th {\n",
       "        text-align: right;\n",
       "    }\n",
       "</style>\n",
       "<table border=\"1\" class=\"dataframe\">\n",
       "  <thead>\n",
       "    <tr style=\"text-align: right;\">\n",
       "      <th></th>\n",
       "      <th>date</th>\n",
       "      <th>bus_route_id</th>\n",
       "      <th>in_out</th>\n",
       "      <th>station_code</th>\n",
       "      <th>latitude</th>\n",
       "      <th>longitude</th>\n",
       "      <th>6~7_ride</th>\n",
       "      <th>7~8_ride</th>\n",
       "      <th>8~9_ride</th>\n",
       "      <th>9~10_ride</th>\n",
       "      <th>10~11_ride</th>\n",
       "      <th>11~12_ride</th>\n",
       "      <th>6~7_takeoff</th>\n",
       "      <th>7~8_takeoff</th>\n",
       "      <th>8~9_takeoff</th>\n",
       "      <th>9~10_takeoff</th>\n",
       "      <th>10~11_takeoff</th>\n",
       "      <th>11~12_takeoff</th>\n",
       "      <th>18~20_ride</th>\n",
       "    </tr>\n",
       "  </thead>\n",
       "  <tbody>\n",
       "    <tr>\n",
       "      <th>count</th>\n",
       "      <td>415423.000000</td>\n",
       "      <td>4.154230e+05</td>\n",
       "      <td>415423.000000</td>\n",
       "      <td>4.154230e+05</td>\n",
       "      <td>415423.000000</td>\n",
       "      <td>415423.000000</td>\n",
       "      <td>415423.000000</td>\n",
       "      <td>415423.000000</td>\n",
       "      <td>415423.000000</td>\n",
       "      <td>415423.000000</td>\n",
       "      <td>415423.000000</td>\n",
       "      <td>415423.000000</td>\n",
       "      <td>415423.000000</td>\n",
       "      <td>415423.000000</td>\n",
       "      <td>415423.000000</td>\n",
       "      <td>415423.000000</td>\n",
       "      <td>415423.000000</td>\n",
       "      <td>415423.000000</td>\n",
       "      <td>415423.000000</td>\n",
       "    </tr>\n",
       "    <tr>\n",
       "      <th>mean</th>\n",
       "      <td>2.719349</td>\n",
       "      <td>2.691935e+07</td>\n",
       "      <td>0.016665</td>\n",
       "      <td>4.209311e+04</td>\n",
       "      <td>33.420375</td>\n",
       "      <td>126.533574</td>\n",
       "      <td>0.305893</td>\n",
       "      <td>0.829699</td>\n",
       "      <td>0.815350</td>\n",
       "      <td>0.642475</td>\n",
       "      <td>0.599618</td>\n",
       "      <td>0.579393</td>\n",
       "      <td>0.112870</td>\n",
       "      <td>0.344870</td>\n",
       "      <td>0.516481</td>\n",
       "      <td>0.430922</td>\n",
       "      <td>0.408001</td>\n",
       "      <td>0.402874</td>\n",
       "      <td>1.242095</td>\n",
       "    </tr>\n",
       "    <tr>\n",
       "      <th>std</th>\n",
       "      <td>2.017205</td>\n",
       "      <td>3.924652e+06</td>\n",
       "      <td>0.128013</td>\n",
       "      <td>4.971504e+05</td>\n",
       "      <td>0.107996</td>\n",
       "      <td>0.140986</td>\n",
       "      <td>1.109766</td>\n",
       "      <td>2.255116</td>\n",
       "      <td>2.317561</td>\n",
       "      <td>1.959844</td>\n",
       "      <td>1.885941</td>\n",
       "      <td>1.942137</td>\n",
       "      <td>0.597714</td>\n",
       "      <td>1.279179</td>\n",
       "      <td>1.658850</td>\n",
       "      <td>1.485124</td>\n",
       "      <td>1.412839</td>\n",
       "      <td>1.446080</td>\n",
       "      <td>4.722287</td>\n",
       "    </tr>\n",
       "    <tr>\n",
       "      <th>min</th>\n",
       "      <td>0.000000</td>\n",
       "      <td>4.270000e+06</td>\n",
       "      <td>0.000000</td>\n",
       "      <td>1.000000e+00</td>\n",
       "      <td>33.208350</td>\n",
       "      <td>126.165040</td>\n",
       "      <td>0.000000</td>\n",
       "      <td>0.000000</td>\n",
       "      <td>0.000000</td>\n",
       "      <td>0.000000</td>\n",
       "      <td>0.000000</td>\n",
       "      <td>0.000000</td>\n",
       "      <td>0.000000</td>\n",
       "      <td>0.000000</td>\n",
       "      <td>0.000000</td>\n",
       "      <td>0.000000</td>\n",
       "      <td>0.000000</td>\n",
       "      <td>0.000000</td>\n",
       "      <td>0.000000</td>\n",
       "    </tr>\n",
       "    <tr>\n",
       "      <th>25%</th>\n",
       "      <td>1.000000</td>\n",
       "      <td>2.346000e+07</td>\n",
       "      <td>0.000000</td>\n",
       "      <td>3.200000e+02</td>\n",
       "      <td>33.291080</td>\n",
       "      <td>126.475780</td>\n",
       "      <td>0.000000</td>\n",
       "      <td>0.000000</td>\n",
       "      <td>0.000000</td>\n",
       "      <td>0.000000</td>\n",
       "      <td>0.000000</td>\n",
       "      <td>0.000000</td>\n",
       "      <td>0.000000</td>\n",
       "      <td>0.000000</td>\n",
       "      <td>0.000000</td>\n",
       "      <td>0.000000</td>\n",
       "      <td>0.000000</td>\n",
       "      <td>0.000000</td>\n",
       "      <td>0.000000</td>\n",
       "    </tr>\n",
       "    <tr>\n",
       "      <th>50%</th>\n",
       "      <td>3.000000</td>\n",
       "      <td>2.803000e+07</td>\n",
       "      <td>0.000000</td>\n",
       "      <td>1.130000e+03</td>\n",
       "      <td>33.478850</td>\n",
       "      <td>126.529770</td>\n",
       "      <td>0.000000</td>\n",
       "      <td>0.000000</td>\n",
       "      <td>0.000000</td>\n",
       "      <td>0.000000</td>\n",
       "      <td>0.000000</td>\n",
       "      <td>0.000000</td>\n",
       "      <td>0.000000</td>\n",
       "      <td>0.000000</td>\n",
       "      <td>0.000000</td>\n",
       "      <td>0.000000</td>\n",
       "      <td>0.000000</td>\n",
       "      <td>0.000000</td>\n",
       "      <td>0.000000</td>\n",
       "    </tr>\n",
       "    <tr>\n",
       "      <th>75%</th>\n",
       "      <td>4.000000</td>\n",
       "      <td>3.003000e+07</td>\n",
       "      <td>0.000000</td>\n",
       "      <td>2.226000e+03</td>\n",
       "      <td>33.500020</td>\n",
       "      <td>126.575890</td>\n",
       "      <td>0.000000</td>\n",
       "      <td>1.000000</td>\n",
       "      <td>1.000000</td>\n",
       "      <td>1.000000</td>\n",
       "      <td>0.000000</td>\n",
       "      <td>0.000000</td>\n",
       "      <td>0.000000</td>\n",
       "      <td>0.000000</td>\n",
       "      <td>0.000000</td>\n",
       "      <td>0.000000</td>\n",
       "      <td>0.000000</td>\n",
       "      <td>0.000000</td>\n",
       "      <td>1.000000</td>\n",
       "    </tr>\n",
       "    <tr>\n",
       "      <th>max</th>\n",
       "      <td>6.000000</td>\n",
       "      <td>3.282000e+07</td>\n",
       "      <td>1.000000</td>\n",
       "      <td>6.115101e+06</td>\n",
       "      <td>33.963640</td>\n",
       "      <td>126.965670</td>\n",
       "      <td>85.000000</td>\n",
       "      <td>94.000000</td>\n",
       "      <td>136.000000</td>\n",
       "      <td>78.000000</td>\n",
       "      <td>124.000000</td>\n",
       "      <td>99.000000</td>\n",
       "      <td>45.000000</td>\n",
       "      <td>66.000000</td>\n",
       "      <td>59.000000</td>\n",
       "      <td>65.000000</td>\n",
       "      <td>52.000000</td>\n",
       "      <td>81.000000</td>\n",
       "      <td>272.000000</td>\n",
       "    </tr>\n",
       "  </tbody>\n",
       "</table>\n",
       "</div>\n",
       "      <button class=\"colab-df-convert\" onclick=\"convertToInteractive('df-95a5d60b-1664-4c32-a329-714350789820')\"\n",
       "              title=\"Convert this dataframe to an interactive table.\"\n",
       "              style=\"display:none;\">\n",
       "        \n",
       "  <svg xmlns=\"http://www.w3.org/2000/svg\" height=\"24px\"viewBox=\"0 0 24 24\"\n",
       "       width=\"24px\">\n",
       "    <path d=\"M0 0h24v24H0V0z\" fill=\"none\"/>\n",
       "    <path d=\"M18.56 5.44l.94 2.06.94-2.06 2.06-.94-2.06-.94-.94-2.06-.94 2.06-2.06.94zm-11 1L8.5 8.5l.94-2.06 2.06-.94-2.06-.94L8.5 2.5l-.94 2.06-2.06.94zm10 10l.94 2.06.94-2.06 2.06-.94-2.06-.94-.94-2.06-.94 2.06-2.06.94z\"/><path d=\"M17.41 7.96l-1.37-1.37c-.4-.4-.92-.59-1.43-.59-.52 0-1.04.2-1.43.59L10.3 9.45l-7.72 7.72c-.78.78-.78 2.05 0 2.83L4 21.41c.39.39.9.59 1.41.59.51 0 1.02-.2 1.41-.59l7.78-7.78 2.81-2.81c.8-.78.8-2.07 0-2.86zM5.41 20L4 18.59l7.72-7.72 1.47 1.35L5.41 20z\"/>\n",
       "  </svg>\n",
       "      </button>\n",
       "      \n",
       "  <style>\n",
       "    .colab-df-container {\n",
       "      display:flex;\n",
       "      flex-wrap:wrap;\n",
       "      gap: 12px;\n",
       "    }\n",
       "\n",
       "    .colab-df-convert {\n",
       "      background-color: #E8F0FE;\n",
       "      border: none;\n",
       "      border-radius: 50%;\n",
       "      cursor: pointer;\n",
       "      display: none;\n",
       "      fill: #1967D2;\n",
       "      height: 32px;\n",
       "      padding: 0 0 0 0;\n",
       "      width: 32px;\n",
       "    }\n",
       "\n",
       "    .colab-df-convert:hover {\n",
       "      background-color: #E2EBFA;\n",
       "      box-shadow: 0px 1px 2px rgba(60, 64, 67, 0.3), 0px 1px 3px 1px rgba(60, 64, 67, 0.15);\n",
       "      fill: #174EA6;\n",
       "    }\n",
       "\n",
       "    [theme=dark] .colab-df-convert {\n",
       "      background-color: #3B4455;\n",
       "      fill: #D2E3FC;\n",
       "    }\n",
       "\n",
       "    [theme=dark] .colab-df-convert:hover {\n",
       "      background-color: #434B5C;\n",
       "      box-shadow: 0px 1px 3px 1px rgba(0, 0, 0, 0.15);\n",
       "      filter: drop-shadow(0px 1px 2px rgba(0, 0, 0, 0.3));\n",
       "      fill: #FFFFFF;\n",
       "    }\n",
       "  </style>\n",
       "\n",
       "      <script>\n",
       "        const buttonEl =\n",
       "          document.querySelector('#df-95a5d60b-1664-4c32-a329-714350789820 button.colab-df-convert');\n",
       "        buttonEl.style.display =\n",
       "          google.colab.kernel.accessAllowed ? 'block' : 'none';\n",
       "\n",
       "        async function convertToInteractive(key) {\n",
       "          const element = document.querySelector('#df-95a5d60b-1664-4c32-a329-714350789820');\n",
       "          const dataTable =\n",
       "            await google.colab.kernel.invokeFunction('convertToInteractive',\n",
       "                                                     [key], {});\n",
       "          if (!dataTable) return;\n",
       "\n",
       "          const docLinkHtml = 'Like what you see? Visit the ' +\n",
       "            '<a target=\"_blank\" href=https://colab.research.google.com/notebooks/data_table.ipynb>data table notebook</a>'\n",
       "            + ' to learn more about interactive tables.';\n",
       "          element.innerHTML = '';\n",
       "          dataTable['output_type'] = 'display_data';\n",
       "          await google.colab.output.renderOutput(dataTable, element);\n",
       "          const docLink = document.createElement('div');\n",
       "          docLink.innerHTML = docLinkHtml;\n",
       "          element.appendChild(docLink);\n",
       "        }\n",
       "      </script>\n",
       "    </div>\n",
       "  </div>\n",
       "  "
      ],
      "text/plain": [
       "                date  bus_route_id         in_out  station_code  \\\n",
       "count  415423.000000  4.154230e+05  415423.000000  4.154230e+05   \n",
       "mean        2.719349  2.691935e+07       0.016665  4.209311e+04   \n",
       "std         2.017205  3.924652e+06       0.128013  4.971504e+05   \n",
       "min         0.000000  4.270000e+06       0.000000  1.000000e+00   \n",
       "25%         1.000000  2.346000e+07       0.000000  3.200000e+02   \n",
       "50%         3.000000  2.803000e+07       0.000000  1.130000e+03   \n",
       "75%         4.000000  3.003000e+07       0.000000  2.226000e+03   \n",
       "max         6.000000  3.282000e+07       1.000000  6.115101e+06   \n",
       "\n",
       "            latitude      longitude       6~7_ride       7~8_ride  \\\n",
       "count  415423.000000  415423.000000  415423.000000  415423.000000   \n",
       "mean       33.420375     126.533574       0.305893       0.829699   \n",
       "std         0.107996       0.140986       1.109766       2.255116   \n",
       "min        33.208350     126.165040       0.000000       0.000000   \n",
       "25%        33.291080     126.475780       0.000000       0.000000   \n",
       "50%        33.478850     126.529770       0.000000       0.000000   \n",
       "75%        33.500020     126.575890       0.000000       1.000000   \n",
       "max        33.963640     126.965670      85.000000      94.000000   \n",
       "\n",
       "            8~9_ride      9~10_ride     10~11_ride     11~12_ride  \\\n",
       "count  415423.000000  415423.000000  415423.000000  415423.000000   \n",
       "mean        0.815350       0.642475       0.599618       0.579393   \n",
       "std         2.317561       1.959844       1.885941       1.942137   \n",
       "min         0.000000       0.000000       0.000000       0.000000   \n",
       "25%         0.000000       0.000000       0.000000       0.000000   \n",
       "50%         0.000000       0.000000       0.000000       0.000000   \n",
       "75%         1.000000       1.000000       0.000000       0.000000   \n",
       "max       136.000000      78.000000     124.000000      99.000000   \n",
       "\n",
       "         6~7_takeoff    7~8_takeoff    8~9_takeoff   9~10_takeoff  \\\n",
       "count  415423.000000  415423.000000  415423.000000  415423.000000   \n",
       "mean        0.112870       0.344870       0.516481       0.430922   \n",
       "std         0.597714       1.279179       1.658850       1.485124   \n",
       "min         0.000000       0.000000       0.000000       0.000000   \n",
       "25%         0.000000       0.000000       0.000000       0.000000   \n",
       "50%         0.000000       0.000000       0.000000       0.000000   \n",
       "75%         0.000000       0.000000       0.000000       0.000000   \n",
       "max        45.000000      66.000000      59.000000      65.000000   \n",
       "\n",
       "       10~11_takeoff  11~12_takeoff     18~20_ride  \n",
       "count  415423.000000  415423.000000  415423.000000  \n",
       "mean        0.408001       0.402874       1.242095  \n",
       "std         1.412839       1.446080       4.722287  \n",
       "min         0.000000       0.000000       0.000000  \n",
       "25%         0.000000       0.000000       0.000000  \n",
       "50%         0.000000       0.000000       0.000000  \n",
       "75%         0.000000       0.000000       1.000000  \n",
       "max        52.000000      81.000000     272.000000  "
      ]
     },
     "execution_count": 12,
     "metadata": {},
     "output_type": "execute_result"
    }
   ],
   "source": [
    "train.describe(include='all')"
   ]
  },
  {
   "cell_type": "markdown",
   "metadata": {
    "id": "NgEt3Oog9r2R"
   },
   "source": [
    "include='all'을 추가하면 unique, top,  freq 값을 추가적으로 확인할 수 있습니다.  \n",
    "\n",
    "\n",
    "<br/>\n",
    "\n",
    "데이터를 공부해봤거나 공모전이나 경진대회를 준비해본 사람이라면, </br>통계량 중에서 가장 눈에 띄는 통계량은 관계통계량이라는 것을 아실겁니다. </br>저희는 그중에서도 <font style=\"color:#99CCFF; font-weight : bold; font-size : 25px;\">상관관계</font>에 대해 더 자세히 파헤쳐 보려고 합니다! \n"
   ]
  },
  {
   "cell_type": "markdown",
   "metadata": {
    "id": "JUECkvQq6YE_"
   },
   "source": [
    "## **2.1 상관관계 분석**\n",
    "\n",
    "*주의! 상관관계와 인관관계는 다릅니다 *\n",
    "\n",
    "분포에서의 관계가 있음을 알려주는 것이지, 원인과 결과의 관계는 아니라는 것 명심해주세요! 😀"
   ]
  },
  {
   "cell_type": "markdown",
   "metadata": {
    "id": "184NPq6--ZRX"
   },
   "source": [
    "### **(1)  개념 정리**"
   ]
  },
  {
   "cell_type": "markdown",
   "metadata": {
    "id": "oxOoJKjt-qG7"
   },
   "source": [
    "- <font style=\"font-weight : bold\">상관 분석(상관관계)</font> : 두 변수 간의 선형적 관계를 상관 계수로 표현하는 것\n",
    "-  <font style=\"font-weight : bold\">공분산</font> : 2개의 변수에 대한 상관 정도. \n",
    "</br>2개의 변수 중 하나의 값이 상승하는 경향을 보이면 다른 값도 상승하는 경향을 수치로 표현한 것.\n",
    "- <font style=\"font-weight : bold\">상관계수</font> : 공분산의 값을 따라서 이를 -1과 1 사이 값으로 변환한 것\n",
    "\n",
    "<br/>\n",
    "\n",
    "상관 계수는 공분산만으로 두 확률 변수의 상관 관계를 구한다면 </br>두 변수의 단위 크기에 영향을 받을 수 있습니다. <br/>\n",
    "그래서 변환이 필요합니다!\n"
   ]
  },
  {
   "cell_type": "markdown",
   "metadata": {
    "id": "zej-t871BtGW"
   },
   "source": [
    "<br/>\n",
    "분자가 공분산을 나타내고 분모의 루트 안의 값을 보면, 변수 x의 분산과 변수 y의 분산으로 표현되는 것을 알 수 있다. 아래의 식이 상관관계의 식이라고 할 수 있다. 좀 더 풀어서 말하면 분자는 X와 Y가 함께 변하는 정도를 나타내고, 분모는 X와 Y가 각각 변하는 정도를 표현한다고 생각하면 된다. \n",
    "\n",
    "<p align=\"center\"><img src=\"https://img1.daumcdn.net/thumb/R1280x0/?scode=mtistory2&fname=https%3A%2F%2Fblog.kakaocdn.net%2Fdn%2FBW52R%2Fbtq09krtxKh%2FKckEp1tfp8bJGvVp215YT1%2Fimg.png\" alt=\"img\" style=\"zoom:30%;\" /></p>\n",
    "\n"
   ]
  },
  {
   "cell_type": "markdown",
   "metadata": {
    "id": "FTQeLuncGSgP"
   },
   "source": [
    "### **(2) 상관계수**"
   ]
  },
  {
   "cell_type": "markdown",
   "metadata": {
    "id": "S3JQWZIrIKaM"
   },
   "source": [
    "상관계수를 산정하는 방식에는 <font style=\"font-weight : bold\">피어슨 상관계수, 켄달-타우 상관계수, 스피어만 상관계수</font>가 있습니다.\n",
    "\n",
    " <br/>\n",
    "\n",
    "\n",
    ">**피어슨 상관계수**\n",
    "\n",
    " 두 변수 간의 선형 상관관계를 계량화 한 수치입니다. </br>코시-슈바르츠 부등식에 의해 +1과 -1사이의 값을 가집니다.\n",
    "\n",
    "<font style=\"font-weight : bold\">+1의 경우</font> 완벽한 양의 선형 상관 관계, </br><font style=\"font-weight : bold\">-1의 경우</font> 완벽한 음의 상관관계, </br><font style=\"font-weight : bold\">0의 경우</font> 선형 상관관계를 갖지 않습니다.\n",
    "\n",
    "\n",
    "\n",
    "<p align=\"center\"><img src=\"https://upload.wikimedia.org/wikipedia/commons/3/34/Correlation_coefficient.png\" alt=\"img\" style=\"zoom:30%;\" /></p>\n",
    "<font style=\"color : #666666; font-weight : bold;\">출처 : 위키피디아 '피어슨 상관계수' 항목</font>\n"
   ]
  },
  {
   "cell_type": "markdown",
   "metadata": {
    "id": "lUnCe_bPKrEG"
   },
   "source": [
    ">**켄달-타우상관계수**\n",
    "\n",
    "켄달-타우 상관계수는 두 변수들간의 순위를 비교해서 연관성을 계산하는 방식입니다.\n",
    "\n",
    "예를 들어 어린이의 나이와 키에 대한 아래와 같은 순위 데이터를 보면, </br>나이순위에 따라 키의 순위가 동일한 것을 알 수 있습니다.\n",
    "\n",
    "\n",
    "\n",
    "| 순위   |  A   |  B   |  C   |  D   |  E   |\n",
    "| ----   | :---: | :---: | :--: | :--: | :--: |\n",
    "| 나이   |  14  |  15  |  16  |  17  |  18  |\n",
    "| 키     | 172  | 174  | 176  | 178  | 180  |\n",
    "\n",
    "\n",
    "이런 경우 완벽한 양의 상관 계수, +1이 됩니다.\n",
    "\n",
    "<br/>"
   ]
  },
  {
   "cell_type": "markdown",
   "metadata": {
    "id": "d33pTwyFOFNj"
   },
   "source": [
    ">**스피어만 등위 상관계수**\n",
    "\n",
    "스피어만 상관계수는 두 변수의 순위 값 사이의 피어슨 상관 계수와 같습니다.<BR/>\n",
    "즉, 순서척도가 적용되는 경우에는 스피어만 상관계수가, 간격척도가 적용되는 경우에는 피어슨 상관계수가 적용됩니다.<br/>\n",
    "이상치가 있거나 표본의 크기가 작을 때 유용하게 사용됩니다. 피어슨 상관 계수에 비해 이상치에 덜 민감하기 때문입니다.\n",
    "\n",
    "![img](https://ifh.cc/g/WcPTVC.png)\n",
    "\n",
    "출처: 위키피디아 스피어만 상관계수 항목\n",
    " <br/> \n",
    "위 그래프처럼 두 변수 X와 Y가 선형 관계가 아니더라도 스피어만 상관 계수는 1이 될 수 있다. 하지만 +1의 피어슨 상관 계수를 보장하지는 않는다.<br/>  \n",
    "\n",
    "\n",
    "모든 feature들의 의미를 헤아리고, <font style=\"font-weight : bold\">\"유의미한 feature를 찾는 것\"</font>은 분석에 있어 큰 도움이 됩니다.<br>\n",
    "\n",
    "그러나, feature의 수가 50개, 100개가 넘는다면? </br>모든 feture들을 헤아리기까지 많은 시간과 노력이 들겁니다! </br>\n",
    "\n",
    "그래서 feture수가 많을 때 corr() 상관관계를 통해서 상관계수를 구할 수 있습니다.!  \n",
    "</br>그럼 실습을 통해 train의 상관계수를 구해봅시다!"
   ]
  },
  {
   "cell_type": "markdown",
   "metadata": {
    "id": "82YgyA9o3E4K"
   },
   "source": [
    "⭐ train, test data는 <font style=\"font-weight : bold\">오전</font> 시간대의 경우, <font style=\"font-weight : bold\">1시간마다의 승하차 인원수</font>를 표시하고 있습니다. \n",
    "\n",
    "하지만 저희가 예측하려고 하는 <font style=\"font-weight : bold\">퇴근</font> 시간대의 경우, <font style=\"font-weight : bold\">2시간에 해당되는 승차 인원</font>을 예측하여합니다.\n",
    "\n",
    " 전에 오전 시간대에 승차, 하차 인원수들도 2시간 간격으로 합쳐 주려고 합니다. \n"
   ]
  },
  {
   "cell_type": "markdown",
   "metadata": {
    "id": "MXNe-8RH7B8N"
   },
   "source": [
    "그리고 1시간 간격을 2시간 간격으로 바꿔줍니다."
   ]
  },
  {
   "cell_type": "code",
   "execution_count": null,
   "metadata": {
    "id": "eXPDDjVT7BP8"
   },
   "outputs": [],
   "source": [
    "train['6~8_ride']=train['6~7_ride']+train['7~8_ride'] # 6 ~ 8시 승차인원\n",
    "train['8~10_ride']=train['8~9_ride']+train['9~10_ride']\n",
    "train['10~12_ride']=train['10~11_ride']+train['11~12_ride']\n",
    "\n",
    "train['6~8_off']=train['6~7_takeoff']+train['7~8_takeoff'] # 6 ~ 8시 하차인원\n",
    "train['8~10_off']=train['8~9_takeoff']+train['9~10_takeoff']\n",
    "train['10~12_off']=train['10~11_takeoff']+train['11~12_takeoff']\n"
   ]
  },
  {
   "cell_type": "markdown",
   "metadata": {
    "id": "DmilhXBW7MHC"
   },
   "source": [
    "1시간 간격의 열은 삭제하겠습니다."
   ]
  },
  {
   "cell_type": "code",
   "execution_count": null,
   "metadata": {
    "id": "bInP68-j7LZJ"
   },
   "outputs": [],
   "source": [
    "train=train.drop(['6~7_ride','7~8_ride','8~9_ride','9~10_ride','10~11_ride','11~12_ride',\n",
    "              '6~7_takeoff','7~8_takeoff','8~9_takeoff','9~10_takeoff','9~10_takeoff','10~11_takeoff','11~12_takeoff'],axis=1)"
   ]
  },
  {
   "cell_type": "markdown",
   "metadata": {
    "id": "0iaDeAX0Blm9"
   },
   "source": [
    "test데이터도 2시간 간격으로 맞춰봅시다."
   ]
  },
  {
   "cell_type": "code",
   "execution_count": null,
   "metadata": {
    "id": "oGgYC6hiETvS"
   },
   "outputs": [],
   "source": [
    "test['6~8_ride']=test['6~7_ride']+test['7~8_ride'] # 6 ~ 8시 승차인원\n",
    "test['8~10_ride']=test['8~9_ride']+test['9~10_ride']\n",
    "test['10~12_ride']=test['10~11_ride']+test['11~12_ride']\n",
    "\n",
    "test['6~8_off']=test['6~7_takeoff']+test['7~8_takeoff'] # 6 ~ 8시 하차인원\n",
    "test['8~10_off']=test['8~9_takeoff']+test['9~10_takeoff']\n",
    "test['10~12_off']=test['10~11_takeoff']+test['11~12_takeoff']\n",
    "\n",
    "\n",
    "test=test.drop(['6~7_ride','7~8_ride','8~9_ride','9~10_ride','10~11_ride','11~12_ride',\n",
    "              '6~7_takeoff','7~8_takeoff','8~9_takeoff','9~10_takeoff','9~10_takeoff','10~11_takeoff','11~12_takeoff'],axis=1)"
   ]
  },
  {
   "cell_type": "markdown",
   "metadata": {
    "id": "6n4glmPxD9th"
   },
   "source": [
    "변수 x, y의 값도 바꿔봅시다. "
   ]
  },
  {
   "cell_type": "code",
   "execution_count": null,
   "metadata": {
    "id": "Y_ynFLiIB8sE"
   },
   "outputs": [],
   "source": [
    "x = train[['date', 'bus_route_id', 'in_out', 'station_code', 'latitude', 'longitude',\n",
    "       \"6~8_ride\",  \"8~10_ride\", \"10~12_ride\" , \n",
    "       \"6~8_off\", \"8~10_off\",  \"10~12_off\"]]\n",
    "\n",
    "y = train['18~20_ride']"
   ]
  },
  {
   "cell_type": "markdown",
   "metadata": {
    "id": "88BK9OPH_YGv"
   },
   "source": [
    "### **🔑참여 실습**\n",
    "\n",
    "\n",
    "### *Inst.*  \n",
    "train의 상관계수를 구해봅시다.\n",
    "\n",
    "\n",
    "### *Hint.*  \n",
    "corr()\n",
    "\n",
    "\n",
    "### *Solution.*\n"
   ]
  },
  {
   "cell_type": "code",
   "execution_count": null,
   "metadata": {
    "colab": {
     "base_uri": "https://localhost:8080/",
     "height": 457
    },
    "executionInfo": {
     "elapsed": 522,
     "status": "ok",
     "timestamp": 1676180239492,
     "user": {
      "displayName": "성수빈",
      "userId": "07375498608712401337"
     },
     "user_tz": -540
    },
    "id": "9-MULJq4_YGv",
    "outputId": "1252c319-6834-4698-c798-9d4522bdc1d3"
   },
   "outputs": [
    {
     "data": {
      "text/html": [
       "\n",
       "  <div id=\"df-acdc242b-18da-4518-9f91-024acc9f987c\">\n",
       "    <div class=\"colab-df-container\">\n",
       "      <div>\n",
       "<style scoped>\n",
       "    .dataframe tbody tr th:only-of-type {\n",
       "        vertical-align: middle;\n",
       "    }\n",
       "\n",
       "    .dataframe tbody tr th {\n",
       "        vertical-align: top;\n",
       "    }\n",
       "\n",
       "    .dataframe thead th {\n",
       "        text-align: right;\n",
       "    }\n",
       "</style>\n",
       "<table border=\"1\" class=\"dataframe\">\n",
       "  <thead>\n",
       "    <tr style=\"text-align: right;\">\n",
       "      <th></th>\n",
       "      <th>date</th>\n",
       "      <th>bus_route_id</th>\n",
       "      <th>in_out</th>\n",
       "      <th>station_code</th>\n",
       "      <th>latitude</th>\n",
       "      <th>longitude</th>\n",
       "      <th>18~20_ride</th>\n",
       "      <th>6~8_ride</th>\n",
       "      <th>8~10_ride</th>\n",
       "      <th>10~12_ride</th>\n",
       "      <th>6~8_off</th>\n",
       "      <th>8~10_off</th>\n",
       "      <th>10~12_off</th>\n",
       "    </tr>\n",
       "  </thead>\n",
       "  <tbody>\n",
       "    <tr>\n",
       "      <th>date</th>\n",
       "      <td>1.000000</td>\n",
       "      <td>-0.023889</td>\n",
       "      <td>0.006040</td>\n",
       "      <td>0.004411</td>\n",
       "      <td>0.011928</td>\n",
       "      <td>-0.001481</td>\n",
       "      <td>-0.028060</td>\n",
       "      <td>-0.090015</td>\n",
       "      <td>-0.054875</td>\n",
       "      <td>-0.009109</td>\n",
       "      <td>-0.042991</td>\n",
       "      <td>-0.049812</td>\n",
       "      <td>-0.011804</td>\n",
       "    </tr>\n",
       "    <tr>\n",
       "      <th>bus_route_id</th>\n",
       "      <td>-0.023889</td>\n",
       "      <td>1.000000</td>\n",
       "      <td>-0.101738</td>\n",
       "      <td>-0.015897</td>\n",
       "      <td>-0.196758</td>\n",
       "      <td>0.010187</td>\n",
       "      <td>-0.143702</td>\n",
       "      <td>-0.121064</td>\n",
       "      <td>-0.152482</td>\n",
       "      <td>-0.147186</td>\n",
       "      <td>-0.075922</td>\n",
       "      <td>-0.126992</td>\n",
       "      <td>-0.129819</td>\n",
       "    </tr>\n",
       "    <tr>\n",
       "      <th>in_out</th>\n",
       "      <td>0.006040</td>\n",
       "      <td>-0.101738</td>\n",
       "      <td>1.000000</td>\n",
       "      <td>0.093776</td>\n",
       "      <td>0.009019</td>\n",
       "      <td>-0.065886</td>\n",
       "      <td>0.022116</td>\n",
       "      <td>0.018108</td>\n",
       "      <td>0.027518</td>\n",
       "      <td>0.029083</td>\n",
       "      <td>0.026249</td>\n",
       "      <td>0.021264</td>\n",
       "      <td>0.009070</td>\n",
       "    </tr>\n",
       "    <tr>\n",
       "      <th>station_code</th>\n",
       "      <td>0.004411</td>\n",
       "      <td>-0.015897</td>\n",
       "      <td>0.093776</td>\n",
       "      <td>1.000000</td>\n",
       "      <td>-0.048951</td>\n",
       "      <td>-0.011303</td>\n",
       "      <td>0.034360</td>\n",
       "      <td>0.057757</td>\n",
       "      <td>0.064493</td>\n",
       "      <td>0.057443</td>\n",
       "      <td>0.016212</td>\n",
       "      <td>0.025355</td>\n",
       "      <td>0.028111</td>\n",
       "    </tr>\n",
       "    <tr>\n",
       "      <th>latitude</th>\n",
       "      <td>0.011928</td>\n",
       "      <td>-0.196758</td>\n",
       "      <td>0.009019</td>\n",
       "      <td>-0.048951</td>\n",
       "      <td>1.000000</td>\n",
       "      <td>0.134208</td>\n",
       "      <td>0.079261</td>\n",
       "      <td>0.070533</td>\n",
       "      <td>0.076039</td>\n",
       "      <td>0.067888</td>\n",
       "      <td>0.059384</td>\n",
       "      <td>0.071983</td>\n",
       "      <td>0.066264</td>\n",
       "    </tr>\n",
       "    <tr>\n",
       "      <th>longitude</th>\n",
       "      <td>-0.001481</td>\n",
       "      <td>0.010187</td>\n",
       "      <td>-0.065886</td>\n",
       "      <td>-0.011303</td>\n",
       "      <td>0.134208</td>\n",
       "      <td>1.000000</td>\n",
       "      <td>-0.021368</td>\n",
       "      <td>-0.016122</td>\n",
       "      <td>-0.016620</td>\n",
       "      <td>-0.009165</td>\n",
       "      <td>-0.021890</td>\n",
       "      <td>-0.026493</td>\n",
       "      <td>-0.007275</td>\n",
       "    </tr>\n",
       "    <tr>\n",
       "      <th>18~20_ride</th>\n",
       "      <td>-0.028060</td>\n",
       "      <td>-0.143702</td>\n",
       "      <td>0.022116</td>\n",
       "      <td>0.034360</td>\n",
       "      <td>0.079261</td>\n",
       "      <td>-0.021368</td>\n",
       "      <td>1.000000</td>\n",
       "      <td>0.394406</td>\n",
       "      <td>0.538263</td>\n",
       "      <td>0.616721</td>\n",
       "      <td>0.252626</td>\n",
       "      <td>0.334714</td>\n",
       "      <td>0.344370</td>\n",
       "    </tr>\n",
       "    <tr>\n",
       "      <th>6~8_ride</th>\n",
       "      <td>-0.090015</td>\n",
       "      <td>-0.121064</td>\n",
       "      <td>0.018108</td>\n",
       "      <td>0.057757</td>\n",
       "      <td>0.070533</td>\n",
       "      <td>-0.016122</td>\n",
       "      <td>0.394406</td>\n",
       "      <td>1.000000</td>\n",
       "      <td>0.548672</td>\n",
       "      <td>0.472073</td>\n",
       "      <td>0.172319</td>\n",
       "      <td>0.120824</td>\n",
       "      <td>0.126953</td>\n",
       "    </tr>\n",
       "    <tr>\n",
       "      <th>8~10_ride</th>\n",
       "      <td>-0.054875</td>\n",
       "      <td>-0.152482</td>\n",
       "      <td>0.027518</td>\n",
       "      <td>0.064493</td>\n",
       "      <td>0.076039</td>\n",
       "      <td>-0.016620</td>\n",
       "      <td>0.538263</td>\n",
       "      <td>0.548672</td>\n",
       "      <td>1.000000</td>\n",
       "      <td>0.640145</td>\n",
       "      <td>0.173878</td>\n",
       "      <td>0.347379</td>\n",
       "      <td>0.282250</td>\n",
       "    </tr>\n",
       "    <tr>\n",
       "      <th>10~12_ride</th>\n",
       "      <td>-0.009109</td>\n",
       "      <td>-0.147186</td>\n",
       "      <td>0.029083</td>\n",
       "      <td>0.057443</td>\n",
       "      <td>0.067888</td>\n",
       "      <td>-0.009165</td>\n",
       "      <td>0.616721</td>\n",
       "      <td>0.472073</td>\n",
       "      <td>0.640145</td>\n",
       "      <td>1.000000</td>\n",
       "      <td>0.200335</td>\n",
       "      <td>0.312841</td>\n",
       "      <td>0.415901</td>\n",
       "    </tr>\n",
       "    <tr>\n",
       "      <th>6~8_off</th>\n",
       "      <td>-0.042991</td>\n",
       "      <td>-0.075922</td>\n",
       "      <td>0.026249</td>\n",
       "      <td>0.016212</td>\n",
       "      <td>0.059384</td>\n",
       "      <td>-0.021890</td>\n",
       "      <td>0.252626</td>\n",
       "      <td>0.172319</td>\n",
       "      <td>0.173878</td>\n",
       "      <td>0.200335</td>\n",
       "      <td>1.000000</td>\n",
       "      <td>0.471192</td>\n",
       "      <td>0.398361</td>\n",
       "    </tr>\n",
       "    <tr>\n",
       "      <th>8~10_off</th>\n",
       "      <td>-0.049812</td>\n",
       "      <td>-0.126992</td>\n",
       "      <td>0.021264</td>\n",
       "      <td>0.025355</td>\n",
       "      <td>0.071983</td>\n",
       "      <td>-0.026493</td>\n",
       "      <td>0.334714</td>\n",
       "      <td>0.120824</td>\n",
       "      <td>0.347379</td>\n",
       "      <td>0.312841</td>\n",
       "      <td>0.471192</td>\n",
       "      <td>1.000000</td>\n",
       "      <td>0.640996</td>\n",
       "    </tr>\n",
       "    <tr>\n",
       "      <th>10~12_off</th>\n",
       "      <td>-0.011804</td>\n",
       "      <td>-0.129819</td>\n",
       "      <td>0.009070</td>\n",
       "      <td>0.028111</td>\n",
       "      <td>0.066264</td>\n",
       "      <td>-0.007275</td>\n",
       "      <td>0.344370</td>\n",
       "      <td>0.126953</td>\n",
       "      <td>0.282250</td>\n",
       "      <td>0.415901</td>\n",
       "      <td>0.398361</td>\n",
       "      <td>0.640996</td>\n",
       "      <td>1.000000</td>\n",
       "    </tr>\n",
       "  </tbody>\n",
       "</table>\n",
       "</div>\n",
       "      <button class=\"colab-df-convert\" onclick=\"convertToInteractive('df-acdc242b-18da-4518-9f91-024acc9f987c')\"\n",
       "              title=\"Convert this dataframe to an interactive table.\"\n",
       "              style=\"display:none;\">\n",
       "        \n",
       "  <svg xmlns=\"http://www.w3.org/2000/svg\" height=\"24px\"viewBox=\"0 0 24 24\"\n",
       "       width=\"24px\">\n",
       "    <path d=\"M0 0h24v24H0V0z\" fill=\"none\"/>\n",
       "    <path d=\"M18.56 5.44l.94 2.06.94-2.06 2.06-.94-2.06-.94-.94-2.06-.94 2.06-2.06.94zm-11 1L8.5 8.5l.94-2.06 2.06-.94-2.06-.94L8.5 2.5l-.94 2.06-2.06.94zm10 10l.94 2.06.94-2.06 2.06-.94-2.06-.94-.94-2.06-.94 2.06-2.06.94z\"/><path d=\"M17.41 7.96l-1.37-1.37c-.4-.4-.92-.59-1.43-.59-.52 0-1.04.2-1.43.59L10.3 9.45l-7.72 7.72c-.78.78-.78 2.05 0 2.83L4 21.41c.39.39.9.59 1.41.59.51 0 1.02-.2 1.41-.59l7.78-7.78 2.81-2.81c.8-.78.8-2.07 0-2.86zM5.41 20L4 18.59l7.72-7.72 1.47 1.35L5.41 20z\"/>\n",
       "  </svg>\n",
       "      </button>\n",
       "      \n",
       "  <style>\n",
       "    .colab-df-container {\n",
       "      display:flex;\n",
       "      flex-wrap:wrap;\n",
       "      gap: 12px;\n",
       "    }\n",
       "\n",
       "    .colab-df-convert {\n",
       "      background-color: #E8F0FE;\n",
       "      border: none;\n",
       "      border-radius: 50%;\n",
       "      cursor: pointer;\n",
       "      display: none;\n",
       "      fill: #1967D2;\n",
       "      height: 32px;\n",
       "      padding: 0 0 0 0;\n",
       "      width: 32px;\n",
       "    }\n",
       "\n",
       "    .colab-df-convert:hover {\n",
       "      background-color: #E2EBFA;\n",
       "      box-shadow: 0px 1px 2px rgba(60, 64, 67, 0.3), 0px 1px 3px 1px rgba(60, 64, 67, 0.15);\n",
       "      fill: #174EA6;\n",
       "    }\n",
       "\n",
       "    [theme=dark] .colab-df-convert {\n",
       "      background-color: #3B4455;\n",
       "      fill: #D2E3FC;\n",
       "    }\n",
       "\n",
       "    [theme=dark] .colab-df-convert:hover {\n",
       "      background-color: #434B5C;\n",
       "      box-shadow: 0px 1px 3px 1px rgba(0, 0, 0, 0.15);\n",
       "      filter: drop-shadow(0px 1px 2px rgba(0, 0, 0, 0.3));\n",
       "      fill: #FFFFFF;\n",
       "    }\n",
       "  </style>\n",
       "\n",
       "      <script>\n",
       "        const buttonEl =\n",
       "          document.querySelector('#df-acdc242b-18da-4518-9f91-024acc9f987c button.colab-df-convert');\n",
       "        buttonEl.style.display =\n",
       "          google.colab.kernel.accessAllowed ? 'block' : 'none';\n",
       "\n",
       "        async function convertToInteractive(key) {\n",
       "          const element = document.querySelector('#df-acdc242b-18da-4518-9f91-024acc9f987c');\n",
       "          const dataTable =\n",
       "            await google.colab.kernel.invokeFunction('convertToInteractive',\n",
       "                                                     [key], {});\n",
       "          if (!dataTable) return;\n",
       "\n",
       "          const docLinkHtml = 'Like what you see? Visit the ' +\n",
       "            '<a target=\"_blank\" href=https://colab.research.google.com/notebooks/data_table.ipynb>data table notebook</a>'\n",
       "            + ' to learn more about interactive tables.';\n",
       "          element.innerHTML = '';\n",
       "          dataTable['output_type'] = 'display_data';\n",
       "          await google.colab.output.renderOutput(dataTable, element);\n",
       "          const docLink = document.createElement('div');\n",
       "          docLink.innerHTML = docLinkHtml;\n",
       "          element.appendChild(docLink);\n",
       "        }\n",
       "      </script>\n",
       "    </div>\n",
       "  </div>\n",
       "  "
      ],
      "text/plain": [
       "                  date  bus_route_id    in_out  station_code  latitude  \\\n",
       "date          1.000000     -0.023889  0.006040      0.004411  0.011928   \n",
       "bus_route_id -0.023889      1.000000 -0.101738     -0.015897 -0.196758   \n",
       "in_out        0.006040     -0.101738  1.000000      0.093776  0.009019   \n",
       "station_code  0.004411     -0.015897  0.093776      1.000000 -0.048951   \n",
       "latitude      0.011928     -0.196758  0.009019     -0.048951  1.000000   \n",
       "longitude    -0.001481      0.010187 -0.065886     -0.011303  0.134208   \n",
       "18~20_ride   -0.028060     -0.143702  0.022116      0.034360  0.079261   \n",
       "6~8_ride     -0.090015     -0.121064  0.018108      0.057757  0.070533   \n",
       "8~10_ride    -0.054875     -0.152482  0.027518      0.064493  0.076039   \n",
       "10~12_ride   -0.009109     -0.147186  0.029083      0.057443  0.067888   \n",
       "6~8_off      -0.042991     -0.075922  0.026249      0.016212  0.059384   \n",
       "8~10_off     -0.049812     -0.126992  0.021264      0.025355  0.071983   \n",
       "10~12_off    -0.011804     -0.129819  0.009070      0.028111  0.066264   \n",
       "\n",
       "              longitude  18~20_ride  6~8_ride  8~10_ride  10~12_ride  \\\n",
       "date          -0.001481   -0.028060 -0.090015  -0.054875   -0.009109   \n",
       "bus_route_id   0.010187   -0.143702 -0.121064  -0.152482   -0.147186   \n",
       "in_out        -0.065886    0.022116  0.018108   0.027518    0.029083   \n",
       "station_code  -0.011303    0.034360  0.057757   0.064493    0.057443   \n",
       "latitude       0.134208    0.079261  0.070533   0.076039    0.067888   \n",
       "longitude      1.000000   -0.021368 -0.016122  -0.016620   -0.009165   \n",
       "18~20_ride    -0.021368    1.000000  0.394406   0.538263    0.616721   \n",
       "6~8_ride      -0.016122    0.394406  1.000000   0.548672    0.472073   \n",
       "8~10_ride     -0.016620    0.538263  0.548672   1.000000    0.640145   \n",
       "10~12_ride    -0.009165    0.616721  0.472073   0.640145    1.000000   \n",
       "6~8_off       -0.021890    0.252626  0.172319   0.173878    0.200335   \n",
       "8~10_off      -0.026493    0.334714  0.120824   0.347379    0.312841   \n",
       "10~12_off     -0.007275    0.344370  0.126953   0.282250    0.415901   \n",
       "\n",
       "               6~8_off  8~10_off  10~12_off  \n",
       "date         -0.042991 -0.049812  -0.011804  \n",
       "bus_route_id -0.075922 -0.126992  -0.129819  \n",
       "in_out        0.026249  0.021264   0.009070  \n",
       "station_code  0.016212  0.025355   0.028111  \n",
       "latitude      0.059384  0.071983   0.066264  \n",
       "longitude    -0.021890 -0.026493  -0.007275  \n",
       "18~20_ride    0.252626  0.334714   0.344370  \n",
       "6~8_ride      0.172319  0.120824   0.126953  \n",
       "8~10_ride     0.173878  0.347379   0.282250  \n",
       "10~12_ride    0.200335  0.312841   0.415901  \n",
       "6~8_off       1.000000  0.471192   0.398361  \n",
       "8~10_off      0.471192  1.000000   0.640996  \n",
       "10~12_off     0.398361  0.640996   1.000000  "
      ]
     },
     "execution_count": 17,
     "metadata": {},
     "output_type": "execute_result"
    }
   ],
   "source": [
    "train.corr()"
   ]
  },
  {
   "cell_type": "markdown",
   "metadata": {
    "id": "ncql3cIk_YGw"
   },
   "source": [
    "여기에 다양한 종류의 상관계수는 <font style=\"color:#99CCFF; font-weight : bold; font-size : 25px;\">method='   '</font>를 추가해 구할 수 있습니다.\n",
    "\n",
    "- <font style=\"font-weight : bold\">피어슨</font> : .corr(method='pearson')\n",
    "- <font style=\"font-weight : bold\">켄달-타우</font> : .corr(method='kendall')\n",
    "- <font style=\"font-weight : bold\">스피어만</font> : .corr(method='spearman')"
   ]
  },
  {
   "cell_type": "markdown",
   "metadata": {
    "id": "uhQDZOmh51Ff"
   },
   "source": [
    "morning.corr()의 값은 새로운 변수 corr에 저장합니다."
   ]
  },
  {
   "cell_type": "code",
   "execution_count": null,
   "metadata": {
    "id": "Ur7v6QLf9VuE"
   },
   "outputs": [],
   "source": [
    "# 소수점 3째자리에서 반올림\n",
    "corr_df=round(train.corr(),3)"
   ]
  },
  {
   "cell_type": "markdown",
   "metadata": {
    "id": "Rdoo8GealVjk"
   },
   "source": [
    "### **(3) 산점도 행렬(scatter_matrix)**\n",
    "\n",
    "산점도 행렬은 데이터의 특성 중 하나를 x축으로, 또 다른 하나를 y축으로 두어 </br>두 특성의 관계를 하나의 점으로 나타내는 그래프 입니다. </br>2개의 특성으로 묶어 2차원으로 표현하는 것이죠!  한 그래프안에는 두 특성의 관계만 나타납니다.\n",
    "\n",
    "저희가 다루고 있는 데이터 처럼 특성이 많은 데이터에선 행렬로 나타날 경우 아래처럼 복잡한 그림이 그려집니다.\n",
    "\n",
    "\n"
   ]
  },
  {
   "cell_type": "code",
   "execution_count": null,
   "metadata": {
    "id": "BHqQDVDzlrT8"
   },
   "outputs": [],
   "source": [
    "from pandas.plotting import scatter_matrix"
   ]
  },
  {
   "cell_type": "code",
   "execution_count": null,
   "metadata": {
    "colab": {
     "base_uri": "https://localhost:8080/",
     "height": 875
    },
    "executionInfo": {
     "elapsed": 11359,
     "status": "ok",
     "timestamp": 1676180251191,
     "user": {
      "displayName": "성수빈",
      "userId": "07375498608712401337"
     },
     "user_tz": -540
    },
    "id": "i20mGJvPTMXM",
    "outputId": "cd728c13-461a-477f-8877-880d5aa101ef"
   },
   "outputs": [
    {
     "data": {
      "image/png": "[encoded data removed]",
      "text/plain": [
       "<Figure size 1080x1080 with 169 Axes>"
      ]
     },
     "metadata": {
      "needs_background": "light"
     },
     "output_type": "display_data"
    }
   ],
   "source": [
    "scatter_matrix(corr_df,\n",
    "               c = corr_df['18~20_ride'],\n",
    "               alpha=0.5, \n",
    "               figsize=(15, 15), \n",
    "               diagonal='kde'\n",
    "               )\n",
    "plt.show()\n"
   ]
  },
  {
   "cell_type": "markdown",
   "metadata": {
    "id": "9FmED2pLl1KI"
   },
   "source": [
    "어떤가요? 정말 많은 특성이 있어서... 오히려 비교하기 어려워졌습니다..<br/>\n",
    "\n",
    "각각의 나누어진 산점도 그래프에는 드러나지 않는 중요한 성질이 있을 수 있습니다. </br>지금처럼 <font style=\"font-weight : bold\">많은 특성</font>을 가진 데이터 말고,,😓 </br><font style=\"font-weight : bold\">특성이 적은</font> 데이터에 활용하면 좋은 데이터 탐색 방법이 될 것입니다😉\n",
    "\n"
   ]
  },
  {
   "cell_type": "markdown",
   "metadata": {
    "id": "APyJXKD6ngNA"
   },
   "source": [
    "추가로 그래프에 표시되는 각 점들은 자료의 관측 값을 나타내며 </br>산점도에서 각 점의 위치는 각 관측값이 가지는 X축, Y축 변수의 값으로 결정되게 됩니다. \n",
    "\n",
    "산점도를 이용하면 데이터의 <font style=\"color:#99CCFF; font-weight : bold; font-size : 25px;\">이상치, 특이값</font>을 탐색할 수 있습니다.\n",
    "</br>그 예시로 train의 date 변수와 지정했던 y 변수의 산점도 그래프를 그려보겠습니다!\n",
    "\n",
    "\n"
   ]
  },
  {
   "cell_type": "code",
   "execution_count": null,
   "metadata": {
    "colab": {
     "base_uri": "https://localhost:8080/",
     "height": 295
    },
    "executionInfo": {
     "elapsed": 730,
     "status": "ok",
     "timestamp": 1676180251906,
     "user": {
      "displayName": "성수빈",
      "userId": "07375498608712401337"
     },
     "user_tz": -540
    },
    "id": "-yCKVnqvnRJm",
    "outputId": "6a11e94f-324b-447a-c449-6f48fa86204d"
   },
   "outputs": [
    {
     "data": {
      "image/png": "[encoded data removed]",
      "text/plain": [
       "<Figure size 432x288 with 1 Axes>"
      ]
     },
     "metadata": {
      "needs_background": "light"
     },
     "output_type": "display_data"
    }
   ],
   "source": [
    "import matplotlib.pyplot as plt\n",
    "\n",
    "X = train.date.values\n",
    "Y = y.values\n",
    "xlabel=['Mon','Tue','Wed','Thu','Fri','Sat','Sun']\n",
    "plt.scatter(X, Y, alpha=0.5)\n",
    "\n",
    "#------그래프 설정------#\n",
    "plt.title('date ~ 18~20_ride')\n",
    "plt.xlabel('date')\n",
    "plt.ylabel('18~20_ride')\n",
    "plt.xticks(range(0,7),xlabel)\n",
    "plt.show()"
   ]
  },
  {
   "cell_type": "markdown",
   "metadata": {
    "id": "uWvSs9cDoTDP"
   },
   "source": [
    "그래프를 통해 데이터가 어떻게 분포되어 있는지 확인할 수 있습니다. </br>대부분은 100명이하의 승객이 버스에 탑승한다는 것을 알 수 있겠죠?"
   ]
  },
  {
   "cell_type": "markdown",
   "metadata": {
    "id": "IZc1PcubS8XP"
   },
   "source": [
    "### **(4) heatmap**\n",
    "\n",
    "히트맵(heatmap)은 데이터의 값을 컬러로 변환시켜 열 분포 형태로 보여주어 시각적인 분석을 가능하게 하는 시각화 기법입니다! \n",
    "\n",
    "matplolib을 이용해 상관계수값을 한눈에 비교한는 그림을 만들어보겠습니다."
   ]
  },
  {
   "cell_type": "code",
   "execution_count": null,
   "metadata": {
    "colab": {
     "base_uri": "https://localhost:8080/",
     "height": 895
    },
    "executionInfo": {
     "elapsed": 1507,
     "status": "ok",
     "timestamp": 1676180253406,
     "user": {
      "displayName": "성수빈",
      "userId": "07375498608712401337"
     },
     "user_tz": -540
    },
    "id": "gFMqzdBg_yAF",
    "outputId": "79e7cb39-2d39-4fa6-a79d-49278aad3c06"
   },
   "outputs": [
    {
     "data": {
      "image/png": "[encoded data removed]",
      "text/plain": [
       "<Figure size 1700x1000 with 2 Axes>"
      ]
     },
     "metadata": {
      "needs_background": "light"
     },
     "output_type": "display_data"
    }
   ],
   "source": [
    "\n",
    "\n",
    "#figure size\n",
    "fig=plt.figure(figsize=(17,10), dpi=100)\n",
    "ax=fig.subplots()\n",
    "\n",
    "\n",
    "#이미지맵\n",
    "im = ax.imshow(corr_df, cmap='BuPu')\n",
    "\n",
    "\n",
    "#Color Bar\n",
    "cor_bar = ax.figure.colorbar(im, ax=ax)\n",
    "\n",
    "\n",
    "ax.set_xticks(np.arange(len(corr_df.columns)))\n",
    "ax.set_yticks(np.arange(len(corr_df.index)))\n",
    "ax.set_xticklabels(corr_df.columns,rotation=90)\n",
    "ax.set_yticklabels(corr_df.columns)\n",
    "\n",
    "#박스안에 텍스트 넣기\n",
    "for i in range(len(corr_df.columns)):\n",
    "    for j in range(len(corr_df.index)):\n",
    "        ax.text(j, i, corr_df.iloc[j, i], ha='center', va='center', color='w',fontsize=9)\n"
   ]
  },
  {
   "cell_type": "markdown",
   "metadata": {
    "id": "7pLu7N_s_yAG"
   },
   "source": [
    "어떠신가요? 값으로 비교할 때와는 다르게 어떤 column이 중요한 것인지 파악하기 편리해졌습니다. \n",
    " - 데이터 식별을 위한 date, bus_route_id, latitude, longtitude 보다는 </br>시간별 탑승인원을 나타낸 변수들이 예측 변수와 연관이 많아보입니다! \n",
    " - 하차인원도 탑승인원만큼은 아니지만 조금은 영향이 있어보이죠!\n",
    "\n",
    "<br/>\n",
    "\n",
    "matplotlib말고 seabon을 이용하면 더욱 간단하게 그릴 수 있습니다!(사진 캡처입니다.🎁)\n",
    "\n",
    "![img](https://ifh.cc/g/ZwF4bm.jpg)\n",
    "\n",
    "\n",
    "훨씬 손쉽게 시각화가 가능합니다! 자신에게 맞는 방법으로 사용하시길 권장합니다! \n"
   ]
  },
  {
   "cell_type": "markdown",
   "metadata": {
    "id": "6oBkJUib6dvF"
   },
   "source": [
    "## **2.2 변수 그래프 시각화**"
   ]
  },
  {
   "cell_type": "markdown",
   "metadata": {
    "id": "t6WSiXuuzLzh"
   },
   "source": [
    "이번에는 그래프를 그려서 데이터를 시각화 해봅시다. \n",
    "\n",
    "데이터를 시각화하는 <font style=\"font-weight : bold\">이유</font>는 \n",
    "</br>1️⃣ 많은 양의 데이터를 한눈에 볼 수 있고, \n",
    "</br>2️⃣ 빠르고 효과적인 의사결정을 내리는 데 도움을 주기 때문입니다. \n",
    "\n",
    "\n",
    "요일 별 승하차 인원에 대한 그래프를 그려봅시다. </br>\n",
    "그래프를 그리기 위해서 데이터를 정리하는 과정이 필요합니다. \n",
    "</br></br>\n",
    "\n",
    "### **(1) 변수 정의**\n",
    "\n",
    "**먼저  변수를 새로 정의해 봅시다.**\n",
    "\n",
    "ride라는 임의의 변수 이름을 정하고  </br>\n",
    "train 데이터 안에 있는 ride변수명을 모두 가져와서 저장해줍니다. \n"
   ]
  },
  {
   "cell_type": "code",
   "execution_count": null,
   "metadata": {
    "id": "y6een8q-6jrM"
   },
   "outputs": [],
   "source": [
    "ride=[ \"6~8_ride\",  \"8~10_ride\", \"10~12_ride\" , '18~20_ride']"
   ]
  },
  {
   "cell_type": "markdown",
   "metadata": {
    "id": "VijcRwPV0Jz-"
   },
   "source": [
    "### **🔑참여 실습**\n",
    "\n",
    "\n",
    "### *Inst.*  \n",
    "takeoff라는 임의의 변수 이름을 정하고 train데이터 안에 있는 takeoff 변수명을 저장해봅시다.\n",
    "\n",
    "\n",
    "### *Hint.*  \n",
    "takeoff=[]\n",
    "\n",
    "\n",
    "### *Solution.*"
   ]
  },
  {
   "cell_type": "code",
   "execution_count": null,
   "metadata": {
    "id": "mv1Iow9q0KBK"
   },
   "outputs": [],
   "source": [
    "takeoff = [\"6~8_off\", \"8~10_off\",  \"10~12_off\"]"
   ]
  },
  {
   "cell_type": "markdown",
   "metadata": {
    "id": "-lFv4Jmy0VLW"
   },
   "source": [
    "### **(2) 데이터 합**\n",
    "\n",
    "\n",
    "이제 요일과 시간별로 데이터 값의 합을 구해봅시다. \n",
    "\n",
    "먼저 0, 월요일 일때 시간별 합을 알아봅시다.\n"
   ]
  },
  {
   "cell_type": "code",
   "execution_count": null,
   "metadata": {
    "colab": {
     "base_uri": "https://localhost:8080/"
    },
    "executionInfo": {
     "elapsed": 12,
     "status": "ok",
     "timestamp": 1676180253407,
     "user": {
      "displayName": "성수빈",
      "userId": "07375498608712401337"
     },
     "user_tz": -540
    },
    "id": "-rno91H-0YEh",
    "outputId": "c4209217-a03b-4eed-af05-62ebc833cf6a"
   },
   "outputs": [
    {
     "data": {
      "text/plain": [
       "date            0.000000e+00\n",
       "bus_route_id    2.090657e+12\n",
       "in_out          1.262000e+03\n",
       "station_code    3.163349e+09\n",
       "latitude        2.588374e+06\n",
       "longitude       9.800323e+06\n",
       "18~20_ride      1.040730e+05\n",
       "6~8_ride        1.020060e+05\n",
       "8~10_ride       1.244480e+05\n",
       "10~12_ride      9.571900e+04\n",
       "6~8_off         3.836700e+04\n",
       "8~10_off        8.014000e+04\n",
       "10~12_off       6.601800e+04\n",
       "dtype: float64"
      ]
     },
     "execution_count": 25,
     "metadata": {},
     "output_type": "execute_result"
    }
   ],
   "source": [
    "train[train['date']==0].sum()"
   ]
  },
  {
   "cell_type": "markdown",
   "metadata": {
    "id": "l-k0akU30ZSK"
   },
   "source": [
    "결과값을 보면 시간뿐만 아니라 다른 데이터의 합도 나타납니다. \n",
    "\n",
    "이때 뒤에 [ride]를 붙여주면 ride의 값의 합들만 볼 수 있습니다. \n"
   ]
  },
  {
   "cell_type": "code",
   "execution_count": null,
   "metadata": {
    "colab": {
     "base_uri": "https://localhost:8080/"
    },
    "executionInfo": {
     "elapsed": 971,
     "status": "ok",
     "timestamp": 1676180254371,
     "user": {
      "displayName": "성수빈",
      "userId": "07375498608712401337"
     },
     "user_tz": -540
    },
    "id": "6RaKFsFt0bn5",
    "outputId": "44f3e576-4db0-47da-d439-497222dcf33c"
   },
   "outputs": [
    {
     "data": {
      "text/plain": [
       "6~8_ride      102006.0\n",
       "8~10_ride     124448.0\n",
       "10~12_ride     95719.0\n",
       "18~20_ride    104073.0\n",
       "dtype: float64"
      ]
     },
     "execution_count": 26,
     "metadata": {},
     "output_type": "execute_result"
    }
   ],
   "source": [
    "train[train['date']==0].sum()[ride]"
   ]
  },
  {
   "cell_type": "markdown",
   "metadata": {
    "id": "lpAuwO-F0cpX"
   },
   "source": [
    "### **🔑참여 실습**\n",
    "\n",
    "\n",
    "### *Inst.*  \n",
    "takeoff의 값의 합들만 출력해봅시다. \n",
    "\n",
    "\n",
    "### *Hint.*  \n",
    "dataframe[]\n",
    "\n",
    "\n",
    "### *Solution.*"
   ]
  },
  {
   "cell_type": "code",
   "execution_count": null,
   "metadata": {
    "colab": {
     "base_uri": "https://localhost:8080/"
    },
    "executionInfo": {
     "elapsed": 43,
     "status": "ok",
     "timestamp": 1676180254372,
     "user": {
      "displayName": "성수빈",
      "userId": "07375498608712401337"
     },
     "user_tz": -540
    },
    "id": "YqAMrtlN0kV9",
    "outputId": "e4f7ad4d-5810-4d3a-c855-60f9a7385653"
   },
   "outputs": [
    {
     "data": {
      "text/plain": [
       "6~8_off      38367.0\n",
       "8~10_off     80140.0\n",
       "10~12_off    66018.0\n",
       "dtype: float64"
      ]
     },
     "execution_count": 27,
     "metadata": {},
     "output_type": "execute_result"
    }
   ],
   "source": [
    "train[train['date']==0].sum()[takeoff]"
   ]
  },
  {
   "cell_type": "markdown",
   "metadata": {
    "id": "1BLkJhnn0l0c"
   },
   "source": [
    "### **(3) 데이터 프레임 생성**\n",
    "\n",
    "이제는 for문을 사용해서 ride의 시간, 요일별 값을 데이터 프레임에 넣어봅시다. \n",
    "\n",
    "먼저 임의의 ridesum라는 빈 리스트를 만들어줍니다. \n"
   ]
  },
  {
   "cell_type": "code",
   "execution_count": null,
   "metadata": {
    "id": "tsOqzw430o-A"
   },
   "outputs": [],
   "source": [
    "ridesum=[]"
   ]
  },
  {
   "cell_type": "markdown",
   "metadata": {
    "id": "USFiFE3J0slh"
   },
   "source": [
    "그 다음 for문을 사용해서 빈 리스트에 데이터를 넣어줍니다. \n",
    "\n",
    "이때 데이터는 요일별 시간데이터의 합입니다. \n"
   ]
  },
  {
   "cell_type": "code",
   "execution_count": null,
   "metadata": {
    "colab": {
     "base_uri": "https://localhost:8080/"
    },
    "executionInfo": {
     "elapsed": 40,
     "status": "ok",
     "timestamp": 1676180254373,
     "user": {
      "displayName": "성수빈",
      "userId": "07375498608712401337"
     },
     "user_tz": -540
    },
    "id": "ooJKSayz0rss",
    "outputId": "5472b443-6517-4a96-b527-3ee60667669b"
   },
   "outputs": [
    {
     "data": {
      "text/plain": [
       "[6~8_ride      102006.0\n",
       " 8~10_ride     124448.0\n",
       " 10~12_ride     95719.0\n",
       " 18~20_ride    104073.0\n",
       " dtype: float64, 6~8_ride       86970.0\n",
       " 8~10_ride     106168.0\n",
       " 10~12_ride     75030.0\n",
       " 18~20_ride     87220.0\n",
       " dtype: float64, 6~8_ride      84528.0\n",
       " 8~10_ride     98547.0\n",
       " 10~12_ride    72862.0\n",
       " 18~20_ride    88404.0\n",
       " dtype: float64, 6~8_ride      71565.0\n",
       " 8~10_ride     90351.0\n",
       " 10~12_ride    70122.0\n",
       " 18~20_ride    74122.0\n",
       " dtype: float64, 6~8_ride      67722.0\n",
       " 8~10_ride     82103.0\n",
       " 10~12_ride    63345.0\n",
       " 18~20_ride    59451.0\n",
       " dtype: float64, 6~8_ride      28496.0\n",
       " 8~10_ride     50730.0\n",
       " 10~12_ride    54517.0\n",
       " 18~20_ride    48419.0\n",
       " dtype: float64, 6~8_ride      30464.0\n",
       " 8~10_ride     53267.0\n",
       " 10~12_ride    58193.0\n",
       " 18~20_ride    54306.0\n",
       " dtype: float64]"
      ]
     },
     "execution_count": 29,
     "metadata": {},
     "output_type": "execute_result"
    }
   ],
   "source": [
    "for i in range(0,7):\n",
    "  ridesum.append(train[train['date']==i][ride].sum())\n",
    "ridesum"
   ]
  },
  {
   "cell_type": "markdown",
   "metadata": {
    "id": "BURUPjsH0v--"
   },
   "source": [
    "출력값을 보면 리스트의 형태로 ride 합의 값들이 모두 들어간 것을 알 수 있습니다. </br>\n",
    "이제 ridesum의 값을 넣을 새로운 데이터 프레임을 만들어봅시다. </br>\n",
    "\n",
    "데이터프레임을 생성하는 메소드는 pd.DataFrame()입니다. \n",
    "</br> 빈 데이터 프레임에 열 이름과 리스트를 넣어봅시다. \n"
   ]
  },
  {
   "cell_type": "code",
   "execution_count": null,
   "metadata": {
    "colab": {
     "base_uri": "https://localhost:8080/",
     "height": 269
    },
    "executionInfo": {
     "elapsed": 36,
     "status": "ok",
     "timestamp": 1676180254373,
     "user": {
      "displayName": "성수빈",
      "userId": "07375498608712401337"
     },
     "user_tz": -540
    },
    "id": "Tvw87BEc0oLT",
    "outputId": "f2ea20a8-d339-476f-8867-7735de4bceee"
   },
   "outputs": [
    {
     "data": {
      "text/html": [
       "\n",
       "  <div id=\"df-a006d4b1-c1d9-4f24-96b2-44de429b61f1\">\n",
       "    <div class=\"colab-df-container\">\n",
       "      <div>\n",
       "<style scoped>\n",
       "    .dataframe tbody tr th:only-of-type {\n",
       "        vertical-align: middle;\n",
       "    }\n",
       "\n",
       "    .dataframe tbody tr th {\n",
       "        vertical-align: top;\n",
       "    }\n",
       "\n",
       "    .dataframe thead th {\n",
       "        text-align: right;\n",
       "    }\n",
       "</style>\n",
       "<table border=\"1\" class=\"dataframe\">\n",
       "  <thead>\n",
       "    <tr style=\"text-align: right;\">\n",
       "      <th></th>\n",
       "      <th>6~8_ride</th>\n",
       "      <th>8~10_ride</th>\n",
       "      <th>10~12_ride</th>\n",
       "      <th>18~20_ride</th>\n",
       "    </tr>\n",
       "  </thead>\n",
       "  <tbody>\n",
       "    <tr>\n",
       "      <th>0</th>\n",
       "      <td>102006.0</td>\n",
       "      <td>124448.0</td>\n",
       "      <td>95719.0</td>\n",
       "      <td>104073.0</td>\n",
       "    </tr>\n",
       "    <tr>\n",
       "      <th>1</th>\n",
       "      <td>86970.0</td>\n",
       "      <td>106168.0</td>\n",
       "      <td>75030.0</td>\n",
       "      <td>87220.0</td>\n",
       "    </tr>\n",
       "    <tr>\n",
       "      <th>2</th>\n",
       "      <td>84528.0</td>\n",
       "      <td>98547.0</td>\n",
       "      <td>72862.0</td>\n",
       "      <td>88404.0</td>\n",
       "    </tr>\n",
       "    <tr>\n",
       "      <th>3</th>\n",
       "      <td>71565.0</td>\n",
       "      <td>90351.0</td>\n",
       "      <td>70122.0</td>\n",
       "      <td>74122.0</td>\n",
       "    </tr>\n",
       "    <tr>\n",
       "      <th>4</th>\n",
       "      <td>67722.0</td>\n",
       "      <td>82103.0</td>\n",
       "      <td>63345.0</td>\n",
       "      <td>59451.0</td>\n",
       "    </tr>\n",
       "    <tr>\n",
       "      <th>5</th>\n",
       "      <td>28496.0</td>\n",
       "      <td>50730.0</td>\n",
       "      <td>54517.0</td>\n",
       "      <td>48419.0</td>\n",
       "    </tr>\n",
       "    <tr>\n",
       "      <th>6</th>\n",
       "      <td>30464.0</td>\n",
       "      <td>53267.0</td>\n",
       "      <td>58193.0</td>\n",
       "      <td>54306.0</td>\n",
       "    </tr>\n",
       "  </tbody>\n",
       "</table>\n",
       "</div>\n",
       "      <button class=\"colab-df-convert\" onclick=\"convertToInteractive('df-a006d4b1-c1d9-4f24-96b2-44de429b61f1')\"\n",
       "              title=\"Convert this dataframe to an interactive table.\"\n",
       "              style=\"display:none;\">\n",
       "        \n",
       "  <svg xmlns=\"http://www.w3.org/2000/svg\" height=\"24px\"viewBox=\"0 0 24 24\"\n",
       "       width=\"24px\">\n",
       "    <path d=\"M0 0h24v24H0V0z\" fill=\"none\"/>\n",
       "    <path d=\"M18.56 5.44l.94 2.06.94-2.06 2.06-.94-2.06-.94-.94-2.06-.94 2.06-2.06.94zm-11 1L8.5 8.5l.94-2.06 2.06-.94-2.06-.94L8.5 2.5l-.94 2.06-2.06.94zm10 10l.94 2.06.94-2.06 2.06-.94-2.06-.94-.94-2.06-.94 2.06-2.06.94z\"/><path d=\"M17.41 7.96l-1.37-1.37c-.4-.4-.92-.59-1.43-.59-.52 0-1.04.2-1.43.59L10.3 9.45l-7.72 7.72c-.78.78-.78 2.05 0 2.83L4 21.41c.39.39.9.59 1.41.59.51 0 1.02-.2 1.41-.59l7.78-7.78 2.81-2.81c.8-.78.8-2.07 0-2.86zM5.41 20L4 18.59l7.72-7.72 1.47 1.35L5.41 20z\"/>\n",
       "  </svg>\n",
       "      </button>\n",
       "      \n",
       "  <style>\n",
       "    .colab-df-container {\n",
       "      display:flex;\n",
       "      flex-wrap:wrap;\n",
       "      gap: 12px;\n",
       "    }\n",
       "\n",
       "    .colab-df-convert {\n",
       "      background-color: #E8F0FE;\n",
       "      border: none;\n",
       "      border-radius: 50%;\n",
       "      cursor: pointer;\n",
       "      display: none;\n",
       "      fill: #1967D2;\n",
       "      height: 32px;\n",
       "      padding: 0 0 0 0;\n",
       "      width: 32px;\n",
       "    }\n",
       "\n",
       "    .colab-df-convert:hover {\n",
       "      background-color: #E2EBFA;\n",
       "      box-shadow: 0px 1px 2px rgba(60, 64, 67, 0.3), 0px 1px 3px 1px rgba(60, 64, 67, 0.15);\n",
       "      fill: #174EA6;\n",
       "    }\n",
       "\n",
       "    [theme=dark] .colab-df-convert {\n",
       "      background-color: #3B4455;\n",
       "      fill: #D2E3FC;\n",
       "    }\n",
       "\n",
       "    [theme=dark] .colab-df-convert:hover {\n",
       "      background-color: #434B5C;\n",
       "      box-shadow: 0px 1px 3px 1px rgba(0, 0, 0, 0.15);\n",
       "      filter: drop-shadow(0px 1px 2px rgba(0, 0, 0, 0.3));\n",
       "      fill: #FFFFFF;\n",
       "    }\n",
       "  </style>\n",
       "\n",
       "      <script>\n",
       "        const buttonEl =\n",
       "          document.querySelector('#df-a006d4b1-c1d9-4f24-96b2-44de429b61f1 button.colab-df-convert');\n",
       "        buttonEl.style.display =\n",
       "          google.colab.kernel.accessAllowed ? 'block' : 'none';\n",
       "\n",
       "        async function convertToInteractive(key) {\n",
       "          const element = document.querySelector('#df-a006d4b1-c1d9-4f24-96b2-44de429b61f1');\n",
       "          const dataTable =\n",
       "            await google.colab.kernel.invokeFunction('convertToInteractive',\n",
       "                                                     [key], {});\n",
       "          if (!dataTable) return;\n",
       "\n",
       "          const docLinkHtml = 'Like what you see? Visit the ' +\n",
       "            '<a target=\"_blank\" href=https://colab.research.google.com/notebooks/data_table.ipynb>data table notebook</a>'\n",
       "            + ' to learn more about interactive tables.';\n",
       "          element.innerHTML = '';\n",
       "          dataTable['output_type'] = 'display_data';\n",
       "          await google.colab.output.renderOutput(dataTable, element);\n",
       "          const docLink = document.createElement('div');\n",
       "          docLink.innerHTML = docLinkHtml;\n",
       "          element.appendChild(docLink);\n",
       "        }\n",
       "      </script>\n",
       "    </div>\n",
       "  </div>\n",
       "  "
      ],
      "text/plain": [
       "   6~8_ride  8~10_ride  10~12_ride  18~20_ride\n",
       "0  102006.0   124448.0     95719.0    104073.0\n",
       "1   86970.0   106168.0     75030.0     87220.0\n",
       "2   84528.0    98547.0     72862.0     88404.0\n",
       "3   71565.0    90351.0     70122.0     74122.0\n",
       "4   67722.0    82103.0     63345.0     59451.0\n",
       "5   28496.0    50730.0     54517.0     48419.0\n",
       "6   30464.0    53267.0     58193.0     54306.0"
      ]
     },
     "execution_count": 30,
     "metadata": {},
     "output_type": "execute_result"
    }
   ],
   "source": [
    "weekride=pd.DataFrame(ridesum, columns=ride)\n",
    "weekride"
   ]
  },
  {
   "cell_type": "markdown",
   "metadata": {
    "id": "U_5noSXK2HEv"
   },
   "source": [
    "출력값을 보면 데이터가 데이터 프레임에 잘 들어간 것을 확인할 수 있습니다. \n",
    "\n",
    "### **🔑참여 실습**\n",
    "\n",
    "\n",
    "### *Inst.*  \n",
    "takeoff의 데이터프레임을 만들어봅시다. \n",
    "\n",
    "\n",
    "### *Hint.*  \n",
    "for문, pd.DataFrame()\n",
    "\n",
    "\n",
    "### *Solution.*"
   ]
  },
  {
   "cell_type": "code",
   "execution_count": null,
   "metadata": {
    "colab": {
     "base_uri": "https://localhost:8080/",
     "height": 269
    },
    "executionInfo": {
     "elapsed": 36,
     "status": "ok",
     "timestamp": 1676180254374,
     "user": {
      "displayName": "성수빈",
      "userId": "07375498608712401337"
     },
     "user_tz": -540
    },
    "id": "5g82vreK2JH4",
    "outputId": "abd2d0d6-02d7-4d06-bfee-c6b9fb02c324"
   },
   "outputs": [
    {
     "data": {
      "text/html": [
       "\n",
       "  <div id=\"df-d5637a79-561a-42ce-9d1a-09884be25ded\">\n",
       "    <div class=\"colab-df-container\">\n",
       "      <div>\n",
       "<style scoped>\n",
       "    .dataframe tbody tr th:only-of-type {\n",
       "        vertical-align: middle;\n",
       "    }\n",
       "\n",
       "    .dataframe tbody tr th {\n",
       "        vertical-align: top;\n",
       "    }\n",
       "\n",
       "    .dataframe thead th {\n",
       "        text-align: right;\n",
       "    }\n",
       "</style>\n",
       "<table border=\"1\" class=\"dataframe\">\n",
       "  <thead>\n",
       "    <tr style=\"text-align: right;\">\n",
       "      <th></th>\n",
       "      <th>6~8_off</th>\n",
       "      <th>8~10_off</th>\n",
       "      <th>10~12_off</th>\n",
       "    </tr>\n",
       "  </thead>\n",
       "  <tbody>\n",
       "    <tr>\n",
       "      <th>0</th>\n",
       "      <td>38367.0</td>\n",
       "      <td>80140.0</td>\n",
       "      <td>66018.0</td>\n",
       "    </tr>\n",
       "    <tr>\n",
       "      <th>1</th>\n",
       "      <td>32995.0</td>\n",
       "      <td>69546.0</td>\n",
       "      <td>52522.0</td>\n",
       "    </tr>\n",
       "    <tr>\n",
       "      <th>2</th>\n",
       "      <td>32357.0</td>\n",
       "      <td>63643.0</td>\n",
       "      <td>50068.0</td>\n",
       "    </tr>\n",
       "    <tr>\n",
       "      <th>3</th>\n",
       "      <td>28520.0</td>\n",
       "      <td>59019.0</td>\n",
       "      <td>48787.0</td>\n",
       "    </tr>\n",
       "    <tr>\n",
       "      <th>4</th>\n",
       "      <td>27151.0</td>\n",
       "      <td>55245.0</td>\n",
       "      <td>44203.0</td>\n",
       "    </tr>\n",
       "    <tr>\n",
       "      <th>5</th>\n",
       "      <td>14599.0</td>\n",
       "      <td>32043.0</td>\n",
       "      <td>36171.0</td>\n",
       "    </tr>\n",
       "    <tr>\n",
       "      <th>6</th>\n",
       "      <td>16167.0</td>\n",
       "      <td>33937.0</td>\n",
       "      <td>39087.0</td>\n",
       "    </tr>\n",
       "  </tbody>\n",
       "</table>\n",
       "</div>\n",
       "      <button class=\"colab-df-convert\" onclick=\"convertToInteractive('df-d5637a79-561a-42ce-9d1a-09884be25ded')\"\n",
       "              title=\"Convert this dataframe to an interactive table.\"\n",
       "              style=\"display:none;\">\n",
       "        \n",
       "  <svg xmlns=\"http://www.w3.org/2000/svg\" height=\"24px\"viewBox=\"0 0 24 24\"\n",
       "       width=\"24px\">\n",
       "    <path d=\"M0 0h24v24H0V0z\" fill=\"none\"/>\n",
       "    <path d=\"M18.56 5.44l.94 2.06.94-2.06 2.06-.94-2.06-.94-.94-2.06-.94 2.06-2.06.94zm-11 1L8.5 8.5l.94-2.06 2.06-.94-2.06-.94L8.5 2.5l-.94 2.06-2.06.94zm10 10l.94 2.06.94-2.06 2.06-.94-2.06-.94-.94-2.06-.94 2.06-2.06.94z\"/><path d=\"M17.41 7.96l-1.37-1.37c-.4-.4-.92-.59-1.43-.59-.52 0-1.04.2-1.43.59L10.3 9.45l-7.72 7.72c-.78.78-.78 2.05 0 2.83L4 21.41c.39.39.9.59 1.41.59.51 0 1.02-.2 1.41-.59l7.78-7.78 2.81-2.81c.8-.78.8-2.07 0-2.86zM5.41 20L4 18.59l7.72-7.72 1.47 1.35L5.41 20z\"/>\n",
       "  </svg>\n",
       "      </button>\n",
       "      \n",
       "  <style>\n",
       "    .colab-df-container {\n",
       "      display:flex;\n",
       "      flex-wrap:wrap;\n",
       "      gap: 12px;\n",
       "    }\n",
       "\n",
       "    .colab-df-convert {\n",
       "      background-color: #E8F0FE;\n",
       "      border: none;\n",
       "      border-radius: 50%;\n",
       "      cursor: pointer;\n",
       "      display: none;\n",
       "      fill: #1967D2;\n",
       "      height: 32px;\n",
       "      padding: 0 0 0 0;\n",
       "      width: 32px;\n",
       "    }\n",
       "\n",
       "    .colab-df-convert:hover {\n",
       "      background-color: #E2EBFA;\n",
       "      box-shadow: 0px 1px 2px rgba(60, 64, 67, 0.3), 0px 1px 3px 1px rgba(60, 64, 67, 0.15);\n",
       "      fill: #174EA6;\n",
       "    }\n",
       "\n",
       "    [theme=dark] .colab-df-convert {\n",
       "      background-color: #3B4455;\n",
       "      fill: #D2E3FC;\n",
       "    }\n",
       "\n",
       "    [theme=dark] .colab-df-convert:hover {\n",
       "      background-color: #434B5C;\n",
       "      box-shadow: 0px 1px 3px 1px rgba(0, 0, 0, 0.15);\n",
       "      filter: drop-shadow(0px 1px 2px rgba(0, 0, 0, 0.3));\n",
       "      fill: #FFFFFF;\n",
       "    }\n",
       "  </style>\n",
       "\n",
       "      <script>\n",
       "        const buttonEl =\n",
       "          document.querySelector('#df-d5637a79-561a-42ce-9d1a-09884be25ded button.colab-df-convert');\n",
       "        buttonEl.style.display =\n",
       "          google.colab.kernel.accessAllowed ? 'block' : 'none';\n",
       "\n",
       "        async function convertToInteractive(key) {\n",
       "          const element = document.querySelector('#df-d5637a79-561a-42ce-9d1a-09884be25ded');\n",
       "          const dataTable =\n",
       "            await google.colab.kernel.invokeFunction('convertToInteractive',\n",
       "                                                     [key], {});\n",
       "          if (!dataTable) return;\n",
       "\n",
       "          const docLinkHtml = 'Like what you see? Visit the ' +\n",
       "            '<a target=\"_blank\" href=https://colab.research.google.com/notebooks/data_table.ipynb>data table notebook</a>'\n",
       "            + ' to learn more about interactive tables.';\n",
       "          element.innerHTML = '';\n",
       "          dataTable['output_type'] = 'display_data';\n",
       "          await google.colab.output.renderOutput(dataTable, element);\n",
       "          const docLink = document.createElement('div');\n",
       "          docLink.innerHTML = docLinkHtml;\n",
       "          element.appendChild(docLink);\n",
       "        }\n",
       "      </script>\n",
       "    </div>\n",
       "  </div>\n",
       "  "
      ],
      "text/plain": [
       "   6~8_off  8~10_off  10~12_off\n",
       "0  38367.0   80140.0    66018.0\n",
       "1  32995.0   69546.0    52522.0\n",
       "2  32357.0   63643.0    50068.0\n",
       "3  28520.0   59019.0    48787.0\n",
       "4  27151.0   55245.0    44203.0\n",
       "5  14599.0   32043.0    36171.0\n",
       "6  16167.0   33937.0    39087.0"
      ]
     },
     "execution_count": 31,
     "metadata": {},
     "output_type": "execute_result"
    }
   ],
   "source": [
    "takeoffsum=[]\n",
    "for i in range(0,7):\n",
    "  takeoffsum.append(train[train['date']==i][takeoff].sum())\n",
    "  \n",
    "weektakeoff=pd.DataFrame(takeoffsum, columns=takeoff)\n",
    "weektakeoff"
   ]
  },
  {
   "cell_type": "markdown",
   "metadata": {
    "id": "LRiPMS_z2S9j"
   },
   "source": [
    "이제 시각화를 하기위한 데이터 준비는 모두 끝났습니다. \n",
    "\n",
    "본격적인 데이터 시각화를 진행해 봅시다.\n"
   ]
  },
  {
   "cell_type": "markdown",
   "metadata": {
    "id": "Zbj3Es7W2YFG"
   },
   "source": [
    "### **(4) 기본 그래프**\n",
    "\n",
    "먼저 weekride를 살펴보겠습니다. \n",
    "\n",
    "pandas에서는 시리즈와 데이터 프레임에 plot메소드를 지원합니다. </br>\n",
    "이번에는 pandas에서 제공하는 plot메소드를 사용해서 그래프를 그려봅시다.\n"
   ]
  },
  {
   "cell_type": "code",
   "execution_count": null,
   "metadata": {
    "colab": {
     "base_uri": "https://localhost:8080/",
     "height": 283
    },
    "executionInfo": {
     "elapsed": 35,
     "status": "ok",
     "timestamp": 1676180254374,
     "user": {
      "displayName": "성수빈",
      "userId": "07375498608712401337"
     },
     "user_tz": -540
    },
    "id": "5z6eMYmN3Ku_",
    "outputId": "71e00efd-0dd8-4089-f183-76e0d7af7862"
   },
   "outputs": [
    {
     "data": {
      "text/plain": [
       "<matplotlib.axes._subplots.AxesSubplot at 0x7f1ed12fe340>"
      ]
     },
     "execution_count": 32,
     "metadata": {},
     "output_type": "execute_result"
    },
    {
     "data": {
      "image/png": "[encoded data removed]",
      "text/plain": [
       "<Figure size 432x288 with 1 Axes>"
      ]
     },
     "metadata": {
      "needs_background": "light"
     },
     "output_type": "display_data"
    }
   ],
   "source": [
    "weekride.plot()"
   ]
  },
  {
   "cell_type": "markdown",
   "metadata": {
    "id": "YHSTj8-z3Ld4"
   },
   "source": [
    "그래프의 크기가 너무 작으니, 크기를 키워봅시다. \n",
    "\n",
    "figsize=(10, 10) 는 그래프의 크기를 10x10으로 키워줍니다."
   ]
  },
  {
   "cell_type": "code",
   "execution_count": null,
   "metadata": {
    "colab": {
     "base_uri": "https://localhost:8080/",
     "height": 610
    },
    "executionInfo": {
     "elapsed": 31,
     "status": "ok",
     "timestamp": 1676180254375,
     "user": {
      "displayName": "성수빈",
      "userId": "07375498608712401337"
     },
     "user_tz": -540
    },
    "id": "H432tUBU3aNN",
    "outputId": "931fe70e-dcb8-461e-a887-85d49e7d4bf7"
   },
   "outputs": [
    {
     "data": {
      "text/plain": [
       "<matplotlib.axes._subplots.AxesSubplot at 0x7f1ed125f550>"
      ]
     },
     "execution_count": 33,
     "metadata": {},
     "output_type": "execute_result"
    },
    {
     "data": {
      "image/png": "[encoded data removed]",
      "text/plain": [
       "<Figure size 720x720 with 1 Axes>"
      ]
     },
     "metadata": {
      "needs_background": "light"
     },
     "output_type": "display_data"
    }
   ],
   "source": [
    "weekride.plot( figsize=(10, 10))"
   ]
  },
  {
   "cell_type": "markdown",
   "metadata": {
    "id": "IfzB0wvQ3cJi"
   },
   "source": [
    "막대그래프로 한번 살펴봅시다. "
   ]
  },
  {
   "cell_type": "code",
   "execution_count": null,
   "metadata": {
    "colab": {
     "base_uri": "https://localhost:8080/",
     "height": 606
    },
    "executionInfo": {
     "elapsed": 29,
     "status": "ok",
     "timestamp": 1676180254376,
     "user": {
      "displayName": "성수빈",
      "userId": "07375498608712401337"
     },
     "user_tz": -540
    },
    "id": "GkyZjVVY3e8J",
    "outputId": "bba36adb-11b4-40e3-dc48-4eedff90e89d"
   },
   "outputs": [
    {
     "data": {
      "text/plain": [
       "<matplotlib.axes._subplots.AxesSubplot at 0x7f1ed129b910>"
      ]
     },
     "execution_count": 34,
     "metadata": {},
     "output_type": "execute_result"
    },
    {
     "data": {
      "image/png": "[encoded data removed]",
      "text/plain": [
       "<Figure size 720x720 with 1 Axes>"
      ]
     },
     "metadata": {
      "needs_background": "light"
     },
     "output_type": "display_data"
    }
   ],
   "source": [
    "weekride.plot(kind='bar', figsize=(10, 10)) "
   ]
  },
  {
   "cell_type": "markdown",
   "metadata": {
    "id": "I0_BkjCW3fDL"
   },
   "source": [
    "가로막대그래프도 한번 살펴봅시다. "
   ]
  },
  {
   "cell_type": "code",
   "execution_count": null,
   "metadata": {
    "colab": {
     "base_uri": "https://localhost:8080/",
     "height": 610
    },
    "executionInfo": {
     "elapsed": 572,
     "status": "ok",
     "timestamp": 1676180254923,
     "user": {
      "displayName": "성수빈",
      "userId": "07375498608712401337"
     },
     "user_tz": -540
    },
    "id": "CnrXQ8qR3fIR",
    "outputId": "bcc79ec3-a66a-40e8-80ec-f009679f6c44"
   },
   "outputs": [
    {
     "data": {
      "text/plain": [
       "<matplotlib.axes._subplots.AxesSubplot at 0x7f1ed11680a0>"
      ]
     },
     "execution_count": 35,
     "metadata": {},
     "output_type": "execute_result"
    },
    {
     "data": {
      "image/png": "[encoded data removed]",
      "text/plain": [
       "<Figure size 720x720 with 1 Axes>"
      ]
     },
     "metadata": {
      "needs_background": "light"
     },
     "output_type": "display_data"
    }
   ],
   "source": [
    "weekride.plot(kind='barh', figsize=(10, 10))"
   ]
  },
  {
   "cell_type": "markdown",
   "metadata": {
    "id": "3EZXC1dM3fOh"
   },
   "source": [
    "박스그래프를 그려봅시다. "
   ]
  },
  {
   "cell_type": "code",
   "execution_count": null,
   "metadata": {
    "colab": {
     "base_uri": "https://localhost:8080/",
     "height": 610
    },
    "executionInfo": {
     "elapsed": 18,
     "status": "ok",
     "timestamp": 1676180254924,
     "user": {
      "displayName": "성수빈",
      "userId": "07375498608712401337"
     },
     "user_tz": -540
    },
    "id": "PYL488Dd3fVX",
    "outputId": "5dbfa2c1-902a-4c7b-dd8c-13b75d81c567"
   },
   "outputs": [
    {
     "data": {
      "text/plain": [
       "<matplotlib.axes._subplots.AxesSubplot at 0x7f1ed116fc40>"
      ]
     },
     "execution_count": 36,
     "metadata": {},
     "output_type": "execute_result"
    },
    {
     "data": {
      "image/png": "[encoded data removed]",
      "text/plain": [
       "<Figure size 720x720 with 1 Axes>"
      ]
     },
     "metadata": {
      "needs_background": "light"
     },
     "output_type": "display_data"
    }
   ],
   "source": [
    "weekride.plot(kind='box', figsize=(10, 10))"
   ]
  },
  {
   "cell_type": "markdown",
   "metadata": {
    "id": "j57II0I_3fZ1"
   },
   "source": [
    "결과값들을 보면 \n",
    "\n",
    "1. 평일에는 8시에서 10시 사이가 승차인원이 가장 많다.\n",
    "2. 주말에는 10시부터 12시 사이가 승차인원이 가장 많다. \n",
    "3. 10시부터 12시사이에는 이상치가 존재한다.\n",
    "4. 토요일에 급격하게 승차인원이 줄어든다. \n",
    "\n",
    "\n",
    "라는 것을 알 수 있습니다. \n"
   ]
  },
  {
   "cell_type": "markdown",
   "metadata": {
    "id": "Rco7qDt_37Bk"
   },
   "source": [
    "### **🔑참여 실습**\n",
    "\n",
    "\n",
    "### *Inst.*  \n",
    "weektakeoff도 데이터를 시각화하고 분석해봅시다. \n",
    "\n",
    "\n",
    "### *Hint.*  \n",
    "plot()\n",
    "\n",
    "\n",
    "### *Solution.*"
   ]
  },
  {
   "cell_type": "code",
   "execution_count": null,
   "metadata": {
    "colab": {
     "base_uri": "https://localhost:8080/",
     "height": 1000
    },
    "executionInfo": {
     "elapsed": 1148,
     "status": "ok",
     "timestamp": 1676180256058,
     "user": {
      "displayName": "성수빈",
      "userId": "07375498608712401337"
     },
     "user_tz": -540
    },
    "id": "sNnAGu3t605F",
    "outputId": "2b9d8d81-69a4-4ef6-d354-bd69b976e68d"
   },
   "outputs": [
    {
     "data": {
      "text/plain": [
       "<matplotlib.axes._subplots.AxesSubplot at 0x7f1ed0f0a340>"
      ]
     },
     "execution_count": 37,
     "metadata": {},
     "output_type": "execute_result"
    },
    {
     "data": {
      "image/png": "[encoded data removed]",
      "text/plain": [
       "<Figure size 720x720 with 1 Axes>"
      ]
     },
     "metadata": {
      "needs_background": "light"
     },
     "output_type": "display_data"
    },
    {
     "data": {
      "image/png": "[encoded data removed]",
      "text/plain": [
       "<Figure size 720x720 with 1 Axes>"
      ]
     },
     "metadata": {
      "needs_background": "light"
     },
     "output_type": "display_data"
    },
    {
     "data": {
      "image/png": "[encoded data removed]",
      "text/plain": [
       "<Figure size 720x720 with 1 Axes>"
      ]
     },
     "metadata": {
      "needs_background": "light"
     },
     "output_type": "display_data"
    },
    {
     "data": {
      "image/png": "[encoded data removed]",
      "text/plain": [
       "<Figure size 720x720 with 1 Axes>"
      ]
     },
     "metadata": {
      "needs_background": "light"
     },
     "output_type": "display_data"
    }
   ],
   "source": [
    "weektakeoff.plot(figsize=(10, 10))\n",
    "weektakeoff.plot(kind='bar', figsize=(10, 10))\n",
    "weektakeoff.plot(kind='barh', figsize=(10, 10))\n",
    "weektakeoff.plot(kind='box', figsize=(10, 10))"
   ]
  },
  {
   "cell_type": "markdown",
   "metadata": {
    "id": "T3Wdnt73h0eb"
   },
   "source": [
    "결과값들을 보면 \n",
    "\n",
    "1. 평일에는 8시에서 10시사이가 하차인원이 가장 많다. \n",
    "2. 주말에는 10시에서 12사이가 하차인원이 가장 많다. \n",
    "3. 10시에서 12시 사이에 이상치가 존재한다.\n",
    "4. 6시에서 8시 사이가 하차인원이 가장 적다. \n",
    "\n",
    "라는 것을 알 수 있습니다.\n"
   ]
  },
  {
   "cell_type": "markdown",
   "metadata": {
    "id": "YG_Rcj_i0onz"
   },
   "source": [
    "# **3.이상치 확인하기**"
   ]
  },
  {
   "cell_type": "markdown",
   "metadata": {
    "id": "suQZML0wHi1i"
   },
   "source": [
    "이상치<란 다른 값들과 비교해서 너무 크거나 너무 작은 비정상적인 값을 말합니다.\n",
    "</br> 데이터에 이상치가 존재할 때 데이터가 의미하는 바를 제대로 분석하지 못할 수 있기 때문에 </br> 데이터 분석의 목적에 따라서 이상치를 삭제하거나 수정 할 수 있습니다. \n",
    "</br> \n",
    "\n",
    "이상치를 확인할 때 박스그래프에서 사용한 <font style=\"color:#99CCFF; font-weight : bold; font-size : 25px;\">IQR</font>을 이용합니다. \n"
   ]
  },
  {
   "cell_type": "markdown",
   "metadata": {
    "id": "xASlePWwHtWt"
   },
   "source": [
    "takeoff 데이터에 대해서 박스 그래프를 그려봅시다. "
   ]
  },
  {
   "cell_type": "code",
   "execution_count": null,
   "metadata": {
    "colab": {
     "base_uri": "https://localhost:8080/",
     "height": 882
    },
    "executionInfo": {
     "elapsed": 1340,
     "status": "ok",
     "timestamp": 1676180257393,
     "user": {
      "displayName": "성수빈",
      "userId": "07375498608712401337"
     },
     "user_tz": -540
    },
    "id": "4gpR32bk01rI",
    "outputId": "754b6b6e-8243-4c31-9fdb-548e10cdcb99"
   },
   "outputs": [
    {
     "data": {
      "text/plain": [
       "<matplotlib.axes._subplots.AxesSubplot at 0x7f1ed0dcd610>"
      ]
     },
     "execution_count": 38,
     "metadata": {},
     "output_type": "execute_result"
    },
    {
     "data": {
      "image/png": "[encoded data removed]",
      "text/plain": [
       "<Figure size 576x1080 with 1 Axes>"
      ]
     },
     "metadata": {
      "needs_background": "light"
     },
     "output_type": "display_data"
    }
   ],
   "source": [
    "train[takeoff].plot(kind='box',figsize=(8,15))"
   ]
  },
  {
   "cell_type": "markdown",
   "metadata": {
    "id": "3vMZ1enQHxdc"
   },
   "source": [
    "### **🔑참여 실습**\n",
    "\n",
    "\n",
    "### *Inst.*  \n",
    "ride 데이터에 대해서 박스 그래프를 그려봅시다\n",
    "\n",
    "\n",
    "### *Hint.*  \n",
    "plot()\n",
    "\n",
    "\n",
    "### *Solution.*"
   ]
  },
  {
   "cell_type": "code",
   "execution_count": null,
   "metadata": {
    "colab": {
     "base_uri": "https://localhost:8080/",
     "height": 882
    },
    "executionInfo": {
     "elapsed": 803,
     "status": "ok",
     "timestamp": 1676180258188,
     "user": {
      "displayName": "성수빈",
      "userId": "07375498608712401337"
     },
     "user_tz": -540
    },
    "id": "OMCqLB5HH2gw",
    "outputId": "b1edca8b-dbe2-456b-d9a3-2f2aa7006ebe"
   },
   "outputs": [
    {
     "data": {
      "text/plain": [
       "<matplotlib.axes._subplots.AxesSubplot at 0x7f1ed0d53700>"
      ]
     },
     "execution_count": 39,
     "metadata": {},
     "output_type": "execute_result"
    },
    {
     "data": {
      "image/png": "[encoded data removed]",
      "text/plain": [
       "<Figure size 576x1080 with 1 Axes>"
      ]
     },
     "metadata": {
      "needs_background": "light"
     },
     "output_type": "display_data"
    }
   ],
   "source": [
    "train[ride].plot(kind='box',figsize=(8,15))"
   ]
  },
  {
   "cell_type": "markdown",
   "metadata": {
    "id": "wiv7yXNUH4Fs"
   },
   "source": [
    "박스그래프를 보면 데이터에 이상치가 많다는 것을 알 수 있습니다. \n",
    "\n",
    "데이터 시각화에서 그렸던 박스 그래프와 다른 이유는 사용한 데이터가 다르기 때문입니다. \n",
    "\n",
    "박스 그래프에서 이상치의 값은 4분위수를 이용해서 구합니다. \n",
    "</br>이때 사용하는 메소드가 <font style=\"color:#99CCFF; font-weight : bold; font-size : 25px;\">quantile()</font> 메소드 입니다. \n",
    "</br>quantile() 메소드는 해당 행/열의 분위수의 해당하는 값을 반환합니다. \n",
    "\n"
   ]
  },
  {
   "cell_type": "markdown",
   "metadata": {
    "id": "-JIBG6yRIIuI"
   },
   "source": [
    "0.75분위, 즉 제3분위수의 값을 출력합니다. "
   ]
  },
  {
   "cell_type": "code",
   "execution_count": null,
   "metadata": {
    "colab": {
     "base_uri": "https://localhost:8080/"
    },
    "executionInfo": {
     "elapsed": 529,
     "status": "ok",
     "timestamp": 1676180258713,
     "user": {
      "displayName": "성수빈",
      "userId": "07375498608712401337"
     },
     "user_tz": -540
    },
    "id": "8KNUOtqKIIQ9",
    "outputId": "17abd84d-5333-40e2-c3dc-7f1539751fd6"
   },
   "outputs": [
    {
     "data": {
      "text/plain": [
       "date            4.000000e+00\n",
       "bus_route_id    3.003000e+07\n",
       "in_out          0.000000e+00\n",
       "station_code    2.226000e+03\n",
       "latitude        3.350002e+01\n",
       "longitude       1.265759e+02\n",
       "18~20_ride      1.000000e+00\n",
       "6~8_ride        1.000000e+00\n",
       "8~10_ride       1.000000e+00\n",
       "10~12_ride      1.000000e+00\n",
       "6~8_off         0.000000e+00\n",
       "8~10_off        1.000000e+00\n",
       "10~12_off       1.000000e+00\n",
       "Name: 0.75, dtype: float64"
      ]
     },
     "execution_count": 40,
     "metadata": {},
     "output_type": "execute_result"
    }
   ],
   "source": [
    "train.quantile(0.75)"
   ]
  },
  {
   "cell_type": "markdown",
   "metadata": {
    "id": "GANHEzfyIMl2"
   },
   "source": [
    "0.25분위, 제1분위수의 값을 출력합니다. "
   ]
  },
  {
   "cell_type": "code",
   "execution_count": null,
   "metadata": {
    "colab": {
     "base_uri": "https://localhost:8080/"
    },
    "executionInfo": {
     "elapsed": 12,
     "status": "ok",
     "timestamp": 1676180258714,
     "user": {
      "displayName": "성수빈",
      "userId": "07375498608712401337"
     },
     "user_tz": -540
    },
    "id": "_YDl5Ew9IMVx",
    "outputId": "d10451fe-c2b9-4223-f395-9a3c248bd13d"
   },
   "outputs": [
    {
     "data": {
      "text/plain": [
       "date            1.000000e+00\n",
       "bus_route_id    2.346000e+07\n",
       "in_out          0.000000e+00\n",
       "station_code    3.200000e+02\n",
       "latitude        3.329108e+01\n",
       "longitude       1.264758e+02\n",
       "18~20_ride      0.000000e+00\n",
       "6~8_ride        0.000000e+00\n",
       "8~10_ride       0.000000e+00\n",
       "10~12_ride      0.000000e+00\n",
       "6~8_off         0.000000e+00\n",
       "8~10_off        0.000000e+00\n",
       "10~12_off       0.000000e+00\n",
       "Name: 0.25, dtype: float64"
      ]
     },
     "execution_count": 41,
     "metadata": {},
     "output_type": "execute_result"
    }
   ],
   "source": [
    "train.quantile(0.25)"
   ]
  },
  {
   "cell_type": "markdown",
   "metadata": {
    "id": "2ZxTZydNIVQx"
   },
   "source": [
    "이제 IQR의 값을 구해봅시다. \n",
    "\n",
    "IQR은 제3분위수 - 제1분위수의 값입니다."
   ]
  },
  {
   "cell_type": "code",
   "execution_count": null,
   "metadata": {
    "id": "JvXhxNY4IMzO"
   },
   "outputs": [],
   "source": [
    "iqr = train.quantile(0.75) - train.quantile(0.25)"
   ]
  },
  {
   "cell_type": "markdown",
   "metadata": {
    "id": "1MLTLPwDIM7b"
   },
   "source": [
    "이상치는 3분위수 + IQR 값보다 큰 값들을 의미합니다."
   ]
  },
  {
   "cell_type": "code",
   "execution_count": null,
   "metadata": {
    "colab": {
     "base_uri": "https://localhost:8080/"
    },
    "executionInfo": {
     "elapsed": 8,
     "status": "ok",
     "timestamp": 1676180258715,
     "user": {
      "displayName": "성수빈",
      "userId": "07375498608712401337"
     },
     "user_tz": -540
    },
    "id": "rRW582BTINC9",
    "outputId": "3c612a24-37e6-4d81-d62a-2f417f2d5bf4"
   },
   "outputs": [
    {
     "data": {
      "text/plain": [
       "date            8.500000e+00\n",
       "bus_route_id    3.988500e+07\n",
       "in_out          0.000000e+00\n",
       "station_code    5.085000e+03\n",
       "latitude        3.381343e+01\n",
       "longitude       1.267261e+02\n",
       "18~20_ride      2.500000e+00\n",
       "6~8_ride        2.500000e+00\n",
       "8~10_ride       2.500000e+00\n",
       "10~12_ride      2.500000e+00\n",
       "6~8_off         0.000000e+00\n",
       "8~10_off        2.500000e+00\n",
       "10~12_off       2.500000e+00\n",
       "dtype: float64"
      ]
     },
     "execution_count": 43,
     "metadata": {},
     "output_type": "execute_result"
    }
   ],
   "source": [
    "train.quantile(0.75) + iqr *1.5"
   ]
  },
  {
   "cell_type": "markdown",
   "metadata": {
    "id": "4DbAiXckINKY"
   },
   "source": [
    "이상치를 bool형태로 데이터프레임에 표현해봅시다."
   ]
  },
  {
   "cell_type": "code",
   "execution_count": null,
   "metadata": {
    "colab": {
     "base_uri": "https://localhost:8080/",
     "height": 455
    },
    "executionInfo": {
     "elapsed": 360,
     "status": "ok",
     "timestamp": 1676180259070,
     "user": {
      "displayName": "성수빈",
      "userId": "07375498608712401337"
     },
     "user_tz": -540
    },
    "id": "QsoVjJeAINRk",
    "outputId": "6041d0ed-23fe-49bb-b063-34fd28a21def"
   },
   "outputs": [
    {
     "data": {
      "text/html": [
       "\n",
       "  <div id=\"df-0a992415-ea88-4edc-8d5e-98f052769323\">\n",
       "    <div class=\"colab-df-container\">\n",
       "      <div>\n",
       "<style scoped>\n",
       "    .dataframe tbody tr th:only-of-type {\n",
       "        vertical-align: middle;\n",
       "    }\n",
       "\n",
       "    .dataframe tbody tr th {\n",
       "        vertical-align: top;\n",
       "    }\n",
       "\n",
       "    .dataframe thead th {\n",
       "        text-align: right;\n",
       "    }\n",
       "</style>\n",
       "<table border=\"1\" class=\"dataframe\">\n",
       "  <thead>\n",
       "    <tr style=\"text-align: right;\">\n",
       "      <th></th>\n",
       "      <th>date</th>\n",
       "      <th>bus_route_id</th>\n",
       "      <th>in_out</th>\n",
       "      <th>station_code</th>\n",
       "      <th>latitude</th>\n",
       "      <th>longitude</th>\n",
       "      <th>18~20_ride</th>\n",
       "      <th>6~8_ride</th>\n",
       "      <th>8~10_ride</th>\n",
       "      <th>10~12_ride</th>\n",
       "      <th>6~8_off</th>\n",
       "      <th>8~10_off</th>\n",
       "      <th>10~12_off</th>\n",
       "    </tr>\n",
       "    <tr>\n",
       "      <th>id</th>\n",
       "      <th></th>\n",
       "      <th></th>\n",
       "      <th></th>\n",
       "      <th></th>\n",
       "      <th></th>\n",
       "      <th></th>\n",
       "      <th></th>\n",
       "      <th></th>\n",
       "      <th></th>\n",
       "      <th></th>\n",
       "      <th></th>\n",
       "      <th></th>\n",
       "      <th></th>\n",
       "    </tr>\n",
       "  </thead>\n",
       "  <tbody>\n",
       "    <tr>\n",
       "      <th>0</th>\n",
       "      <td>False</td>\n",
       "      <td>False</td>\n",
       "      <td>True</td>\n",
       "      <td>False</td>\n",
       "      <td>False</td>\n",
       "      <td>False</td>\n",
       "      <td>False</td>\n",
       "      <td>False</td>\n",
       "      <td>True</td>\n",
       "      <td>True</td>\n",
       "      <td>False</td>\n",
       "      <td>False</td>\n",
       "      <td>False</td>\n",
       "    </tr>\n",
       "    <tr>\n",
       "      <th>1</th>\n",
       "      <td>False</td>\n",
       "      <td>False</td>\n",
       "      <td>True</td>\n",
       "      <td>False</td>\n",
       "      <td>False</td>\n",
       "      <td>False</td>\n",
       "      <td>True</td>\n",
       "      <td>True</td>\n",
       "      <td>True</td>\n",
       "      <td>True</td>\n",
       "      <td>False</td>\n",
       "      <td>False</td>\n",
       "      <td>False</td>\n",
       "    </tr>\n",
       "    <tr>\n",
       "      <th>2</th>\n",
       "      <td>False</td>\n",
       "      <td>False</td>\n",
       "      <td>True</td>\n",
       "      <td>False</td>\n",
       "      <td>False</td>\n",
       "      <td>False</td>\n",
       "      <td>False</td>\n",
       "      <td>False</td>\n",
       "      <td>False</td>\n",
       "      <td>False</td>\n",
       "      <td>False</td>\n",
       "      <td>False</td>\n",
       "      <td>False</td>\n",
       "    </tr>\n",
       "    <tr>\n",
       "      <th>3</th>\n",
       "      <td>False</td>\n",
       "      <td>False</td>\n",
       "      <td>False</td>\n",
       "      <td>False</td>\n",
       "      <td>False</td>\n",
       "      <td>False</td>\n",
       "      <td>True</td>\n",
       "      <td>True</td>\n",
       "      <td>True</td>\n",
       "      <td>True</td>\n",
       "      <td>False</td>\n",
       "      <td>False</td>\n",
       "      <td>False</td>\n",
       "    </tr>\n",
       "    <tr>\n",
       "      <th>4</th>\n",
       "      <td>False</td>\n",
       "      <td>False</td>\n",
       "      <td>False</td>\n",
       "      <td>False</td>\n",
       "      <td>False</td>\n",
       "      <td>False</td>\n",
       "      <td>False</td>\n",
       "      <td>False</td>\n",
       "      <td>False</td>\n",
       "      <td>False</td>\n",
       "      <td>False</td>\n",
       "      <td>False</td>\n",
       "      <td>False</td>\n",
       "    </tr>\n",
       "    <tr>\n",
       "      <th>...</th>\n",
       "      <td>...</td>\n",
       "      <td>...</td>\n",
       "      <td>...</td>\n",
       "      <td>...</td>\n",
       "      <td>...</td>\n",
       "      <td>...</td>\n",
       "      <td>...</td>\n",
       "      <td>...</td>\n",
       "      <td>...</td>\n",
       "      <td>...</td>\n",
       "      <td>...</td>\n",
       "      <td>...</td>\n",
       "      <td>...</td>\n",
       "    </tr>\n",
       "    <tr>\n",
       "      <th>415418</th>\n",
       "      <td>False</td>\n",
       "      <td>False</td>\n",
       "      <td>False</td>\n",
       "      <td>False</td>\n",
       "      <td>False</td>\n",
       "      <td>False</td>\n",
       "      <td>False</td>\n",
       "      <td>True</td>\n",
       "      <td>False</td>\n",
       "      <td>False</td>\n",
       "      <td>False</td>\n",
       "      <td>False</td>\n",
       "      <td>False</td>\n",
       "    </tr>\n",
       "    <tr>\n",
       "      <th>415419</th>\n",
       "      <td>False</td>\n",
       "      <td>False</td>\n",
       "      <td>False</td>\n",
       "      <td>False</td>\n",
       "      <td>False</td>\n",
       "      <td>False</td>\n",
       "      <td>False</td>\n",
       "      <td>True</td>\n",
       "      <td>False</td>\n",
       "      <td>False</td>\n",
       "      <td>False</td>\n",
       "      <td>False</td>\n",
       "      <td>False</td>\n",
       "    </tr>\n",
       "    <tr>\n",
       "      <th>415420</th>\n",
       "      <td>False</td>\n",
       "      <td>False</td>\n",
       "      <td>False</td>\n",
       "      <td>False</td>\n",
       "      <td>False</td>\n",
       "      <td>False</td>\n",
       "      <td>False</td>\n",
       "      <td>False</td>\n",
       "      <td>False</td>\n",
       "      <td>False</td>\n",
       "      <td>True</td>\n",
       "      <td>False</td>\n",
       "      <td>False</td>\n",
       "    </tr>\n",
       "    <tr>\n",
       "      <th>415421</th>\n",
       "      <td>False</td>\n",
       "      <td>False</td>\n",
       "      <td>False</td>\n",
       "      <td>False</td>\n",
       "      <td>False</td>\n",
       "      <td>False</td>\n",
       "      <td>False</td>\n",
       "      <td>False</td>\n",
       "      <td>False</td>\n",
       "      <td>False</td>\n",
       "      <td>False</td>\n",
       "      <td>False</td>\n",
       "      <td>False</td>\n",
       "    </tr>\n",
       "    <tr>\n",
       "      <th>415422</th>\n",
       "      <td>False</td>\n",
       "      <td>False</td>\n",
       "      <td>False</td>\n",
       "      <td>True</td>\n",
       "      <td>False</td>\n",
       "      <td>False</td>\n",
       "      <td>False</td>\n",
       "      <td>False</td>\n",
       "      <td>False</td>\n",
       "      <td>False</td>\n",
       "      <td>False</td>\n",
       "      <td>True</td>\n",
       "      <td>False</td>\n",
       "    </tr>\n",
       "  </tbody>\n",
       "</table>\n",
       "<p>415423 rows × 13 columns</p>\n",
       "</div>\n",
       "      <button class=\"colab-df-convert\" onclick=\"convertToInteractive('df-0a992415-ea88-4edc-8d5e-98f052769323')\"\n",
       "              title=\"Convert this dataframe to an interactive table.\"\n",
       "              style=\"display:none;\">\n",
       "        \n",
       "  <svg xmlns=\"http://www.w3.org/2000/svg\" height=\"24px\"viewBox=\"0 0 24 24\"\n",
       "       width=\"24px\">\n",
       "    <path d=\"M0 0h24v24H0V0z\" fill=\"none\"/>\n",
       "    <path d=\"M18.56 5.44l.94 2.06.94-2.06 2.06-.94-2.06-.94-.94-2.06-.94 2.06-2.06.94zm-11 1L8.5 8.5l.94-2.06 2.06-.94-2.06-.94L8.5 2.5l-.94 2.06-2.06.94zm10 10l.94 2.06.94-2.06 2.06-.94-2.06-.94-.94-2.06-.94 2.06-2.06.94z\"/><path d=\"M17.41 7.96l-1.37-1.37c-.4-.4-.92-.59-1.43-.59-.52 0-1.04.2-1.43.59L10.3 9.45l-7.72 7.72c-.78.78-.78 2.05 0 2.83L4 21.41c.39.39.9.59 1.41.59.51 0 1.02-.2 1.41-.59l7.78-7.78 2.81-2.81c.8-.78.8-2.07 0-2.86zM5.41 20L4 18.59l7.72-7.72 1.47 1.35L5.41 20z\"/>\n",
       "  </svg>\n",
       "      </button>\n",
       "      \n",
       "  <style>\n",
       "    .colab-df-container {\n",
       "      display:flex;\n",
       "      flex-wrap:wrap;\n",
       "      gap: 12px;\n",
       "    }\n",
       "\n",
       "    .colab-df-convert {\n",
       "      background-color: #E8F0FE;\n",
       "      border: none;\n",
       "      border-radius: 50%;\n",
       "      cursor: pointer;\n",
       "      display: none;\n",
       "      fill: #1967D2;\n",
       "      height: 32px;\n",
       "      padding: 0 0 0 0;\n",
       "      width: 32px;\n",
       "    }\n",
       "\n",
       "    .colab-df-convert:hover {\n",
       "      background-color: #E2EBFA;\n",
       "      box-shadow: 0px 1px 2px rgba(60, 64, 67, 0.3), 0px 1px 3px 1px rgba(60, 64, 67, 0.15);\n",
       "      fill: #174EA6;\n",
       "    }\n",
       "\n",
       "    [theme=dark] .colab-df-convert {\n",
       "      background-color: #3B4455;\n",
       "      fill: #D2E3FC;\n",
       "    }\n",
       "\n",
       "    [theme=dark] .colab-df-convert:hover {\n",
       "      background-color: #434B5C;\n",
       "      box-shadow: 0px 1px 3px 1px rgba(0, 0, 0, 0.15);\n",
       "      filter: drop-shadow(0px 1px 2px rgba(0, 0, 0, 0.3));\n",
       "      fill: #FFFFFF;\n",
       "    }\n",
       "  </style>\n",
       "\n",
       "      <script>\n",
       "        const buttonEl =\n",
       "          document.querySelector('#df-0a992415-ea88-4edc-8d5e-98f052769323 button.colab-df-convert');\n",
       "        buttonEl.style.display =\n",
       "          google.colab.kernel.accessAllowed ? 'block' : 'none';\n",
       "\n",
       "        async function convertToInteractive(key) {\n",
       "          const element = document.querySelector('#df-0a992415-ea88-4edc-8d5e-98f052769323');\n",
       "          const dataTable =\n",
       "            await google.colab.kernel.invokeFunction('convertToInteractive',\n",
       "                                                     [key], {});\n",
       "          if (!dataTable) return;\n",
       "\n",
       "          const docLinkHtml = 'Like what you see? Visit the ' +\n",
       "            '<a target=\"_blank\" href=https://colab.research.google.com/notebooks/data_table.ipynb>data table notebook</a>'\n",
       "            + ' to learn more about interactive tables.';\n",
       "          element.innerHTML = '';\n",
       "          dataTable['output_type'] = 'display_data';\n",
       "          await google.colab.output.renderOutput(dataTable, element);\n",
       "          const docLink = document.createElement('div');\n",
       "          docLink.innerHTML = docLinkHtml;\n",
       "          element.appendChild(docLink);\n",
       "        }\n",
       "      </script>\n",
       "    </div>\n",
       "  </div>\n",
       "  "
      ],
      "text/plain": [
       "         date  bus_route_id  in_out  station_code  latitude  longitude  \\\n",
       "id                                                                       \n",
       "0       False         False    True         False     False      False   \n",
       "1       False         False    True         False     False      False   \n",
       "2       False         False    True         False     False      False   \n",
       "3       False         False   False         False     False      False   \n",
       "4       False         False   False         False     False      False   \n",
       "...       ...           ...     ...           ...       ...        ...   \n",
       "415418  False         False   False         False     False      False   \n",
       "415419  False         False   False         False     False      False   \n",
       "415420  False         False   False         False     False      False   \n",
       "415421  False         False   False         False     False      False   \n",
       "415422  False         False   False          True     False      False   \n",
       "\n",
       "        18~20_ride  6~8_ride  8~10_ride  10~12_ride  6~8_off  8~10_off  \\\n",
       "id                                                                       \n",
       "0            False     False       True        True    False     False   \n",
       "1             True      True       True        True    False     False   \n",
       "2            False     False      False       False    False     False   \n",
       "3             True      True       True        True    False     False   \n",
       "4            False     False      False       False    False     False   \n",
       "...            ...       ...        ...         ...      ...       ...   \n",
       "415418       False      True      False       False    False     False   \n",
       "415419       False      True      False       False    False     False   \n",
       "415420       False     False      False       False     True     False   \n",
       "415421       False     False      False       False    False     False   \n",
       "415422       False     False      False       False    False      True   \n",
       "\n",
       "        10~12_off  \n",
       "id                 \n",
       "0           False  \n",
       "1           False  \n",
       "2           False  \n",
       "3           False  \n",
       "4           False  \n",
       "...           ...  \n",
       "415418      False  \n",
       "415419      False  \n",
       "415420      False  \n",
       "415421      False  \n",
       "415422      False  \n",
       "\n",
       "[415423 rows x 13 columns]"
      ]
     },
     "execution_count": 44,
     "metadata": {},
     "output_type": "execute_result"
    }
   ],
   "source": [
    "train > train.quantile(0.75) + iqr *1.5"
   ]
  },
  {
   "cell_type": "markdown",
   "metadata": {
    "id": "SrLZ7oBFINYE"
   },
   "source": [
    "True를 가진 데이터가 이상치의 값입니다. "
   ]
  },
  {
   "cell_type": "markdown",
   "metadata": {
    "id": "YcXhqhXL0V_l"
   },
   "source": [
    "train.quantile(0.75) + iqr *1.5의 결과값을 보면 알 수 있지만 \n",
    "</br>이상치의 값은 0, 2.5보다 크면 모두 이상치로 취급하게 됩니다. \n",
    "\n",
    "train의 승하차 인원의 데이터는 대부분 0과 1의 값을 가지고 있어서 </br>최대값과 최소값의 차이가 많이 나는 것을 알 수 있습니다. \n",
    "\n",
    "저희는 데이터 특성상 이상치를 제거하거나 변경하지 않고 확인만 하고 넘어가도록 하겠습니다.\n"
   ]
  },
  {
   "cell_type": "markdown",
   "metadata": {
    "id": "e7a321c0"
   },
   "source": [
    "# **4. 모델링(Modeling)**"
   ]
  },
  {
   "cell_type": "markdown",
   "metadata": {
    "id": "fd6d67ad"
   },
   "source": [
    "## **4.1 validation set**\n",
    "딥러닝에서 신경망 모델을 학습하고 평가하기 위해 data set이 필요합니다. 이전까지는 공부를 할 때는 train set과 test set 두개로만 데이터를 나누었습니다. \n",
    "</br>이렇게 train, test 두개로만 분리하는 것은 기초적인 수준입니다.\n",
    "\n",
    "</br>보통 dataset을 성질에 맞게 3가지로 분류합니다.\n",
    "</br><font style=\"font-weight : bold\">1. Train set\n",
    "</br>2. Validation set\n",
    "</br>3. Test set</font>\n",
    "![image](https://img1.daumcdn.net/thumb/R1280x0/?scode=mtistory2&fname=https%3A%2F%2Fblog.kakaocdn.net%2Fdn%2FctzBsg%2Fbtq8gmVCvGZ%2F8iLKfqrego1JopZQeSEXMK%2Fimg.png)\n",
    " \n",
    "이렇게 각각 모델을 학습하고 검증하고 평가하는데에 목적을 서로 다르게 두고 있습니다. </br>이 세가지 data set이 정확히 무엇이고 어떤 성질을 띄는지 살펴보겠습니다.\n",
    " \n",
    ">## **Train set**\n",
    "\n",
    "모델을 학습하기 위한 data set입니다. </br>한 가지 계속 명심해야할 중요한 사실은 \n",
    "</br><font style=\"font-weight : bold\">\"모델을 학습하는데에는 오직 유일하게 train dataset만 이용\"</font>\n",
    "</br>한다는 사실입니다.\n",
    " \n",
    "보통 train set을 이용해 각기 다른 모델을 서로 다른 epoch로 학습을 시킵니다.\n",
    "</br>여기서 각기 다른 모델이란 hidden layer 혹은 hyper parameter에 약간씩 변화를 줌을 뜻합니다.\n",
    "\n",
    ">## **Validation set & Test set**\n",
    "\n",
    "<font style=\"color:#99CCFF; font-weight : bold; font-size : 25px;\">validation set</font>은 학습이 이미 완료된 모델을 <font style=\"font-weight : bold\">검증</font>하기위한 data set입니다. <br/><font style=\"color:#99CCFF; font-weight : bold; font-size : 25px;\">test set</font>은 학습과 검증이 완료된 모델의 성능을 <font style=\"font-weight : bold\">평가</font>하기위한 data set입니다.\n",
    "\n",
    "Train : Test 데이터를 8 : 2로 나누는데, Train 데이터 중 일부를 validation set으로 이용합니다.\n",
    "</br>Train : Validation : Test 을 일반적으로 6 : 2 : 2로 이용합니다.\n",
    " \n",
    "validation set과 test set의 <font style=\"color:#99CCFF; font-weight : bold; font-size : 25px;\">공통점</font>은 </br>이 데이터를 통해 모델을 update 즉, 학습을 시키지 않는다는 것입니다.\n",
    "</br>이렇게 validation set과 test set은 둘다 이미 학습을 완료한 모델에 대해 </br>평가하고 학습을 시키지 않는데 둘의 <font style=\"color:#FF9999; font-weight : bold; font-size : 25px;\">차이</font>를 알아보겠습니다.\n",
    "\n",
    "단순히 train, test로만 분리하면 train set으로 모델을 만들고 test set으로 성능을 평가하게 됩니다. </br>하지만, 보통 model을 만들 때는 한번에 model이 만들어지기 보다는 </br>피드백을 받고 수정을 거치는 경우가 대부분입니다. \n",
    "\n",
    "그런데 test set을 검증용으로 사용하면 훈련에 사용되었다고 보기 때문에 </br>모델 수정 후 동일한 test set으로 검증하면 정확한 성능 평가가 어렵습다. </br>그렇기 때문에 필요한 것이 바로 validation set입니다.\n",
    " \n",
    "<font style=\"font-weight : bold\">validation set</font>은 <font style=\"font-weight : bold\">모델 성능 검증용</font>으로 </br>중간에 사용되는 dataset이므로 학습에 일정 부분 관여하게 됩니다. </br>test set은 train set으로 학습하고, validation set으로 검증까지 끝낸 모델에 대해</br> 최종적으로 성능을 평가할 때 사용합니다. </br>보통 모델을 다 만들어서 보고까지 끝낸 후 현업에 최종 배포하기 전에</br> <font style=\"font-weight : bold\">test set</font>으로 <font style=\"font-weight : bold\">최종 성능 평가</font>를 합니다.\n",
    "\n",
    "결국, 둘의 차이는 Validation set은 모델을 <font style=\"color:#99CCFF; font-weight : bold; font-size : 25px;\">update</font>, </br>즉 학습을 시키진 않지만 학습에 <font style=\"color:#99CCFF; font-weight : bold; font-size : 25px;\">'관여'</font>는 합니다.\n",
    "\n",
    "Test set은 학습에 전혀 관여하지 않고 오직 <font style=\"color:#FF9999; font-weight : bold; font-size : 25px;\">'최종 성능'</font>을 평가하기 위해 쓰입니다.\n",
    "</br>Validation set으로 학습을 하지 않는데 어떻게 학습에 관여하는지 아래 그림을 보면서 살펴겠습니다.\n",
    "    \n",
    "![image](https://img1.daumcdn.net/thumb/R1280x0/?scode=mtistory2&fname=https%3A%2F%2Fblog.kakaocdn.net%2Fdn%2FmvGtd%2FbtqBcMffUgO%2FpJ6B5vd9Y5RoGE9L6xscVk%2Fimg.png)  \n",
    "그림에서 우측으로 갈수록 epoch를 늘려가면서 train set을 학습시키는 과정입니다.\n",
    "</br>그림을 보면 알 수 있듯이 가운데 그림은 train set뿐만아니라 </br>unseen data에 대해서도 좋은 성능을 보일것으로 보입니다.\n",
    "</br>그러나 가장 우측그림을 보면 train set에 <font style=\"font-weight : bold\">overfitting</font>되어 </br>다른 unseen data에 대해 <font style=\"font-weight : bold\">안 좋은 성능</font>을 보일 것입니다.\n",
    "\n",
    "즉, train set으로 학습을 할때 너무 높은 epoch로 학습시키면 </br><font style=\"color:#99CCFF; font-weight : bold; font-size : 25px;\">\"overfitting\"</font>의 문제가 있습니다.\n",
    "\n",
    "위 그림을 보면 파란색 baseline을 기준으로 더 학습시키면 </br>overfitting되어 test set에 대한 결과가 점점 안 좋아집니다.\n",
    "\n",
    "따라서, 우리는 파란색 baseline 까지만 학습을 해야합니다. </br>다시말해, 파란색 baseline에 해당하는 epoch를 찾아야합니다.\n",
    "\n",
    "그러나 이때 test set은 '최종 성능' 평가할때만 사용하므로 학습에 이처럼 관여해서는 안됩니다.\n",
    "</br>결국 여기서 validation set이 사용되는 것입니다.\n",
    " \n",
    "validation set을 사용하여 train set에 대한 epoch를 바꿔가면서 </br>위 그림과 같은 error 곡선을 그립니다.\n",
    "\n",
    "그 후, baseline에 해당하는 epoch를 찾으면 해당 epoch까지만 모델을 학습시켜 </br>test set으로 '최종 성능'을 평가합니다.\n",
    "</br>한마디로 위 그림에서의 test error를 validation set에 의한 <font style=\"font-weight : bold\">validation error</font>라고 생각하면 됩니다.\n",
    " \n",
    "이렇게 validation set은 train set에 의한 epoch뿐만 아니라 </br>다른 hyperparameter, hidden layer를 조정할 때도 사용될 수 있습니다. \n",
    "\n",
    "예를 들어, learning rate와 hidden layer를 조금 변형해가면서\n",
    "</br>validation set에 대한 <font style=\"font-weight : bold\">accuracy</font>를 보면서 \n",
    "</br>적절한 hyperparameter, hidden layer를 결정하는 것입니다.\n",
    " \n",
    "Validation set에 대한 <font style=\"color:#99CCFF; font-weight : bold; font-size : 25px;\">\"accuracy\"</font>가 중요한 이유는 </br>학습에서 overfitting에 빠지지 않고, unseen data에 대한 좋은 성능을 가지는 것이 핵심적입니다.\n",
    " \n",
    "따라서 최종 성능 평가를 위한 test 이전에 validation으로 어떤 모델을 어떤 epoch로 학습시킬 때, </br>unseen data에 대해서 좋은 성능을 보이는 모델이 무엇인지 파악하야 합니다."
   ]
  },
  {
   "cell_type": "markdown",
   "metadata": {
    "id": "1e024198"
   },
   "source": [
    "## **4.2 Linear Regression + validation set**\n",
    "train, test는 앞에서 이미 나눴으므로 train을 다시 train-val로 나눕니다."
   ]
  },
  {
   "cell_type": "code",
   "execution_count": null,
   "metadata": {
    "id": "9f9f25e0"
   },
   "outputs": [],
   "source": [
    "# 사이킷런의 train_test_split 사용\n",
    "from sklearn.model_selection import train_test_split"
   ]
  },
  {
   "cell_type": "code",
   "execution_count": null,
   "metadata": {
    "id": "1dcc750d"
   },
   "outputs": [],
   "source": [
    "# LinearRegression 객체 호출\n",
    "from sklearn.linear_model import LinearRegression"
   ]
  },
  {
   "cell_type": "code",
   "execution_count": null,
   "metadata": {
    "colab": {
     "base_uri": "https://localhost:8080/"
    },
    "executionInfo": {
     "elapsed": 6,
     "status": "ok",
     "timestamp": 1676180259420,
     "user": {
      "displayName": "성수빈",
      "userId": "07375498608712401337"
     },
     "user_tz": -540
    },
    "id": "7a68d9b4",
    "outputId": "6d3d6009-59e9-4442-c6ce-ffb65e38cb44"
   },
   "outputs": [
    {
     "name": "stdout",
     "output_type": "stream",
     "text": [
      "(415423, 12) (311567, 12) (103856, 12)\n"
     ]
    }
   ],
   "source": [
    "# train set을 자동으로 3:1로 train, val 나누기\n",
    "x_train, x_val, y_train, y_val = train_test_split(x, y)\n",
    "print(x.shape,x_train.shape, x_val.shape)"
   ]
  },
  {
   "cell_type": "code",
   "execution_count": null,
   "metadata": {
    "id": "408abb48"
   },
   "outputs": [],
   "source": [
    "# 모델 선언\n",
    "model = LinearRegression()"
   ]
  },
  {
   "cell_type": "code",
   "execution_count": null,
   "metadata": {
    "colab": {
     "base_uri": "https://localhost:8080/"
    },
    "executionInfo": {
     "elapsed": 380,
     "status": "ok",
     "timestamp": 1676180259795,
     "user": {
      "displayName": "성수빈",
      "userId": "07375498608712401337"
     },
     "user_tz": -540
    },
    "id": "e8ccc702",
    "outputId": "335da818-3bfd-485b-c668-90db592742e7"
   },
   "outputs": [
    {
     "data": {
      "text/plain": [
       "LinearRegression()"
      ]
     },
     "execution_count": 49,
     "metadata": {},
     "output_type": "execute_result"
    }
   ],
   "source": [
    "# 모델 훈련\n",
    "model.fit(x_train, y_train)"
   ]
  },
  {
   "cell_type": "code",
   "execution_count": null,
   "metadata": {
    "colab": {
     "base_uri": "https://localhost:8080/"
    },
    "executionInfo": {
     "elapsed": 27,
     "status": "ok",
     "timestamp": 1676180259795,
     "user": {
      "displayName": "성수빈",
      "userId": "07375498608712401337"
     },
     "user_tz": -540
    },
    "id": "0327795f",
    "outputId": "ff6ec72c-5871-49e5-f96d-3227e0c08845"
   },
   "outputs": [
    {
     "name": "stdout",
     "output_type": "stream",
     "text": [
      "training set accuracy: 0.43806734276411674\n"
     ]
    }
   ],
   "source": [
    "# 학습된 model로 x_train의 결과를 얻어낸 다음, 그 예측과 y_train을 비교\n",
    "# training set 정확도 확인\n",
    "print(\"training set accuracy:\", model.score(x_train, y_train))"
   ]
  },
  {
   "cell_type": "markdown",
   "metadata": {
    "id": "148c84cf"
   },
   "source": [
    "### **🔑참여 실습**\n",
    "\n",
    "\n",
    "### *Inst.*  \n",
    "validation set 정확도 확인\n",
    "\n",
    "\n",
    "### *Hint.*  \n",
    "model.score()\n",
    "\n",
    "\n",
    "### *Solution.*"
   ]
  },
  {
   "cell_type": "code",
   "execution_count": null,
   "metadata": {
    "colab": {
     "base_uri": "https://localhost:8080/"
    },
    "executionInfo": {
     "elapsed": 25,
     "status": "ok",
     "timestamp": 1676180259795,
     "user": {
      "displayName": "성수빈",
      "userId": "07375498608712401337"
     },
     "user_tz": -540
    },
    "id": "db56c342",
    "outputId": "387ef749-0d29-4146-edff-14ca3422fd54"
   },
   "outputs": [
    {
     "name": "stdout",
     "output_type": "stream",
     "text": [
      "validation set accuracy: 0.44234921651911896\n"
     ]
    }
   ],
   "source": [
    "print(\"validation set accuracy:\", model.score(x_val, y_val))"
   ]
  },
  {
   "cell_type": "code",
   "execution_count": null,
   "metadata": {
    "colab": {
     "base_uri": "https://localhost:8080/"
    },
    "executionInfo": {
     "elapsed": 23,
     "status": "ok",
     "timestamp": 1676180259796,
     "user": {
      "displayName": "성수빈",
      "userId": "07375498608712401337"
     },
     "user_tz": -540
    },
    "id": "df005216",
    "outputId": "628bbb6f-0cc7-41f0-994c-992c9e2ae1ec"
   },
   "outputs": [
    {
     "data": {
      "text/plain": [
       "array([ 9.27068286, 13.75443949,  3.81886976, ...,  0.08748724,\n",
       "        0.05433092, -0.54004479])"
      ]
     },
     "execution_count": 52,
     "metadata": {},
     "output_type": "execute_result"
    }
   ],
   "source": [
    "# 학습된 모델을 이용해 결괏값 예측\n",
    "predict = model.predict(test)\n",
    "predict"
   ]
  },
  {
   "cell_type": "code",
   "execution_count": null,
   "metadata": {
    "colab": {
     "base_uri": "https://localhost:8080/"
    },
    "executionInfo": {
     "elapsed": 19,
     "status": "ok",
     "timestamp": 1676180259796,
     "user": {
      "displayName": "성수빈",
      "userId": "07375498608712401337"
     },
     "user_tz": -540
    },
    "id": "9437d2cc",
    "outputId": "2351e192-c75a-4433-a3e1-328cd6479976"
   },
   "outputs": [
    {
     "data": {
      "text/plain": [
       "array([ 9., 14.,  4., ...,  0.,  0., -1.])"
      ]
     },
     "execution_count": 53,
     "metadata": {},
     "output_type": "execute_result"
    }
   ],
   "source": [
    "# 반올림\n",
    "predict = predict.round(0)\n",
    "predict"
   ]
  },
  {
   "cell_type": "code",
   "execution_count": null,
   "metadata": {
    "colab": {
     "base_uri": "https://localhost:8080/"
    },
    "executionInfo": {
     "elapsed": 15,
     "status": "ok",
     "timestamp": 1676180259796,
     "user": {
      "displayName": "성수빈",
      "userId": "07375498608712401337"
     },
     "user_tz": -540
    },
    "id": "9ad99dd1",
    "outputId": "1f1c6c9e-1ebd-4055-e6c6-cbeb33073a56"
   },
   "outputs": [
    {
     "data": {
      "text/plain": [
       "array([ 9, 14,  4, ...,  0,  0, -1])"
      ]
     },
     "execution_count": 54,
     "metadata": {},
     "output_type": "execute_result"
    }
   ],
   "source": [
    "# float type -> int type 변환\n",
    "predict = predict.astype(int)\n",
    "predict"
   ]
  },
  {
   "cell_type": "code",
   "execution_count": null,
   "metadata": {
    "colab": {
     "base_uri": "https://localhost:8080/"
    },
    "executionInfo": {
     "elapsed": 13,
     "status": "ok",
     "timestamp": 1676180259797,
     "user": {
      "displayName": "성수빈",
      "userId": "07375498608712401337"
     },
     "user_tz": -540
    },
    "id": "b1f17d9a",
    "outputId": "8134b299-0742-47a4-963e-8ba728022466"
   },
   "outputs": [
    {
     "data": {
      "text/plain": [
       "array([ 9, 14,  4, ...,  0,  0,  0])"
      ]
     },
     "execution_count": 55,
     "metadata": {},
     "output_type": "execute_result"
    }
   ],
   "source": [
    "# 0보다 작은 수를 0으로 변환\n",
    "predict[predict < 0] = 0\n",
    "predict"
   ]
  },
  {
   "cell_type": "markdown",
   "metadata": {
    "id": "RuJROVfT2JLb"
   },
   "source": [
    "# **5. 제출파일 생성**"
   ]
  },
  {
   "cell_type": "markdown",
   "metadata": {
    "id": "dESMtWWu2Kuk"
   },
   "source": [
    "train data, test data, validation data로 나눈 다음 학습은 진행하였습니다.\n",
    "</br>이를 통한 Linear Regression Model의 예측값으로 test의 18~20_ride 값을 채워봅시다. "
   ]
  },
  {
   "cell_type": "code",
   "execution_count": null,
   "metadata": {
    "colab": {
     "base_uri": "https://localhost:8080/"
    },
    "executionInfo": {
     "elapsed": 10,
     "status": "ok",
     "timestamp": 1676180259797,
     "user": {
      "displayName": "성수빈",
      "userId": "07375498608712401337"
     },
     "user_tz": -540
    },
    "id": "nvwvbAAlHXys",
    "outputId": "4b0ad935-16da-431d-a501-ee8cc71a6704"
   },
   "outputs": [
    {
     "data": {
      "text/plain": [
       "id\n",
       "415423     9\n",
       "415424    14\n",
       "415425     4\n",
       "415426    34\n",
       "415427     1\n",
       "          ..\n",
       "643588     0\n",
       "643589     0\n",
       "643590     0\n",
       "643591     0\n",
       "643592     0\n",
       "Name: 18~20_ride, Length: 228170, dtype: int64"
      ]
     },
     "execution_count": 56,
     "metadata": {},
     "output_type": "execute_result"
    }
   ],
   "source": [
    "test['18~20_ride'] = predict\n",
    "test['18~20_ride'] "
   ]
  },
  {
   "cell_type": "markdown",
   "metadata": {},
   "source": [
    "지난 시간에 설명드렸 듯이 to_csv 메소드는 </br>데이터 프레임 객체의 내용을 csv 파일 형태로 만들어서 저장해 주는 기능입니다.\n",
    "</br>index를 포함시키지 않고 데이터를 저장하기 위해서는 </br>to_csv(inedx=False)로 지정해서 데이터를 저장해주면 됩니다.\n",
    "\n",
    "</br>이제 제출용 파일인 submission.csv를 저장해봅시다. "
   ]
  },
  {
   "cell_type": "code",
   "execution_count": null,
   "metadata": {
    "id": "_24-4v9BHXyt"
   },
   "outputs": [],
   "source": [
    "test[['18~20_ride']].to_csv('submission.csv')"
   ]
  }
 ],
 "metadata": {
  "colab": {
   "provenance": []
  },
  "kernelspec": {
   "display_name": "Python 3",
   "language": "python",
   "name": "python3"
  },
  "language_info": {
   "codemirror_mode": {
    "name": "ipython",
    "version": 3
   },
   "file_extension": ".py",
   "mimetype": "text/x-python",
   "name": "python",
   "nbconvert_exporter": "python",
   "pygments_lexer": "ipython3",
   "version": "3.10.10"
  },
  "toc": {
   "base_numbering": 1,
   "nav_menu": {},
   "number_sections": true,
   "sideBar": true,
   "skip_h1_title": false,
   "title_cell": "Table of Contents",
   "title_sidebar": "Contents",
   "toc_cell": false,
   "toc_position": {},
   "toc_section_display": true,
   "toc_window_display": false
  },
  "varInspector": {
   "cols": {
    "lenName": 16,
    "lenType": 16,
    "lenVar": 40
   },
   "kernels_config": {
    "python": {
     "delete_cmd_postfix": "",
     "delete_cmd_prefix": "del ",
     "library": "var_list.py",
     "varRefreshCmd": "print(var_dic_list())"
    },
    "r": {
     "delete_cmd_postfix": ") ",
     "delete_cmd_prefix": "rm(",
     "library": "var_list.r",
     "varRefreshCmd": "cat(var_dic_list()) "
    }
   },
   "types_to_exclude": [
    "module",
    "function",
    "builtin_function_or_method",
    "instance",
    "_Feature"
   ],
   "window_display": false
  },
  "vscode": {
   "interpreter": {
    "hash": "86b8356b43c001f492ce210d5b99e5ecf2e0a21755b9592a9b7cc1b3a5c7b07e"
   }
  }
 },
 "nbformat": 4,
 "nbformat_minor": 1
}
