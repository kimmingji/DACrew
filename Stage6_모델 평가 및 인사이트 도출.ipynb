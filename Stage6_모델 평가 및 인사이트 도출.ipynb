{
  "cells": [
    {
      "cell_type": "markdown",
      "metadata": {
        "id": "qUxSfA34cT9V"
      },
      "source": [
        "# **윤슬의 잔물결✨**\n",
        "\n",
        "[[윤슬🌊] 퇴근시간 버스승차인원 예측 경진대회 Stage 1: 데이터 불러오기](https://dacon.io/competitions/official/236047/codeshare/7455?page=1&dtype=random)\n",
        "</br>[[윤슬🌊] 퇴근시간 버스승차인원 예측 경진대회 Stage 2: 데이터 전처리 및 모델링](https://dacon.io/codeshare/7655)\n",
        "</br>[[윤슬🌊] 퇴근시간 버스승차인원 예측 경진대회 Stage 3: 시각화 및 모델링](https://dacon.io/competitions/official/236047/codeshare/7656)\n",
        "</br>[[윤슬🌊] 퇴근시간 버스승차인원 예측 경진대회 Stage 4: 고급 시각화 및 스케일링](https://dacon.io/competitions/official/236047/codeshare/7657?page=1&dtype=random)\n",
        "</br>[[윤슬🌊] 퇴근시간 버스승차인원 예측 경진대회 Stage 5: 외부 데이터 활용 및 모델링](https://dacon.io/competitions/official/236047/codeshare/7658?page=1&dtype=random)\n",
        "\n",
        "<br/>\n",
        "<div style=\"text-align: right\"> 23-02-12 | ver.006 </div>\n",
        "\n",
        "---\n",
        "\n"
      ]
    },
    {
      "cell_type": "markdown",
      "metadata": {
        "id": "HHt_3n3edAL5"
      },
      "source": [
        "분석을 시작하기에 앞서 사용했던 라이브러리와 데이터를 불러오겠습니다😊"
      ]
    },
    {
      "cell_type": "markdown",
      "metadata": {
        "id": "1BSt_4YBdCHl"
      },
      "source": [
        "> 라이브러리 호출"
      ]
    },
    {
      "cell_type": "code",
      "execution_count": null,
      "metadata": {
        "colab": {
          "base_uri": "https://localhost:8080/"
        },
        "id": "C6BON-vKle_E",
        "outputId": "a12bdd2a-cd3a-4fab-ca2e-37eb7bd84ffd",
        "scrolled": true
      },
      "outputs": [
        {
          "name": "stdout",
          "output_type": "stream",
          "text": [
            "Looking in indexes: https://pypi.org/simple, https://us-python.pkg.dev/colab-wheels/public/simple/\n",
            "Collecting geopandas\n",
            "  Downloading geopandas-0.12.2-py3-none-any.whl (1.1 MB)\n",
            "\u001b[2K     \u001b[90m━━━━━━━━━━━━━━━━━━━━━━━━━━━━━━━━━━━━━━━━\u001b[0m \u001b[32m1.1/1.1 MB\u001b[0m \u001b[31m11.8 MB/s\u001b[0m eta \u001b[36m0:00:00\u001b[0m\n",
            "\u001b[?25hCollecting pyproj>=2.6.1.post1\n",
            "  Downloading pyproj-3.4.1-cp38-cp38-manylinux_2_17_x86_64.manylinux2014_x86_64.whl (7.8 MB)\n",
            "\u001b[2K     \u001b[90m━━━━━━━━━━━━━━━━━━━━━━━━━━━━━━━━━━━━━━━━\u001b[0m \u001b[32m7.8/7.8 MB\u001b[0m \u001b[31m38.1 MB/s\u001b[0m eta \u001b[36m0:00:00\u001b[0m\n",
            "\u001b[?25hRequirement already satisfied: pandas>=1.0.0 in /usr/local/lib/python3.8/dist-packages (from geopandas) (1.3.5)\n",
            "Requirement already satisfied: packaging in /usr/local/lib/python3.8/dist-packages (from geopandas) (23.0)\n",
            "Requirement already satisfied: shapely>=1.7 in /usr/local/lib/python3.8/dist-packages (from geopandas) (2.0.1)\n",
            "Collecting fiona>=1.8\n",
            "  Downloading Fiona-1.9.1-cp38-cp38-manylinux_2_17_x86_64.manylinux2014_x86_64.whl (16.0 MB)\n",
            "\u001b[2K     \u001b[90m━━━━━━━━━━━━━━━━━━━━━━━━━━━━━━━━━━━━━━━━\u001b[0m \u001b[32m16.0/16.0 MB\u001b[0m \u001b[31m43.5 MB/s\u001b[0m eta \u001b[36m0:00:00\u001b[0m\n",
            "\u001b[?25hCollecting cligj>=0.5\n",
            "  Downloading cligj-0.7.2-py3-none-any.whl (7.1 kB)\n",
            "Requirement already satisfied: attrs>=19.2.0 in /usr/local/lib/python3.8/dist-packages (from fiona>=1.8->geopandas) (22.2.0)\n",
            "Requirement already satisfied: certifi in /usr/local/lib/python3.8/dist-packages (from fiona>=1.8->geopandas) (2022.12.7)\n",
            "Requirement already satisfied: setuptools in /usr/local/lib/python3.8/dist-packages (from fiona>=1.8->geopandas) (57.4.0)\n",
            "Collecting click~=8.0\n",
            "  Downloading click-8.1.3-py3-none-any.whl (96 kB)\n",
            "\u001b[2K     \u001b[90m━━━━━━━━━━━━━━━━━━━━━━━━━━━━━━━━━━━━━━━━\u001b[0m \u001b[32m96.6/96.6 KB\u001b[0m \u001b[31m6.6 MB/s\u001b[0m eta \u001b[36m0:00:00\u001b[0m\n",
            "\u001b[?25hCollecting click-plugins>=1.0\n",
            "  Downloading click_plugins-1.1.1-py2.py3-none-any.whl (7.5 kB)\n",
            "Collecting munch>=2.3.2\n",
            "  Downloading munch-2.5.0-py2.py3-none-any.whl (10 kB)\n",
            "Requirement already satisfied: pytz>=2017.3 in /usr/local/lib/python3.8/dist-packages (from pandas>=1.0.0->geopandas) (2022.7.1)\n",
            "Requirement already satisfied: numpy>=1.17.3 in /usr/local/lib/python3.8/dist-packages (from pandas>=1.0.0->geopandas) (1.22.4)\n",
            "Requirement already satisfied: python-dateutil>=2.7.3 in /usr/local/lib/python3.8/dist-packages (from pandas>=1.0.0->geopandas) (2.8.2)\n",
            "Requirement already satisfied: six in /usr/local/lib/python3.8/dist-packages (from munch>=2.3.2->fiona>=1.8->geopandas) (1.15.0)\n",
            "Installing collected packages: pyproj, munch, click, cligj, click-plugins, fiona, geopandas\n",
            "  Attempting uninstall: click\n",
            "    Found existing installation: click 7.1.2\n",
            "    Uninstalling click-7.1.2:\n",
            "      Successfully uninstalled click-7.1.2\n",
            "\u001b[31mERROR: pip's dependency resolver does not currently take into account all the packages that are installed. This behaviour is the source of the following dependency conflicts.\n",
            "flask 1.1.4 requires click<8.0,>=5.1, but you have click 8.1.3 which is incompatible.\u001b[0m\u001b[31m\n",
            "\u001b[0mSuccessfully installed click-8.1.3 click-plugins-1.1.1 cligj-0.7.2 fiona-1.9.1 geopandas-0.12.2 munch-2.5.0 pyproj-3.4.1\n"
          ]
        }
      ],
      "source": [
        "pip install geopandas  ## geopandas 설치"
      ]
    },
    {
      "cell_type": "code",
      "execution_count": null,
      "metadata": {},
      "outputs": [],
      "source": [
        "!sudo apt-get install -y fonts-nanum\n",
        "!sudo fc-cache -fv\n",
        "!rm ~/.cache/matplotlib -rf"
      ]
    },
    {
      "cell_type": "code",
      "execution_count": null,
      "metadata": {
        "id": "V6k5kvFUdIEU"
      },
      "outputs": [],
      "source": [
        "import pandas as pd\n",
        "from pandas.plotting import scatter_matrix\n",
        "import numpy as np\n",
        "import matplotlib.pyplot as plt\n",
        "import matplotlib\n",
        "import math\n",
        "\n",
        "# 고급 시각화\n",
        "import geopandas as gpd\n",
        "import pyproj\n",
        "from fiona.crs import from_epsg\n",
        "\n",
        "# 스케일링\n",
        "from sklearn.preprocessing import MinMaxScaler\n",
        "\n",
        "# 모델링\n",
        "from sklearn.model_selection import train_test_split\n",
        "from sklearn.metrics import mean_squared_error\n",
        "from sklearn.model_selection import GridSearchCV\n",
        "from sklearn.linear_model import LinearRegression\n",
        "from sklearn.ensemble import RandomForestRegressor\n",
        "\n",
        "#한글깨짐\n",
        "plt.rc('font', family = 'NanumBarunGothic')"
      ]
    },
    {
      "cell_type": "markdown",
      "metadata": {
        "id": "A7i9kZ9sdODg"
      },
      "source": [
        "> 데이터 불러오기"
      ]
    },
    {
      "cell_type": "code",
      "execution_count": null,
      "metadata": {
        "colab": {
          "base_uri": "https://localhost:8080/"
        },
        "id": "tCFZqic7dPoG",
        "outputId": "40601e32-2317-4622-f7c5-9e27ef72ac4e"
      },
      "outputs": [
        {
          "name": "stdout",
          "output_type": "stream",
          "text": [
            "Drive already mounted at /content/drive; to attempt to forcibly remount, call drive.mount(\"/content/drive\", force_remount=True).\n"
          ]
        }
      ],
      "source": [
        "train = pd.read_csv('train.csv' ,index_col=0)\n",
        "test = pd.read_csv('test.csv', index_col=0)\n",
        "bus = pd.read_csv('bus_bts.csv' ,index_col=0)\n",
        "submission = pd.read_csv('submission_sample.csv', index_col=0)"
      ]
    },
    {
      "cell_type": "markdown",
      "metadata": {
        "id": "-rkf-vXvdRRu"
      },
      "source": [
        "> 전처리"
      ]
    },
    {
      "cell_type": "code",
      "execution_count": null,
      "metadata": {
        "id": "3-ob1hoNdSUR"
      },
      "outputs": [],
      "source": [
        "#train 카피\n",
        "train1=train.copy()\n",
        "\n",
        "# train 데이터셋 전처리\n",
        "train = train.replace('시내', 0)\n",
        "train = train.replace('시외', 1)\n",
        "\n",
        "train = train.drop(['station_name'], axis = 1)\n",
        "\n",
        "train['date'] = pd.to_datetime(train['date'])\n",
        "train['date'] = train['date'].dt.weekday\n",
        "\n",
        "train['6~8_ride']=train['6~7_ride']+train['7~8_ride'] # 6 ~ 8시 승차인원\n",
        "train['8~10_ride']=train['8~9_ride']+train['9~10_ride']\n",
        "train['10~12_ride']=train['10~11_ride']+train['11~12_ride']\n",
        "\n",
        "train['6~8_off']=train['6~7_takeoff']+train['7~8_takeoff'] # 6 ~ 8시 하차인원\n",
        "train['8~10_off']=train['8~9_takeoff']+train['9~10_takeoff']\n",
        "train['10~12_off']=train['10~11_takeoff']+train['11~12_takeoff']\n",
        "\n",
        "train=train.drop(['6~7_ride','7~8_ride','8~9_ride','9~10_ride','10~11_ride','11~12_ride',\n",
        "              '6~7_takeoff','7~8_takeoff','8~9_takeoff','9~10_takeoff','9~10_takeoff','10~11_takeoff','11~12_takeoff'],axis=1)"
      ]
    },
    {
      "cell_type": "code",
      "execution_count": null,
      "metadata": {
        "id": "y90UvbZHdSQx"
      },
      "outputs": [],
      "source": [
        "#test 카피\n",
        "test1=test.copy()\n",
        "\n",
        "# test 데이터셋 전처리\n",
        "test = test.replace('시외', 1)\n",
        "test = test.replace('시내', 0)\n",
        "\n",
        "test = test.drop(['station_name'], axis=1)\n",
        "\n",
        "test['date'] = pd.to_datetime(test['date'])\n",
        "test['date'] = test['date'].dt.weekday\n",
        "\n",
        "test['6~8_ride']=test['6~7_ride']+test['7~8_ride'] # 6 ~ 8시 승차인원\n",
        "test['8~10_ride']=test['8~9_ride']+test['9~10_ride']\n",
        "test['10~12_ride']=test['10~11_ride']+test['11~12_ride']\n",
        "\n",
        "test['6~8_off']=test['6~7_takeoff']+test['7~8_takeoff'] # 6 ~ 8시 하차인원\n",
        "test['8~10_off']=test['8~9_takeoff']+test['9~10_takeoff']\n",
        "test['10~12_off']=test['10~11_takeoff']+test['11~12_takeoff']\n",
        "\n",
        "\n",
        "test=test.drop(['6~7_ride','7~8_ride','8~9_ride','9~10_ride','10~11_ride','11~12_ride',\n",
        "              '6~7_takeoff','7~8_takeoff','8~9_takeoff','9~10_takeoff','9~10_takeoff','10~11_takeoff','11~12_takeoff'],axis=1)"
      ]
    },
    {
      "cell_type": "code",
      "execution_count": null,
      "metadata": {
        "id": "qacVBuvtdZ6_"
      },
      "outputs": [],
      "source": [
        "x = train[['date', 'bus_route_id', 'in_out', 'station_code', 'latitude', 'longitude',\n",
        "       \"6~8_ride\",  \"8~10_ride\", \"10~12_ride\" , \n",
        "       \"6~8_off\", \"8~10_off\",  \"10~12_off\"]]\n",
        "\n",
        "y = train['18~20_ride']"
      ]
    },
    {
      "cell_type": "markdown",
      "metadata": {
        "id": "UW0tvqNv3ttZ"
      },
      "source": [
        "> 지도 시각화"
      ]
    },
    {
      "cell_type": "code",
      "execution_count": null,
      "metadata": {
        "colab": {
          "base_uri": "https://localhost:8080/"
        },
        "id": "X6lRqgq34LxP",
        "outputId": "de6e5f0a-e3e9-4b45-950b-6196133fc4a2"
      },
      "outputs": [
        {
          "data": {
            "text/plain": [
              "<GeometryArray>\n",
              "[<POINT (126.494 33.49)>, <POINT (126.485 33.489)>, <POINT (126.474 33.482)>]\n",
              "Length: 3, dtype: geometry"
            ]
          },
          "execution_count": 8,
          "metadata": {},
          "output_type": "execute_result"
        }
      ],
      "source": [
        "jeju_bus = gpd.points_from_xy(train.longitude, train.latitude)\n",
        "jeju_bus[0:3]"
      ]
    },
    {
      "cell_type": "code",
      "execution_count": null,
      "metadata": {
        "colab": {
          "base_uri": "https://localhost:8080/",
          "height": 237
        },
        "id": "wHLsLCsy59GF",
        "outputId": "17a626cf-0ba7-49c6-8bad-9a640c003f78"
      },
      "outputs": [
        {
          "data": {
            "text/html": [
              "\n",
              "  <div id=\"df-df8821c2-a1c5-46df-aa9d-78a616aa03cf\">\n",
              "    <div class=\"colab-df-container\">\n",
              "      <div>\n",
              "<style scoped>\n",
              "    .dataframe tbody tr th:only-of-type {\n",
              "        vertical-align: middle;\n",
              "    }\n",
              "\n",
              "    .dataframe tbody tr th {\n",
              "        vertical-align: top;\n",
              "    }\n",
              "\n",
              "    .dataframe thead th {\n",
              "        text-align: right;\n",
              "    }\n",
              "</style>\n",
              "<table border=\"1\" class=\"dataframe\">\n",
              "  <thead>\n",
              "    <tr style=\"text-align: right;\">\n",
              "      <th></th>\n",
              "      <th>18~20_ride</th>\n",
              "      <th>station_code</th>\n",
              "      <th>in_out</th>\n",
              "      <th>geometry</th>\n",
              "    </tr>\n",
              "    <tr>\n",
              "      <th>id</th>\n",
              "      <th></th>\n",
              "      <th></th>\n",
              "      <th></th>\n",
              "      <th></th>\n",
              "    </tr>\n",
              "  </thead>\n",
              "  <tbody>\n",
              "    <tr>\n",
              "      <th>0</th>\n",
              "      <td>0.0</td>\n",
              "      <td>344</td>\n",
              "      <td>1</td>\n",
              "      <td>POINT (126.49373 33.48990)</td>\n",
              "    </tr>\n",
              "    <tr>\n",
              "      <th>1</th>\n",
              "      <td>5.0</td>\n",
              "      <td>357</td>\n",
              "      <td>1</td>\n",
              "      <td>POINT (126.48508 33.48944)</td>\n",
              "    </tr>\n",
              "    <tr>\n",
              "      <th>2</th>\n",
              "      <td>2.0</td>\n",
              "      <td>432</td>\n",
              "      <td>1</td>\n",
              "      <td>POINT (126.47352 33.48181)</td>\n",
              "    </tr>\n",
              "    <tr>\n",
              "      <th>3</th>\n",
              "      <td>53.0</td>\n",
              "      <td>1579</td>\n",
              "      <td>0</td>\n",
              "      <td>POINT (126.49252 33.50577)</td>\n",
              "    </tr>\n",
              "    <tr>\n",
              "      <th>4</th>\n",
              "      <td>0.0</td>\n",
              "      <td>1646</td>\n",
              "      <td>0</td>\n",
              "      <td>POINT (126.41260 33.25579)</td>\n",
              "    </tr>\n",
              "  </tbody>\n",
              "</table>\n",
              "</div>\n",
              "      <button class=\"colab-df-convert\" onclick=\"convertToInteractive('df-df8821c2-a1c5-46df-aa9d-78a616aa03cf')\"\n",
              "              title=\"Convert this dataframe to an interactive table.\"\n",
              "              style=\"display:none;\">\n",
              "        \n",
              "  <svg xmlns=\"http://www.w3.org/2000/svg\" height=\"24px\"viewBox=\"0 0 24 24\"\n",
              "       width=\"24px\">\n",
              "    <path d=\"M0 0h24v24H0V0z\" fill=\"none\"/>\n",
              "    <path d=\"M18.56 5.44l.94 2.06.94-2.06 2.06-.94-2.06-.94-.94-2.06-.94 2.06-2.06.94zm-11 1L8.5 8.5l.94-2.06 2.06-.94-2.06-.94L8.5 2.5l-.94 2.06-2.06.94zm10 10l.94 2.06.94-2.06 2.06-.94-2.06-.94-.94-2.06-.94 2.06-2.06.94z\"/><path d=\"M17.41 7.96l-1.37-1.37c-.4-.4-.92-.59-1.43-.59-.52 0-1.04.2-1.43.59L10.3 9.45l-7.72 7.72c-.78.78-.78 2.05 0 2.83L4 21.41c.39.39.9.59 1.41.59.51 0 1.02-.2 1.41-.59l7.78-7.78 2.81-2.81c.8-.78.8-2.07 0-2.86zM5.41 20L4 18.59l7.72-7.72 1.47 1.35L5.41 20z\"/>\n",
              "  </svg>\n",
              "      </button>\n",
              "      \n",
              "  <style>\n",
              "    .colab-df-container {\n",
              "      display:flex;\n",
              "      flex-wrap:wrap;\n",
              "      gap: 12px;\n",
              "    }\n",
              "\n",
              "    .colab-df-convert {\n",
              "      background-color: #E8F0FE;\n",
              "      border: none;\n",
              "      border-radius: 50%;\n",
              "      cursor: pointer;\n",
              "      display: none;\n",
              "      fill: #1967D2;\n",
              "      height: 32px;\n",
              "      padding: 0 0 0 0;\n",
              "      width: 32px;\n",
              "    }\n",
              "\n",
              "    .colab-df-convert:hover {\n",
              "      background-color: #E2EBFA;\n",
              "      box-shadow: 0px 1px 2px rgba(60, 64, 67, 0.3), 0px 1px 3px 1px rgba(60, 64, 67, 0.15);\n",
              "      fill: #174EA6;\n",
              "    }\n",
              "\n",
              "    [theme=dark] .colab-df-convert {\n",
              "      background-color: #3B4455;\n",
              "      fill: #D2E3FC;\n",
              "    }\n",
              "\n",
              "    [theme=dark] .colab-df-convert:hover {\n",
              "      background-color: #434B5C;\n",
              "      box-shadow: 0px 1px 3px 1px rgba(0, 0, 0, 0.15);\n",
              "      filter: drop-shadow(0px 1px 2px rgba(0, 0, 0, 0.3));\n",
              "      fill: #FFFFFF;\n",
              "    }\n",
              "  </style>\n",
              "\n",
              "      <script>\n",
              "        const buttonEl =\n",
              "          document.querySelector('#df-df8821c2-a1c5-46df-aa9d-78a616aa03cf button.colab-df-convert');\n",
              "        buttonEl.style.display =\n",
              "          google.colab.kernel.accessAllowed ? 'block' : 'none';\n",
              "\n",
              "        async function convertToInteractive(key) {\n",
              "          const element = document.querySelector('#df-df8821c2-a1c5-46df-aa9d-78a616aa03cf');\n",
              "          const dataTable =\n",
              "            await google.colab.kernel.invokeFunction('convertToInteractive',\n",
              "                                                     [key], {});\n",
              "          if (!dataTable) return;\n",
              "\n",
              "          const docLinkHtml = 'Like what you see? Visit the ' +\n",
              "            '<a target=\"_blank\" href=https://colab.research.google.com/notebooks/data_table.ipynb>data table notebook</a>'\n",
              "            + ' to learn more about interactive tables.';\n",
              "          element.innerHTML = '';\n",
              "          dataTable['output_type'] = 'display_data';\n",
              "          await google.colab.output.renderOutput(dataTable, element);\n",
              "          const docLink = document.createElement('div');\n",
              "          docLink.innerHTML = docLinkHtml;\n",
              "          element.appendChild(docLink);\n",
              "        }\n",
              "      </script>\n",
              "    </div>\n",
              "  </div>\n",
              "  "
            ],
            "text/plain": [
              "    18~20_ride  station_code  in_out                    geometry\n",
              "id                                                              \n",
              "0          0.0           344       1  POINT (126.49373 33.48990)\n",
              "1          5.0           357       1  POINT (126.48508 33.48944)\n",
              "2          2.0           432       1  POINT (126.47352 33.48181)\n",
              "3         53.0          1579       0  POINT (126.49252 33.50577)\n",
              "4          0.0          1646       0  POINT (126.41260 33.25579)"
            ]
          },
          "execution_count": 9,
          "metadata": {},
          "output_type": "execute_result"
        }
      ],
      "source": [
        "coulumns = ['18~20_ride', 'station_code','in_out']\n",
        "jeju_bus = gpd.GeoDataFrame(train[coulumns], geometry=jeju_bus, crs=from_epsg(4326))\n",
        "#df_cctv_gdf.info()\n",
        "jeju_bus.head()"
      ]
    },
    {
      "cell_type": "code",
      "execution_count": null,
      "metadata": {
        "colab": {
          "base_uri": "https://localhost:8080/",
          "height": 631
        },
        "id": "Rxo6CHbu5-X7",
        "outputId": "6b0ec0c4-5fbc-4c61-f482-a95edcf420f8"
      },
      "outputs": [
        {
          "name": "stderr",
          "output_type": "stream",
          "text": [
            "WARNING:matplotlib.font_manager:findfont: Font family ['NanumBarunGothic'] not found. Falling back to DejaVu Sans.\n"
          ]
        },
        {
          "data": {
            "text/plain": [
              "<AxesSubplot:>"
            ]
          },
          "execution_count": 10,
          "metadata": {},
          "output_type": "execute_result"
        },
        {
          "data": {
            "image/png": "[encoded data removed]",
            "text/plain": [
              "<Figure size 720x720 with 1 Axes>"
            ]
          },
          "metadata": {
            "needs_background": "light"
          },
          "output_type": "display_data"
        }
      ],
      "source": [
        "jeju_bus2 = jeju_bus.to_crs(epsg=4326)\n",
        "jeju_bus2.plot(color='gray', figsize=(10,10))"
      ]
    },
    {
      "cell_type": "code",
      "execution_count": null,
      "metadata": {
        "colab": {
          "base_uri": "https://localhost:8080/",
          "height": 777
        },
        "id": "mkIRKq975__X",
        "outputId": "20573663-872c-4501-b690-0eb905b7f09b"
      },
      "outputs": [
        {
          "name": "stderr",
          "output_type": "stream",
          "text": [
            "/usr/local/lib/python3.8/dist-packages/geopandas/array.py:938: RuntimeWarning: All-NaN slice encountered\n",
            "  np.nanmin(b[:, 0]),  # minx\n",
            "/usr/local/lib/python3.8/dist-packages/geopandas/array.py:939: RuntimeWarning: All-NaN slice encountered\n",
            "  np.nanmin(b[:, 1]),  # miny\n",
            "/usr/local/lib/python3.8/dist-packages/geopandas/array.py:940: RuntimeWarning: All-NaN slice encountered\n",
            "  np.nanmax(b[:, 2]),  # maxx\n",
            "/usr/local/lib/python3.8/dist-packages/geopandas/array.py:941: RuntimeWarning: All-NaN slice encountered\n",
            "  np.nanmax(b[:, 3]),  # maxy\n",
            "/usr/local/lib/python3.8/dist-packages/geopandas/plotting.py:410: UserWarning: The GeoSeries you are attempting to plot is composed of empty geometries. Nothing has been displayed.\n",
            "  warnings.warn(\n"
          ]
        },
        {
          "data": {
            "image/png": "[encoded data removed]",
            "text/plain": [
              "<Figure size 720x720 with 1 Axes>"
            ]
          },
          "metadata": {
            "needs_background": "light"
          },
          "output_type": "display_data"
        }
      ],
      "source": [
        "ax=jeju_bus.boundary.plot(linewidth=1,color='black',figsize=(10,10))\n",
        "jeju_bus[jeju_bus['in_out']==0].plot(ax=ax, color='blue',markersize=9) #시내\n",
        "jeju_bus[jeju_bus['in_out']==1].plot(ax=ax, color='red',markersize=9) #시외\n",
        "plt.show()"
      ]
    },
    {
      "cell_type": "markdown",
      "metadata": {
        "id": "QGcILFsmdlKx"
      },
      "source": [
        "> 정규화"
      ]
    },
    {
      "cell_type": "code",
      "execution_count": null,
      "metadata": {
        "id": "rRBtzcchdZ3i"
      },
      "outputs": [],
      "source": [
        "# train 데이터셋 정규화\n",
        "transformer = MinMaxScaler()\n",
        "train11 = transformer.fit_transform(train[[\"date\",\"bus_route_id\", \"in_out\", \"station_code\",\n",
        "                                            \"6~8_ride\", \"8~10_ride\" ,\"10~12_ride\", \"6~8_off\",  \"8~10_off\", \"10~12_off\"]])\n",
        "train[[\"date\",\"bus_route_id\", \"in_out\", \"station_code\", \n",
        "        \"6~8_ride\", \"8~10_ride\" ,\"10~12_ride\", \"6~8_off\",  \"8~10_off\", \"10~12_off\"]] = train11"
      ]
    },
    {
      "cell_type": "code",
      "execution_count": null,
      "metadata": {
        "id": "yAGDRejodZ1m"
      },
      "outputs": [],
      "source": [
        "# test 데이터셋 정규화\n",
        "transformer = MinMaxScaler()\n",
        "test11 = transformer.fit_transform(test[[\"date\",\"bus_route_id\", \"in_out\", \"station_code\", \n",
        "                                          \"6~8_ride\", \"8~10_ride\" ,\"10~12_ride\",  \"6~8_off\",  \"8~10_off\", \"10~12_off\"]])\n",
        "test[[\"date\",\"bus_route_id\", \"in_out\", \"station_code\", \n",
        "      \"6~8_ride\", \"8~10_ride\" ,\"10~12_ride\",  \"6~8_off\",  \"8~10_off\", \"10~12_off\"]] = test11"
      ]
    },
    {
      "cell_type": "markdown",
      "metadata": {
        "id": "-POKxqjxeNPP"
      },
      "source": [
        "이렇게 데이터를 불러왔으니, Stage5에서 사용했던 코드를 복습📌해보도록 하겠습니다"
      ]
    },
    {
      "cell_type": "markdown",
      "metadata": {
        "id": "62OJ3s6k6sV4"
      },
      "source": [
        "지도 시각화를 Stage4에서부터 시작해 5까지 왔습니다.(영차영차💦)\n",
        "<br/>Stage4에서는 제주도내 시내/시외 버스를 구분한 단순한 시각화를 했었다면,\n",
        "</br>Stage5에서는 Stage4에서 얻은 결과를 바탕으로 추가적인 전처리 작업을 해주었습니다.\n",
        "\n",
        "1️⃣ 섬에만 다니는 버스노선 구분  \n",
        "2️⃣ 날짜 데이터를 이용해 평일과 주말을 구분  \n",
        "3️⃣ 공휴일 정보를 입력해 공휴일 구분  \n",
        "\n",
        "바로 위와 같은 작업을 해주었죠!\n"
      ]
    },
    {
      "cell_type": "markdown",
      "metadata": {
        "id": "N8j4GrjF9UGM"
      },
      "source": [
        "우선, 제주도 외 시외 버스가 모여 있는 섬의 위치가 추자도와 우도인 정보를 얻어 \n",
        "<br/>새로운 컬럼을 생성해 주었습니다.\n",
        "\n",
        "<br/>외부 섬 위치 정보\n",
        "<br/><font style=\"font-weight : bold\">추자도</font> : 33.95175, 126.31156\n",
        "<br/><font style=\"font-weight : bold\">우도</font> : 33.50367, 126.95577"
      ]
    },
    {
      "cell_type": "code",
      "execution_count": null,
      "metadata": {
        "id": "-2jVJXsrBz_u"
      },
      "outputs": [],
      "source": [
        "# 추자도\n",
        "train['island_1']=0\n",
        "\n",
        "# 우도\n",
        "train['island_2']=0"
      ]
    },
    {
      "cell_type": "markdown",
      "metadata": {
        "id": "5Uf09I3jBYdy"
      },
      "source": [
        "그리고 <font style=\"font-weight : bold\">함수</font>를 정의해주었습니다."
      ]
    },
    {
      "cell_type": "code",
      "execution_count": null,
      "metadata": {
        "id": "Cq6JVYVbBYNI"
      },
      "outputs": [],
      "source": [
        "# 추자도 구분 함수 정의\n",
        "def etc_island(row):\n",
        "    if row > 33.9:\n",
        "        return 1\n",
        "    else:\n",
        "        return 0\n",
        "\n",
        "# 우도 구분 함수 정의\n",
        "def etc_island2(row):\n",
        "    if row > 126.94:\n",
        "\n",
        "        return 2\n",
        "    else :\n",
        "        return 0"
      ]
    },
    {
      "cell_type": "markdown",
      "metadata": {
        "id": "1SnobyfFBjTd"
      },
      "source": [
        "마지막으로 함수를 적용하여 데이터를 저장한 후 기존 데이터는 제거했습니다."
      ]
    },
    {
      "cell_type": "code",
      "execution_count": null,
      "metadata": {
        "id": "YJbvIvvuBnw_"
      },
      "outputs": [],
      "source": [
        "# 추자도 데이터 저장\n",
        "train.island_1 = train.latitude.apply(etc_island) \n",
        "\n",
        "# 우도 데이터 저장\n",
        "train.island_2 = train.longitude.apply(etc_island2) \n",
        "\n",
        "# 외부섬으로 데이터 묶기\n",
        "train['island']=train[\"island_1\"]+train[\"island_2\"]\n",
        "train=train.drop(['island_1','island_2'],axis=1)"
      ]
    },
    {
      "cell_type": "markdown",
      "metadata": {
        "id": "1XN23tjn_nkF"
      },
      "source": [
        "위 방법을 test 데이터에도 똑같이 적용해주었습니다."
      ]
    },
    {
      "cell_type": "code",
      "execution_count": null,
      "metadata": {
        "id": "fCGme8Nd_NR1"
      },
      "outputs": [],
      "source": [
        "test['island_1']=0\n",
        "test.island_1 = test.latitude.apply(etc_island) \n",
        "\n",
        "test['island_2']=0\n",
        "test.island_2 = test.longitude.apply(etc_island2)\n",
        "\n",
        "test['island']=test[\"island_1\"]+test[\"island_2\"]\n",
        "test=test.drop(['island_1','island_2'],axis=1)"
      ]
    },
    {
      "cell_type": "markdown",
      "metadata": {
        "id": "PgNG5oiMDG1s"
      },
      "source": [
        "다음으로, 날짜 데이터를 응용하여 <font style=\"font-weight : bold\">평일, 주말, 공휴일</font>을 <font style=\"color : #6495ED ; font-weight : bold ; font-size : 25px;\">구분</font>해봤습니다.\n",
        "\n",
        "<br/>여기서 처음 등장하는 메소드가 하나 있었죠?!\n",
        "<br/>맞습니다, 바로 <font style=\"color : #6495ED ; font-weight : bold ; font-size : 25px;\">lambda</font> 였습니다👏\n",
        "\n",
        "lambda를 사용하여 함수식을 정말 편하게 작성할 수 있었습니다.\n",
        "<br/>우선, 구분하기 위한 작업을 해주고 lambda를 사용한 함수식을 만들었습니다."
      ]
    },
    {
      "cell_type": "code",
      "execution_count": null,
      "metadata": {
        "id": "PQi_hBPrDWqK"
      },
      "outputs": [],
      "source": [
        "# 2019년 9 ~ 10월에 해당하는 공휴일 리스트 생성\n",
        "holidays = ['2019-09-12', '2019-09-13', '2019-09-14', '2019-10-03', '2019-10-09']\n",
        "\n",
        "# 데이터타입 변환\n",
        "train1['weekday'] = pd.to_datetime(train1['date'])\n",
        "train1['weekday'] = train1['weekday'].dt.weekday"
      ]
    },
    {
      "cell_type": "code",
      "execution_count": null,
      "metadata": {
        "id": "VqrWwvE3Dm85"
      },
      "outputs": [],
      "source": [
        "# 평일: 0, 주말: 20, 공휴일: 10\n",
        "train1['holiday'] = train1.apply(lambda row: 1 if row.date in holidays else 0, axis=1)\n",
        "train1['holiweekend'] = train1.apply(lambda row: 10 if row.holiday == 1 else 0, axis=1)\n",
        "train1['holiweekend'] = train1.apply(lambda row: 20 if row.holiweekend ==0 and row.weekday in [5,6] else row.holiweekend, axis=1)\n",
        "\n",
        "# train 데이터에 추가\n",
        "train['holiday']=train1['holiday']\n",
        "train['holiweekend']=train1['holiweekend']"
      ]
    },
    {
      "cell_type": "markdown",
      "metadata": {
        "id": "JabtxQw-E0Zn"
      },
      "source": [
        "해당 전처리를 test에도 적용해주었습니다."
      ]
    },
    {
      "cell_type": "code",
      "execution_count": null,
      "metadata": {
        "id": "NYY5BkuIE6Sz"
      },
      "outputs": [],
      "source": [
        "test1['weekday'] = pd.to_datetime(test1['date'])\n",
        "test1['weekday'] = test1['weekday'].dt.weekday\n",
        "\n",
        "test1['holiday'] = test1.apply(lambda row: 1 if row.date in holidays else 0, axis=1)\n",
        "test1['holiweekend'] = test1.apply(lambda row: 10 if row.holiday == 1 else 0, axis=1)\n",
        "test1['holiweekend'] = test1.apply(lambda row: 20 if row.holiweekend ==0 and row.weekday in [5,6] else row.holiweekend, axis=1)\n",
        "\n",
        "test['holiday']=test1['holiday']\n",
        "test['holiweekend']=test1['holiweekend']"
      ]
    },
    {
      "cell_type": "markdown",
      "metadata": {
        "id": "5zZDJA0PdyJs"
      },
      "source": [
        "또.. Stage5에서는 기상청에서 제공하는 <font style=\"color : #6495ED ; font-weight : bold ; font-size : 25px;\">공공데이터(외부데이터)</font>를 불러와 사용했었죠?!\n",
        "<br/>이 데이터를 사용하기 위해 전처리되지 않은 train 데이터도 새로 불러와 사용했었습니다."
      ]
    },
    {
      "cell_type": "code",
      "execution_count": null,
      "metadata": {
        "id": "_F_HstYPdx4l"
      },
      "outputs": [],
      "source": [
        "weather = pd.read_csv('제주도 기상관측자료.csv', encoding='cp949')\n",
        "True_train = pd.read_csv('train.csv' ,index_col=0)"
      ]
    },
    {
      "cell_type": "markdown",
      "metadata": {
        "id": "VrYwsQ6-IG4z"
      },
      "source": [
        "weather 데이터의 결측치를 전부 0을 대체해줬습니다."
      ]
    },
    {
      "cell_type": "code",
      "execution_count": null,
      "metadata": {
        "id": "FyfzIDQGH2q_"
      },
      "outputs": [],
      "source": [
        "weather = weather.fillna(0)"
      ]
    },
    {
      "cell_type": "markdown",
      "metadata": {
        "id": "fmnj7tFpMoK9"
      },
      "source": [
        "train 데이터와 weather 데이터의 날짜 컬럼을 합쳐보았습니다."
      ]
    },
    {
      "cell_type": "code",
      "execution_count": null,
      "metadata": {
        "id": "bhUj5NT6H2ns"
      },
      "outputs": [],
      "source": [
        "True_train['date']\n",
        "True_train= True_train.rename(columns={'date':'date_YMD'})\n",
        "train = pd.concat([train, True_train['date_YMD']], axis=1)"
      ]
    },
    {
      "cell_type": "markdown",
      "metadata": {
        "id": "SJLAY7gfNPr7"
      },
      "source": [
        "그리고 제주시와 서귀포시의 위치 정보를 구분하는 컬럼을 생성해주었습니다.\n",
        "<br/> <font style=\"font-weight : bold\">제주시</font> : 33.301833, 126.1798\n",
        "<br/> <font style=\"font-weight : bold\">서귀포시</font> : 33.1696799, 126.1901784"
      ]
    },
    {
      "cell_type": "code",
      "execution_count": null,
      "metadata": {
        "id": "Src92PQ7H2lk"
      },
      "outputs": [],
      "source": [
        "# 제주시, 서귀포시 구분 컬럼 생성\n",
        "train['ground'] = 0\n",
        "\n",
        "# 제주시: 0, 서귀포시: 1\n",
        "train.loc[train['latitude'] <= 33.301833, 'ground'] =1"
      ]
    },
    {
      "cell_type": "markdown",
      "metadata": {
        "id": "6IaJNCjmO31t"
      },
      "source": [
        "우리가 가져온 외부 데이터에도 위 전처리 작업을 해주었습니다."
      ]
    },
    {
      "cell_type": "code",
      "execution_count": null,
      "metadata": {
        "id": "fwLNaaf6H2i7"
      },
      "outputs": [],
      "source": [
        "weather = weather.rename(columns={'일시':'date_YMD'})\n",
        "weather['ground'] = 0\n",
        "weather.loc[weather.지점명 == '서귀포', 'ground']=1"
      ]
    },
    {
      "cell_type": "markdown",
      "metadata": {
        "id": "JPgrWD0KPC-B"
      },
      "source": [
        "마지막으로 train 데이터와 외부 데이터를 병합해주었습니다."
      ]
    },
    {
      "cell_type": "code",
      "execution_count": null,
      "metadata": {
        "id": "8NwLSxAZPL4u"
      },
      "outputs": [],
      "source": [
        "train = pd.merge(train,weather, on=['date_YMD', 'ground'] )\n",
        "train = train.drop(['date_YMD', '지점', '지점명'], axis=1)"
      ]
    },
    {
      "cell_type": "markdown",
      "metadata": {
        "id": "qCay5oMkP3hh"
      },
      "source": [
        "test 데이터도 동일한 방법으로 진행했습니다."
      ]
    },
    {
      "cell_type": "code",
      "execution_count": null,
      "metadata": {
        "id": "PP1mgNrbQDid"
      },
      "outputs": [],
      "source": [
        "# test 데이터 불러오기\n",
        "True_test =  pd.read_csv('/content/drive/MyDrive/229255_bus_riders_at_rush_hour_data/test.csv', index_col=0)\n",
        "\n",
        "# 전처리\n",
        "True_test= True_test.rename(columns={'date':'date_YMD'})\n",
        "test = pd.concat([test, True_test['date_YMD']], axis=1)\n",
        "test['ground'] = 0\n",
        "test.loc[test['latitude'] <= 33.301833, 'ground'] =1\n",
        "\n",
        "# 데이터 병합\n",
        "test = pd.merge(test, weather, on =['date_YMD','ground'])\n",
        "test = test.drop(['date_YMD', '지점', '지점명'], axis=1)"
      ]
    },
    {
      "cell_type": "markdown",
      "metadata": {
        "id": "gXX_l9FMQP3A"
      },
      "source": [
        "그리고 우리가 가져온 데이터도 정규화해주고 데이터 분리 작업까지 해줬습니다."
      ]
    },
    {
      "cell_type": "code",
      "execution_count": null,
      "metadata": {
        "id": "rP5e_71AQPlU"
      },
      "outputs": [],
      "source": [
        "transformer = MinMaxScaler()\n",
        "train[[ 'ground','평균기온(°C)','일강수량(mm)','최대 순간 풍속(m/s)','최소 상대습도(%)']] = transformer.fit_transform(train[[ 'ground','평균기온(°C)','일강수량(mm)','최대 순간 풍속(m/s)','최소 상대습도(%)']])\n",
        "test[[ 'ground','평균기온(°C)','일강수량(mm)','최대 순간 풍속(m/s)','최소 상대습도(%)']] = transformer.fit_transform(test[[ 'ground','평균기온(°C)','일강수량(mm)','최대 순간 풍속(m/s)','최소 상대습도(%)']])"
      ]
    },
    {
      "cell_type": "code",
      "execution_count": null,
      "metadata": {
        "id": "NLQpfAuVRsqj"
      },
      "outputs": [],
      "source": [
        "x = train[['date', 'bus_route_id', 'in_out', 'station_code', 'latitude', 'longitude',\n",
        "       \"6~8_ride\",  \"8~10_ride\", \"10~12_ride\" , \n",
        "       \"6~8_off\", \"8~10_off\",  \"10~12_off\",'island','holiday','holiweekend' ,'ground','평균기온(°C)','일강수량(mm)','최대 순간 풍속(m/s)','최소 상대습도(%)']]\n",
        "\n",
        "y = train['18~20_ride']"
      ]
    },
    {
      "cell_type": "code",
      "execution_count": null,
      "metadata": {
        "id": "d3rFmnw8QSLn"
      },
      "outputs": [],
      "source": [
        "x_train, x_val, y_train, y_val = train_test_split(x, y)"
      ]
    },
    {
      "cell_type": "markdown",
      "metadata": {
        "id": "MJOsWOKFegTX"
      },
      "source": [
        "Stage6은 우리가 지금까지 전처리한 데이터를 효과적으로 예측하기 위한 \n",
        "<br/>모델을 선택하는 과정을 살펴볼 예정입니다.\n",
        "<br/>모두 준비됐나요?\n",
        "\n",
        "<br/>그렇다면, 출발🌊"
      ]
    },
    {
      "cell_type": "markdown",
      "metadata": {
        "id": "bWqB9O4MWj2V"
      },
      "source": [
        "## **1. XGBoost**\n",
        "\n",
        "e<font style=\"font-weight : bold; font-size : 25px;\">X</font>treme <font style=\"font-weight : bold; font-size : 25px;\">G</font>radient <font style=\"font-weight : bold; font-size : 25px;\">B</font>oosting란 뜻으로, \n",
        "<br/>boosted tree algorithms의 계산적인 한계를 뛰어넘고자 고안되었다고 합니다. \n",
        "\n",
        "Tree Algorithm은 뛰어난 성능을 보이지만 속도나 메모리 <font style=\"color:#FF9999; font-weight : bold;\">문제</font>가 있습니다. \n",
        "<br/>이 문제를 크게 줄여주기 때문에 많은 사람들이 사용한다고 합니다.\n",
        " \n",
        "XGBoost는 원래 <font style=\"font-weight : bold\">classifier</font>로 많이 사용되었지만, 그 성능이 좋아 <font style=\"font-weight : bold\">regressor</font>도 나왔습니다."
      ]
    },
    {
      "cell_type": "markdown",
      "metadata": {
        "id": "e9IUZrototcw"
      },
      "source": [
        "## **Xgboost 장점**\n",
        "Xgboost는 기존 GBDT 모델에 비해서 다음 기능이 있습니다.\n",
        "- 정규화(Regularization)\n",
        "- 병렬 처리\n",
        "- 고수준의 유연성\n",
        "- 결측치 처리\n",
        "- Tree Pruning\n",
        "- 내장 Cross Validation\n",
        "- 기존 모델에 이어서 재학습할 수 있습니다.\n",
        "\n",
        "## **xgboost parameter**\n",
        "\n",
        ">## **1) 일반 파라미터 - 도구의 모양을 결정**\n",
        "\n",
        "- <font style=\"font-weight : bold\">booster</font> : 어떤 부스터 구조를 쓸지 결정합니다. (gbtree, gblinear, dart)\n",
        "- <font style=\"font-weight : bold\">nthread</font> : 몇 개의 임계값을 동시에 처리하도록 할지 결정합니다. <font style=\"font-weight : bold\">디폴트는 '가능한 많이'</font>\n",
        "- <font style=\"font-weight : bold\">num_feature</font> : feature 차원의 숫자를 정해야 하는 경우 옵션을 세팅합니다. <font style=\"font-weight : bold\">'디폴트는 가능한 많이'</font>\n",
        "\n",
        ">## **2) 부스트 파라미터 - 트리마다 가지를 칠 때 적용하는 옵션을 정의**\n",
        "\n",
        "- <font style=\"font-weight : bold\">eta</font>: learning rate와 같습니다. 트리에 가지가 많을 수록 과적합 하기 쉽고 매 부스팅 스탭마다 weight를 주어 부스팅 과정에 과적합이 일어나지 않도록 합니다.\n",
        "- <font style=\"font-weight : bold\">gamma</font>: 정보흭득(information Gain)에서 -r로 표현한 바 있습니다. 이것이 커지면, 트리 깊이가 줄어들어 보수적인 모델이 됩니다. (디폴트는 0)\n",
        "- <font style=\"font-weight : bold\">max_depth</font>: 한 트리의 maxium depth. 숫자가를 키울수록 보델의 복잡도가 커집니다. 과적합 하기 쉽고 디폴트는 6, 이 때 리프노트의 개수는 최대 2^6 = 64개입니다.\n",
        "- <font style=\"font-weight : bold\">lambda (L2 reg-form)</font>: L2 Regularization Form에 달리는 weights로, 숫자가 클수록 보수적인 모델이 됩니다.\n",
        "- <font style=\"font-weight : bold\">alpha(L1 reg-form)</font>: L1 Regularization Form에 달리는 weights로, 숫자가 클수록 보수적인 모델이 됩니다.\n",
        "\n",
        ">## **3) 학습과정 파라미터 - 최적화 퍼모먼스를 결정**\n",
        "\n",
        "<font style=\"font-weight : bold\">objective : 목적 함수</font> \n",
        "<br/>reg:linear(linear-regression), binary:logistic(binary-logistic-classification), count:poisson(count data poison regression) 등 다양합니다.\n",
        "\n",
        "<font style=\"font-weight : bold\">eval_metric : 모델의 평가 함수를 조정하는 함수</font>\n",
        "<br/>rmse(root mean square error), logloss(log-likelihood), map(mean average precision) 등 데이터의 특성에 맞게 평가 함수를 조정합니다.\n",
        "\n",
        ">## **4) 커멘드 라인 파라미터**\n",
        "\n",
        "<font style=\"font-weight : bold\">num_rounds</font>: 부스팅 라운드를 결정하는 것으로 랜덤하게 생성되는 모델이니만큼 이 수 가 적당히 큰게 좋습니다. epochs 옵션과 동일합니다."
      ]
    },
    {
      "cell_type": "code",
      "execution_count": null,
      "metadata": {
        "id": "42023e22"
      },
      "outputs": [],
      "source": [
        "# XGBRegressor import\n",
        "from xgboost import XGBRegressor"
      ]
    },
    {
      "cell_type": "code",
      "execution_count": null,
      "metadata": {},
      "outputs": [
        {
          "data": {
            "text/plain": [
              "id\n",
              "415423    12.0\n",
              "415424    17.0\n",
              "415425     4.0\n",
              "415426    52.0\n",
              "415427     3.0\n",
              "          ... \n",
              "643588     0.0\n",
              "643589     0.0\n",
              "643590     0.0\n",
              "643591     0.0\n",
              "643592     0.0\n",
              "Name: 18~20_ride, Length: 228170, dtype: float64"
            ]
          },
          "metadata": {},
          "output_type": "display_data"
        }
      ],
      "source": [
        "submission['18~20_ride'] = predict\n",
        "submission['18~20_ride'] "
      ]
    },
    {
      "cell_type": "markdown",
      "metadata": {
        "id": "7k8NWYF1E4D3"
      },
      "source": [
        "파라미터 random_state는 train과 test를 분리할 때 계속 random으로 분리되는 것을 방지해줍니다."
      ]
    },
    {
      "cell_type": "code",
      "execution_count": null,
      "metadata": {
        "id": "gTm5_RZzE30x"
      },
      "outputs": [],
      "source": [
        "model = XGBRegressor(objective='reg:squarederror', n_estimators = 3000, random_state=32)"
      ]
    },
    {
      "cell_type": "code",
      "execution_count": null,
      "metadata": {
        "id": "ow1nzdMrfQiN"
      },
      "outputs": [],
      "source": [
        "# 모델 학습\n",
        "model.fit(x_train,y_train)"
      ]
    },
    {
      "cell_type": "markdown",
      "metadata": {},
      "source": [
        "이전 시간과 같은 방식으로 train과 <font style=\"color:#99CCFF; font-weight : bold; font-size : 25px;\">validation의 RMSE</font>를 구해보겠습니다."
      ]
    },
    {
      "cell_type": "code",
      "execution_count": null,
      "metadata": {},
      "outputs": [
        {
          "name": "stdout",
          "output_type": "stream",
          "text": [
            "RMSE : 2.1925098661291815\n"
          ]
        }
      ],
      "source": [
        "# train rmse\n",
        "train_predict = model.predict(x_train)\n",
        "print(\"RMSE : {}\".format(math.sqrt(mean_squared_error(train_predict, y_train))))"
      ]
    },
    {
      "cell_type": "code",
      "execution_count": null,
      "metadata": {},
      "outputs": [
        {
          "name": "stdout",
          "output_type": "stream",
          "text": [
            "RMSE : 2.7229339183894896\n"
          ]
        }
      ],
      "source": [
        "# validation rmse\n",
        "valid_predict = model.predict(x_val)\n",
        "print(\"RMSE : {}\".format(math.sqrt(mean_squared_error(valid_predict, y_val))) )"
      ]
    },
    {
      "cell_type": "markdown",
      "metadata": {},
      "source": [
        "이전 시간과 같은 방식으로 train과 <font style=\"color:#99CCFF; font-weight : bold; font-size : 25px;\">validation의 정확도</font>를 확인해보겠습니다."
      ]
    },
    {
      "cell_type": "code",
      "execution_count": null,
      "metadata": {},
      "outputs": [
        {
          "name": "stdout",
          "output_type": "stream",
          "text": [
            "training set accuracy: 0.7861931054758017\n"
          ]
        }
      ],
      "source": [
        "# training set 정확도 확인\n",
        "print(\"training set accuracy:\", model.score(x_train, y_train))"
      ]
    },
    {
      "cell_type": "code",
      "execution_count": null,
      "metadata": {},
      "outputs": [
        {
          "name": "stdout",
          "output_type": "stream",
          "text": [
            "validation set accuracy: 0.6591034339920608\n"
          ]
        }
      ],
      "source": [
        "# validation set 정확도 확인\n",
        "print(\"validation set accuracy:\", model.score(x_val, y_val))"
      ]
    },
    {
      "cell_type": "markdown",
      "metadata": {
        "id": "kz1Nw69flgOI"
      },
      "source": [
        "# **2. 모델 정확도 비교**"
      ]
    },
    {
      "cell_type": "markdown",
      "metadata": {
        "id": "J2GItspFlomi"
      },
      "source": [
        "스테이지 6까지 진행하면서 총 3가지 모델에 대해 알게 되었습니다.\n",
        "<br/>1️⃣ LinearRegression\n",
        "<br/>2️⃣ RandomForestRegressor\n",
        "<br/>3️⃣ XGBRegressor\n",
        "\n",
        "그동안 전처리와 스케일링을 거치면서 처음 train 데이터 셋에 비해 데이터가 많이 달라졌습니다. \n",
        "<br/>그렇다면❗ 최종적으로 어떤 모델을 사용할지 각 모델의 <font style=\"color:#99CCFF; font-weight : bold; font-size : 25px;\">정확도</font>를 비교해 보도록 하겠습니다.\n",
        "\n",
        "<br/>\n",
        "제일 먼저 모델이름과 정확도를 넣을 데이터 프레임을 만들어줄겁니다.\n",
        "\n",
        "필요한 정보를 담기위해 result라는 리스트를 만들어 줍니다.\n",
        "<br/>여기에 모델 하나당 이름과 검증데이터 셋의 정확도를 저장할 것입니다.\n",
        "\n",
        "\n",
        "📍 그리고 최적의 모델을 고른후 <font style=\"color:#99CCFF; font-weight : bold; font-size : 25px;\">변수중요도</font>를 파악할 예정이라 importances라는 데이터 셋을 만들어 주겠습니다.\n"
      ]
    },
    {
      "cell_type": "code",
      "execution_count": null,
      "metadata": {
        "id": "M77o5lCBihLG"
      },
      "outputs": [],
      "source": [
        "result=[]\n",
        "\n",
        "importances = pd.DataFrame()\n",
        "importances1 = pd.DataFrame()\n",
        "importances2 = pd.DataFrame()\n",
        "\n",
        "df = pd.DataFrame(result, columns = ['model', 'accuracy'])\n",
        "df"
      ]
    },
    {
      "cell_type": "markdown",
      "metadata": {
        "id": "jAKVruuHoM2d"
      },
      "source": [
        "그럼 모델을 학습하고, result에 모델명과 정확도를 추가해줍니다. \n",
        "<br/>그리고 importances에 x변수와, 각 변수의 중요도를 넣어줍니다."
      ]
    },
    {
      "cell_type": "code",
      "execution_count": null,
      "metadata": {
        "id": "d2QwRNxPnLDq"
      },
      "outputs": [],
      "source": [
        "#RF\n",
        "model = RandomForestRegressor()\n",
        "model.fit(x_train, y_train)\n",
        "\n",
        "result.append(['RF', model.score(x_val, y_val)])\n",
        "\n",
        "#뒤에 변수중요도에 쓰일 코드\n",
        "importances['feature'] = x_train.columns\n",
        "importances['RFimportances'] = model.feature_importances_"
      ]
    },
    {
      "cell_type": "code",
      "execution_count": null,
      "metadata": {
        "id": "BbMwymn4tcI3"
      },
      "outputs": [],
      "source": [
        "df = pd.DataFrame(result, columns = ['model', 'accuracy'])\n",
        "df"
      ]
    },
    {
      "cell_type": "markdown",
      "metadata": {
        "id": "TZN_lUbDp4Sa"
      },
      "source": [
        "df 를 확인해 보면 잘 입력된 것을 알 수 있습니다.\n",
        "<br/>다른 모델도 똑같이 실행해 보겠습니다."
      ]
    },
    {
      "cell_type": "code",
      "execution_count": null,
      "metadata": {
        "id": "YGsXnMNlwDhJ"
      },
      "outputs": [],
      "source": [
        "# LinearRegression\n",
        "model =LinearRegression()\n",
        "model.fit(x_train, y_train)\n",
        "\n",
        "result.append(['LinearRegression', model.score(x_val, y_val)])\n",
        "\n",
        "# #뒤에 변수중요도에 쓰일 코드\n",
        "# importances1['feature'] = x_train.columns\n",
        "# importances1['LinearRegressionimportances'] = model.feature_importances_\n",
        "\n",
        "# XGB\n",
        "model =XGBRegressor()\n",
        "model.fit(x_train, y_train)\n",
        "\n",
        "result.append(['XGB', model.score(x_val, y_val)])\n",
        "\n",
        "# #뒤에 변수중요도에 쓰일 코드\n",
        "# importances2['feature'] = x_train.columns\n",
        "# importances2['XGBimportances'] = model.feature_importances_"
      ]
    },
    {
      "cell_type": "code",
      "execution_count": null,
      "metadata": {
        "id": "4i_plM7AwLO6"
      },
      "outputs": [],
      "source": [
        "df = pd.DataFrame(result, columns = ['model', 'accuracy'])"
      ]
    },
    {
      "cell_type": "markdown",
      "metadata": {
        "id": "v8FPO2TIqNO6"
      },
      "source": [
        "결과를 확인해 보니 <font style=\"color:#99CCFF; font-weight : bold; font-size : 25px;\">RandomForestRegressor 모델</font>이 가장 <font style=\"color:#99CCFF; font-weight : bold; font-size : 25px;\">높은 정확도</font>를 보입니다.\n",
        "<br/>막대그래프로 한번도 확인해보겠습니다."
      ]
    },
    {
      "cell_type": "code",
      "execution_count": null,
      "metadata": {
        "id": "yrSulDIT0ri0"
      },
      "outputs": [],
      "source": [
        "df.plot.bar(x='model', y='accuracy', rot=0)"
      ]
    },
    {
      "cell_type": "markdown",
      "metadata": {
        "id": "659lFz6FqeRQ"
      },
      "source": [
        "최종모델은 <font style=\"font-weight : bold\">RandomForestRegressor</font> 입니다✨\n",
        "\n",
        "이 모델을 사용했을 때, 각 변수의 중요도를 확인해보겠습니다!\n",
        "<br/>이 작업을 통해 어떤 변수가 가장 연관성이 높은지를 알 수 있고, \n",
        "<br/>학습할 train셋의 colunms을 조정할 수도 있습니다."
      ]
    },
    {
      "cell_type": "code",
      "execution_count": null,
      "metadata": {
        "id": "CYacr8nr00Uu"
      },
      "outputs": [],
      "source": [
        "#변수중요도\n",
        "pip install seaborn\n",
        "\n",
        "import seaborn as sns\n",
        "import matplotlib.pyplot as plt\n",
        "import warnings\n",
        "warnings.filterwarnings('ignore')\n",
        "%matplotlib inline"
      ]
    },
    {
      "cell_type": "code",
      "execution_count": null,
      "metadata": {},
      "outputs": [
        {
          "name": "stderr",
          "output_type": "stream",
          "text": [
            "WARNING:matplotlib.font_manager:findfont: Font family ['NanumBarunGothic'] not found. Falling back to DejaVu Sans.\n"
          ]
        },
        {
          "data": {
            "image/png": "[encoded data removed]",
            "text/plain": [
              "<Figure size 720x576 with 1 Axes>"
            ]
          },
          "metadata": {},
          "output_type": "display_data"
        }
      ],
      "source": [
        "plt.figure(figsize=(10, 8))\n",
        "importances.sort_values('RFimportances', ascending=False, inplace=True)\n",
        "importances.reset_index(drop=True, inplace=True)\n",
        "sns.barplot(x='RFimportances', y='feature', data=importances)\n",
        "plt.title('RandomForest Feature Importances', fontsize=18)\n",
        "plt.show()"
      ]
    },
    {
      "cell_type": "markdown",
      "metadata": {
        "id": "1-41JE8wwSFk"
      },
      "source": [
        "(한글 깨짐, seaborn 패키지 사용으로 오류 발생 시 첨부 이미지 참고 바랍니다.)\n",
        "\n",
        "![img](https://ifh.cc/g/CaVCBo.png)\n",
        "\n",
        "Feature Importances를 보면 10~12_ride 변수가 가장 <font style=\"font-weight : bold\">중요⭐</font>하다고 말해주고 있습니다.\n",
        "<br/>반대로 island 변수는 별로 중요하지 않네요!\n",
        "\n",
        "<font style=\"font-weight : bold\">외부데이터들이 모두 낮은 중요도를 가지고 있습니다. </font>\n",
        "\n",
        "상관관계 그래프를 그려서 더 자세히 살펴봅시다."
      ]
    },
    {
      "cell_type": "code",
      "execution_count": null,
      "metadata": {},
      "outputs": [
        {
          "data": {
            "image/png": "[encoded data removed]",
            "text/plain": [
              "<Figure size 1080x1080 with 2 Axes>"
            ]
          },
          "metadata": {},
          "output_type": "display_data"
        }
      ],
      "source": [
        "fig, ax = plt.subplots(figsize=(15,15))\n",
        "ax = sns.heatmap(train[['18~20_ride','island','holiday','holiweekend' ,'ground','평균기온(°C)','일강수량(mm)','최대 순간 풍속(m/s)','최소 상대습도(%)']].corr(method='spearman'), annot = True)\n",
        "plt.show()"
      ]
    },
    {
      "attachments": {},
      "cell_type": "markdown",
      "metadata": {
        "id": "9a2V65c5Ne2O"
      },
      "source": [
        "변수 중요도와 상관분석을 비교해보니, 기존데이터만 쓰는 것이 정확도가 더 높을 가능성이 있을거 같군요! \n",
        "\n",
        "그런데 기존 데이터 중에서도, 변수중요도가 낮은 column이 있습니다...😥 'in_out' 인데요.. 기존 데이터에서 이 아이를 빼면 더 좋은 정확도를 얻을 수 있지않을까! 하는 생각이 들었습니다.\n",
        "\n",
        "그래서 최종 모델에 사용할 x 변수는 기존 데이터에서 'in_out'을 뺀 나머지 column들 입니다.\n",
        "\n",
        "그럼 RandomForest 모델로 최종 모델을 완성해봅시다."
      ]
    },
    {
      "cell_type": "code",
      "execution_count": null,
      "metadata": {
        "id": "P4m2_Yomb54g"
      },
      "outputs": [],
      "source": [
        "x = train[['10~12_ride','longitude', 'station_code','8~10_ride', 'bus_route_id', 'latitude', '6~8_off', '6~8_ride','8~10_off','date','10~12_off']]\n",
        "\n",
        "y = train['18~20_ride']"
      ]
    },
    {
      "cell_type": "code",
      "execution_count": null,
      "metadata": {},
      "outputs": [],
      "source": [
        "test = test[['10~12_ride','longitude', 'station_code','8~10_ride', 'bus_route_id', 'latitude', '6~8_off', '6~8_ride','8~10_off','date','10~12_off']]"
      ]
    },
    {
      "cell_type": "code",
      "execution_count": null,
      "metadata": {
        "id": "z2H3IXo7cL7D"
      },
      "outputs": [],
      "source": [
        "x_train, x_val, y_train, y_val = train_test_split(x, y)"
      ]
    },
    {
      "cell_type": "markdown",
      "metadata": {
        "id": "i5F-K5oswxfi"
      },
      "source": [
        "# **3. 최종 모델링**"
      ]
    },
    {
      "cell_type": "markdown",
      "metadata": {
        "id": "2rz2vZPumw38"
      },
      "source": [
        "RandomForest가 가장 높은 정확도를 가졌기 때문에 \n",
        "<br/>지난 시간에 학습했던 RandomForest 모델을 사용하여 마지막 모델링을 진행해 보도록 하겠습니다.(화이팅💦) "
      ]
    },
    {
      "cell_type": "code",
      "execution_count": null,
      "metadata": {},
      "outputs": [],
      "source": [
        "# RandomForestRegressor 객체 호출\n",
        "from sklearn.ensemble import RandomForestRegressor"
      ]
    },
    {
      "cell_type": "code",
      "execution_count": null,
      "metadata": {},
      "outputs": [],
      "source": [
        "model = RandomForestRegressor()"
      ]
    },
    {
      "cell_type": "code",
      "execution_count": null,
      "metadata": {},
      "outputs": [
        {
          "name": "stdout",
          "output_type": "stream",
          "text": [
            " Hyperparameter : {'max_depth': 8, 'min_samples_leaf': 8, 'min_samples_split': 8, 'n_estimators': 200}\n",
            "optimum prediction accuracy : 0.5255\n"
          ]
        }
      ],
      "source": [
        "# GRIDSEARCH를 이용한 최적화\n",
        "params = {\n",
        "    'n_estimators':(100, 200),\n",
        "    'max_depth' : (5, 8),\n",
        "    'min_samples_leaf' : (8, 18),\n",
        "    'min_samples_split' : (8, 16)\n",
        "}\n",
        "model = RandomForestRegressor(random_state=0, n_jobs=-1)\n",
        "grid_cv = GridSearchCV(model, param_grid=params, cv=2, n_jobs=-1)\n",
        "grid_cv.fit(x_train, y_train)\n",
        " \n",
        " \n",
        "print(' Hyperparameter :', grid_cv.best_params_)\n",
        "print('optimum prediction accuracy : {0:.4f}'.format(grid_cv.best_score_))"
      ]
    },
    {
      "cell_type": "code",
      "execution_count": null,
      "metadata": {},
      "outputs": [
        {
          "data": {
            "text/plain": [
              "RandomForestRegressor(max_depth=8, min_samples_leaf=8, min_samples_split=8,\n",
              "                      n_estimators=200, random_state=0)"
            ]
          },
          "metadata": {},
          "output_type": "display_data"
        }
      ],
      "source": [
        "# RandomForest 득점 모델 학습\n",
        "model = RandomForestRegressor(random_state=0, max_depth=8, min_samples_leaf=8, min_samples_split=8,n_estimators=200)\n",
        "model.fit(x_train, y_train)"
      ]
    },
    {
      "cell_type": "code",
      "execution_count": null,
      "metadata": {},
      "outputs": [
        {
          "name": "stdout",
          "output_type": "stream",
          "text": [
            "RMSE : 2.957288351254188\n"
          ]
        }
      ],
      "source": [
        "# train rmse\n",
        "train_predict = model.predict(x_train)\n",
        "print(\"RMSE : {}\".format(math.sqrt(mean_squared_error(train_predict, y_train))) )"
      ]
    },
    {
      "cell_type": "code",
      "execution_count": null,
      "metadata": {},
      "outputs": [
        {
          "name": "stdout",
          "output_type": "stream",
          "text": [
            "RMSE : 3.147127423310097\n"
          ]
        }
      ],
      "source": [
        "# validation rmse\n",
        "valid_predict = model.predict(x_val)\n",
        "print(\"RMSE : {}\".format(math.sqrt(mean_squared_error(valid_predict, y_val))))"
      ]
    },
    {
      "cell_type": "code",
      "execution_count": null,
      "metadata": {},
      "outputs": [
        {
          "name": "stdout",
          "output_type": "stream",
          "text": [
            "training set accuracy: 0.6074852811430818\n"
          ]
        }
      ],
      "source": [
        "# training set 정확도 확인\n",
        "print(\"training set accuracy:\", model.score(x_train, y_train))"
      ]
    },
    {
      "cell_type": "code",
      "execution_count": null,
      "metadata": {},
      "outputs": [
        {
          "name": "stdout",
          "output_type": "stream",
          "text": [
            "validation set accuracy: 0.5569919772340153\n"
          ]
        }
      ],
      "source": [
        "# validation set 정확도 확인\n",
        "print(\"validation set accuracy:\", model.score(x_val, y_val))"
      ]
    },
    {
      "attachments": {},
      "cell_type": "markdown",
      "metadata": {},
      "source": [
        "RandomForest Hyperparameter 튜닝을 한 결과 가장 높은 정확도를 보이는 것을 확인할 수 있습니다."
      ]
    },
    {
      "cell_type": "code",
      "execution_count": null,
      "metadata": {},
      "outputs": [
        {
          "data": {
            "text/plain": [
              "array([11.58633089, 17.27333601,  3.60422954, ...,  0.14668842,\n",
              "        0.14668842,  0.17320992])"
            ]
          },
          "metadata": {},
          "output_type": "display_data"
        }
      ],
      "source": [
        "# 학습된 모델을 이용해 결괏값 예측\n",
        "predict = model.predict(test)\n",
        "predict"
      ]
    },
    {
      "cell_type": "code",
      "execution_count": null,
      "metadata": {},
      "outputs": [
        {
          "data": {
            "text/plain": [
              "array([12., 17.,  4., ...,  0.,  0.,  0.])"
            ]
          },
          "metadata": {},
          "output_type": "display_data"
        }
      ],
      "source": [
        "# 반올림\n",
        "predict = predict.round(0)\n",
        "predict"
      ]
    },
    {
      "cell_type": "markdown",
      "metadata": {
        "id": "RuJROVfT2JLb"
      },
      "source": [
        "# **5. 제출파일 생성**"
      ]
    },
    {
      "cell_type": "markdown",
      "metadata": {
        "id": "dESMtWWu2Kuk"
      },
      "source": [
        "지난 시간과 마찬가지로 train data, test data, validation data로 나눈 다음 학습은 진행하였습니다.\n",
        "</br>이를 통한 Random Forest Model의 예측값으로 submissio의 18~20_ride 값을 채워봅시다."
      ]
    },
    {
      "cell_type": "code",
      "execution_count": null,
      "metadata": {},
      "outputs": [
        {
          "data": {
            "text/plain": [
              "id\n",
              "415423    12.0\n",
              "415424    17.0\n",
              "415425     4.0\n",
              "415426    52.0\n",
              "415427     3.0\n",
              "          ... \n",
              "643588     0.0\n",
              "643589     0.0\n",
              "643590     0.0\n",
              "643591     0.0\n",
              "643592     0.0\n",
              "Name: 18~20_ride, Length: 228170, dtype: float64"
            ]
          },
          "metadata": {},
          "output_type": "display_data"
        }
      ],
      "source": [
        "submission['18~20_ride'] = predict\n",
        "submission['18~20_ride'] "
      ]
    },
    {
      "cell_type": "markdown",
      "metadata": {
        "id": "wcHhdSvXIlIa"
      },
      "source": [
        "지난 시간에 설명드렸 듯이 to_csv 메소드는 </br>데이터 프레임 객체의 내용을 csv 파일 형태로 만들어서 저장해 주는 기능입니다.\n",
        "</br>index를 포함시키지 않고 데이터를 저장하기 위해서는 </br>to_csv(inedx=False)로 지정해서 데이터를 저장해주면 됩니다.\n",
        "\n",
        "</br>이제 제출용 파일인 submission.csv를 저장해봅시다. "
      ]
    },
    {
      "cell_type": "code",
      "execution_count": null,
      "metadata": {
        "id": "QAONtFb_A3BQ"
      },
      "outputs": [],
      "source": [
        "submission[['18~20_ride']].to_csv('submission.csv')"
      ]
    },
    {
      "cell_type": "markdown",
      "metadata": {
        "id": "xGpGGy_jHXA-"
      },
      "source": [
        "# **6.인사이트 도출**"
      ]
    },
    {
      "cell_type": "code",
      "execution_count": null,
      "metadata": {},
      "outputs": [
        {
          "data": {
            "text/plain": [
              "count    228170.000000\n",
              "mean          1.257904\n",
              "std           3.744052\n",
              "min           0.000000\n",
              "25%           0.000000\n",
              "50%           0.000000\n",
              "75%           1.000000\n",
              "max         137.000000\n",
              "Name: 18~20_ride, dtype: float64"
            ]
          },
          "metadata": {},
          "output_type": "display_data"
        }
      ],
      "source": [
        "submission['18~20_ride'].describe()"
      ]
    },
    {
      "attachments": {},
      "cell_type": "markdown",
      "metadata": {
        "id": "cp_wG8_Ue3IM"
      },
      "source": [
        "최소 0명에서 최대 137명으로 버스 정류장 승객 수요가 크게 차이납니다. </br>\n",
        "평균이 1.25, 표준편차가 3.7이므로 평균에 몰려있습니다. \n",
        "\n",
        "모델을 생성하여 예측한 결과를 요약하여 관찰했을 때, 18시에서 20시 사이에는 보통 0~1명이 버스에 탑승합니다. \n",
        "\n",
        "지금까지 열심히 따라와 주셔서 감사합니다!🌊"
      ]
    },
    {
      "cell_type": "markdown",
      "metadata": {},
      "source": []
    }
  ],
  "metadata": {
    "colab": {
      "provenance": []
    },
    "kernelspec": {
      "display_name": "Python 3 (ipykernel)",
      "language": "python",
      "name": "python3"
    },
    "language_info": {
      "codemirror_mode": {
        "name": "ipython",
        "version": 3
      },
      "file_extension": ".py",
      "mimetype": "text/x-python",
      "name": "python",
      "nbconvert_exporter": "python",
      "pygments_lexer": "ipython3",
      "version": "3.9.7"
    },
    "toc": {
      "base_numbering": 1,
      "nav_menu": {},
      "number_sections": true,
      "sideBar": true,
      "skip_h1_title": false,
      "title_cell": "Table of Contents",
      "title_sidebar": "Contents",
      "toc_cell": false,
      "toc_position": {},
      "toc_section_display": true,
      "toc_window_display": false
    },
    "varInspector": {
      "cols": {
        "lenName": 16,
        "lenType": 16,
        "lenVar": 40
      },
      "kernels_config": {
        "python": {
          "delete_cmd_postfix": "",
          "delete_cmd_prefix": "del ",
          "library": "var_list.py",
          "varRefreshCmd": "print(var_dic_list())"
        },
        "r": {
          "delete_cmd_postfix": ") ",
          "delete_cmd_prefix": "rm(",
          "library": "var_list.r",
          "varRefreshCmd": "cat(var_dic_list()) "
        }
      },
      "types_to_exclude": [
        "module",
        "function",
        "builtin_function_or_method",
        "instance",
        "_Feature"
      ],
      "window_display": false
    }
  },
  "nbformat": 4,
  "nbformat_minor": 0
}
