{
 "cells": [
  {
   "cell_type": "markdown",
   "id": "e4b04003",
   "metadata": {
    "id": "e4b04003"
   },
   "source": [
    "# **[윤슬🌊] 퇴근시간 버스승차인원 예측 경진대회**\n",
    "# **Stage 1: 데이터 불러오기**\n",
    "\n",
    "![image](http://www.jejunews.com/news/photo/202003/2159886_183759_925.jpg)\n",
    "\n",
    "\n",
    "안녕하세요. 데이크루 4기 '윤슬' 팀입니다!\n",
    "</br>저희는 퇴근시간 버스승차인원 예측 프로젝트의 데이콘 문제 기반 학습(Problem Based Learning, PBL)을 만들고 있습니다.\n",
    "\n",
    "첫번째 포스팅의 주제는 <font style = \"color:#6495ED; font-weight:bold; font-size:25px\">'데이터 불러오기'</font>입니다.\n",
    "\n",
    "*본 포스팅은 데이콘 서포터즈 '데이크루' 4기 활동의 일환입니다.*\n",
    "<p style='text-align: right;'> 23-01-19|ver.001</p>\n",
    "\n",
    "# **1. Intro**\n",
    "\n",
    "매일 아침 집을 나갈 때마다 <font style = \"color:#6495ED; font-weight:bold; font-size:25px\">'퇴근을 바라는 것'</font>이 모든 직장인들의 마음이죠?!\n",
    "힘든 몸을 이끌고 집에 가는 버스에 탈 때마다 항상 꽉꽉 차있는 만원 버스!\n",
    "</br>이런 만원버스에서는 어떤 일이 벌어지고 있을까요?\n",
    "초보부터 고수까지 모두가 참여하는 퇴근시간 버스승차인원 예측 프로젝트를 소개합니다!🚌\n",
    " \n",
    "퇴근시간 버스승차인원 예측에 참여하신 데이커 여러분, 환영합니다.\n",
    " \n",
    "직장인의 가장 큰 소원은 퇴근이죠.\n",
    "퇴근시간 버스승차인원이 적기를 바라는건 당연한 마음!\n",
    " \n",
    "이번 교육을 통해 퇴근시간 버스승차인원 데이터를 분석하여 직접 타보지 않고도 승차 인원을 예측해 내는 멋진 데이커가 되어 봅시다.✨\n",
    "\n",
    "## **1.1 프로젝트 배경**\n",
    "![image](https://ifh.cc/g/WXxpht.jpg)\n",
    "[그림1] “버스” 이모티콘에 대한 추천만으로도 버스 승차 인원이 만만치 않다는 것을 확인할 수 있습니다.\n",
    "</br><font style = \"color:gray;\"><출처>카카오톡 이모티콘 플러스</font>\n",
    "\n",
    "매일 빠르게 집에 가고 싶지만, 항상 퇴근하고 집에만 가는 것은 아닙니다.\n",
    "</br>친구와 약속을 잡기도 하고 반차를 써서 일찍 퇴근하기도 하죠.\n",
    "</br>이처럼 장소나 시간에 관한 고민 역시 퇴근시간 버스승차 인원을 결정하는 중요한 요인 중 하나입니다.\n",
    " \n",
    "버스가 오는 걸 보지 않고도 오늘 몇명이나 버스에 탑승할지 예측할 수 있다면, 이런 고민을 덜 수 있겠죠!\n",
    " \n",
    "그럼 퇴근시간 버스승차인원 예측 프로젝트, 지금 바로 시작해 볼까요?\n",
    "\n",
    "# **2. 데이터 살펴보기**\n",
    "## **2.1 데이터 불러오기**\n",
    "데이터 분석을 하기 위한 첫 번째 단계는 무엇일까요?\n",
    "\n",
    "바로 데이터를 살펴보는 일입니다. 주어진 데이터를 살펴보며 데이터의 모양과 대략적인 내용을 파악하고, 어떤 분석이 가능한지 확인하여 방향을 잡는 과정이 필요합니다. \n",
    "\n",
    "편리하게 데이터를 확인하기 위해선 파이썬 패키지를 잘 활용해야 하는데, 이번엔 <font style = \"color:#6495ED; font-weight:bold; font-size:25px\">판다스(Pandas)</font>를 사용해보도록 하겠습니다. \n",
    "</br>pandas는 \"관계형\" 또는 \"라벨이 있는\" 데이터를 쉽고 직관적으로 사용할 수 있도록 설계된 빠르고 유연하며 표현력이 뛰어난 데이터 구조를 제공합니다. \n",
    "</br>즉, pandas는 다양한 종류의 데이터에 매우 적합합니다.\n",
    "\n",
    "pandas 패키지를 사용하기 위해 우선 임포트를 해야 합니다. “import” 패키지 “as” 약어로 이루어져 있습니다. \n",
    "</br>import 명령어는 설치된 pandas 패키지를 불러와서 실행할 수 있게 대기 상태로 만들어 주는 명령어입니다."
   ]
  },
  {
   "cell_type": "code",
   "execution_count": 1,
   "id": "x4rcR_J79p8U",
   "metadata": {
    "id": "x4rcR_J79p8U"
   },
   "outputs": [],
   "source": [
    "# 데이터를 불러오고 살펴보기 위한 pandas 라이브러리\n",
    "import pandas as pd"
   ]
  },
  {
   "cell_type": "markdown",
   "id": "Id_-_gBF9lQF",
   "metadata": {
    "id": "Id_-_gBF9lQF"
   },
   "source": [
    "이번 프로젝트의 데이터는 총 4가지이며 모두 csv파일입니다.\n",
    "\n",
    "1. train.csv : 데이터 분석 모델을 학습(train)하기 위해 사용하는 데이터 </br> 2019년 9월 제주도의 각 날짜, 출근시간(6시 ~ 12시)의 버스 정류장별 승차인원, 퇴근시간(18시 ~ 20시)의 버스 정류장별 승차인원\n",
    "2. test.csv : 데이터 분석 모델을 통해 정답을 예측하기 위해 사용하는 데이터</br>2019년 10월의 각 날짜, 출근시간(6시 ~ 12시)의 버스 정류장별 승하차 인원\n",
    "3. sample_submission.csv : 예측한 정답 값을 기록하여 제출하기 위한 샘플 정답 파일\n",
    "4. bus_bts : 데이터 분석 모델을 위한 추가적인 데이터 탑승 시간대가 6시부터 12시 사이인 버스카드별 승하차 정보\n",
    "\n",
    "분석에 사용한 데이터 파일을 불러오기 위해, pandas 패키지가 가지고 있는 read_csv() 함수를 사용하겠습니다.\n",
    "\n",
    "분석에 사용할 데이터를 한번 불러와보겠습니다.\n",
    "\n",
    "`read_csv()` 함수는 (‘파일 경로/파일명.확장자명’) 의 형식을 받아 데이터를 불러옵니다.\n",
    "\n",
    "코드가 실행되고 있는 파일(.ipynb)과 불러오고 싶은 데이터 파일(.csv)이 동일한 위치에 존재하는 경우, </br>read_csv() 함수는 파일 경로를 생략하고 (‘파일명.확장자명’) 의 형식을 받아 데이터를 불러올 수 있습니다.\n",
    "\n",
    "이때 index_col 옵션을 이용하면 인덱스 컬럼을 제거할 수 있습니다. 즉, index_col 값을 0으로 지정하면 Unnamed: 0 컬럼이 없어집니다. "
   ]
  },
  {
   "cell_type": "code",
   "execution_count": 2,
   "id": "b6e51f99",
   "metadata": {
    "id": "b6e51f99"
   },
   "outputs": [],
   "source": [
    "# train이라는 객체에 'train.csv' 파일을 할당해 줍니다. \n",
    "train = pd.read_csv('train.csv' ,index_col=0)\n",
    "\n",
    "# submission이라는 객체에 'sample_submission.csv' 파일을 할당해 줍니다. \n",
    "submission = pd.read_csv('submission_sample.csv',index_col=0)"
   ]
  },
  {
   "cell_type": "markdown",
   "id": "6bf8f8b9",
   "metadata": {
    "id": "6bf8f8b9"
   },
   "source": [
    "### **🔑참여 실습**\n",
    "\n",
    "\n",
    "### *Inst.*  \n",
    "입력되어 있는 코드셀을 확인하고, test.csv파일을 직접 불러와봅시다.\n",
    "\n",
    "\n",
    "\n",
    "\n",
    "\n",
    "\n",
    "### *Hint.*  \n",
    "pd.read_csv() \n",
    "\n",
    "\n",
    "\n",
    "\n",
    "### *Solution.*"
   ]
  },
  {
   "cell_type": "code",
   "execution_count": 3,
   "id": "bb2231f9",
   "metadata": {
    "id": "bb2231f9"
   },
   "outputs": [],
   "source": [
    "test = pd.read_csv('test.csv', index_col=0)"
   ]
  },
  {
   "cell_type": "markdown",
   "id": "b3853854",
   "metadata": {
    "id": "b3853854"
   },
   "source": [
    "## **2.2 데이터 확인**\n",
    "\n",
    "데이터가 잘 불러와졌는지, 어떻게 생겼는지 살펴봅시다.\n",
    "\n",
    "데이터 과학 실무 과정에서는 데이터를 살펴볼 때 head(), tail(), info() 메소드를 활용하는 경우가 많습니다. \n",
    "\n",
    "head() : 상위 5행을 선택\n",
    "</br> tail() : 하위 5행을 선택\n",
    "</br> info(): 데이터 결측치 및 변수들의 타입 확인\n",
    "\n",
    "데이터를 정렬하여 이상치나 결측치와 같은 데이터가 있는지 보기 위함입니다. \n",
    "이 두 가지 메소드를 이용해서 데이터가 어떻게 생겼는지 확인해봅시다."
   ]
  },
  {
   "cell_type": "code",
   "execution_count": 4,
   "id": "e0ba2e17",
   "metadata": {
    "colab": {
     "base_uri": "https://localhost:8080/",
     "height": 386
    },
    "id": "e0ba2e17",
    "outputId": "f696e1b5-a6c7-41a4-ccd8-800c5dc4d4be"
   },
   "outputs": [
    {
     "data": {
      "text/html": [
       "<div>\n",
       "<style scoped>\n",
       "    .dataframe tbody tr th:only-of-type {\n",
       "        vertical-align: middle;\n",
       "    }\n",
       "\n",
       "    .dataframe tbody tr th {\n",
       "        vertical-align: top;\n",
       "    }\n",
       "\n",
       "    .dataframe thead th {\n",
       "        text-align: right;\n",
       "    }\n",
       "</style>\n",
       "<table border=\"1\" class=\"dataframe\">\n",
       "  <thead>\n",
       "    <tr style=\"text-align: right;\">\n",
       "      <th></th>\n",
       "      <th>date</th>\n",
       "      <th>bus_route_id</th>\n",
       "      <th>in_out</th>\n",
       "      <th>station_code</th>\n",
       "      <th>station_name</th>\n",
       "      <th>latitude</th>\n",
       "      <th>longitude</th>\n",
       "      <th>6~7_ride</th>\n",
       "      <th>7~8_ride</th>\n",
       "      <th>8~9_ride</th>\n",
       "      <th>9~10_ride</th>\n",
       "      <th>10~11_ride</th>\n",
       "      <th>11~12_ride</th>\n",
       "      <th>6~7_takeoff</th>\n",
       "      <th>7~8_takeoff</th>\n",
       "      <th>8~9_takeoff</th>\n",
       "      <th>9~10_takeoff</th>\n",
       "      <th>10~11_takeoff</th>\n",
       "      <th>11~12_takeoff</th>\n",
       "      <th>18~20_ride</th>\n",
       "    </tr>\n",
       "    <tr>\n",
       "      <th>id</th>\n",
       "      <th></th>\n",
       "      <th></th>\n",
       "      <th></th>\n",
       "      <th></th>\n",
       "      <th></th>\n",
       "      <th></th>\n",
       "      <th></th>\n",
       "      <th></th>\n",
       "      <th></th>\n",
       "      <th></th>\n",
       "      <th></th>\n",
       "      <th></th>\n",
       "      <th></th>\n",
       "      <th></th>\n",
       "      <th></th>\n",
       "      <th></th>\n",
       "      <th></th>\n",
       "      <th></th>\n",
       "      <th></th>\n",
       "      <th></th>\n",
       "    </tr>\n",
       "  </thead>\n",
       "  <tbody>\n",
       "    <tr>\n",
       "      <th>0</th>\n",
       "      <td>2019-09-01</td>\n",
       "      <td>4270000</td>\n",
       "      <td>시외</td>\n",
       "      <td>344</td>\n",
       "      <td>제주썬호텔</td>\n",
       "      <td>33.48990</td>\n",
       "      <td>126.49373</td>\n",
       "      <td>0.0</td>\n",
       "      <td>1.0</td>\n",
       "      <td>2.0</td>\n",
       "      <td>5.0</td>\n",
       "      <td>2.0</td>\n",
       "      <td>6.0</td>\n",
       "      <td>0.0</td>\n",
       "      <td>0.0</td>\n",
       "      <td>0.0</td>\n",
       "      <td>0.0</td>\n",
       "      <td>0.0</td>\n",
       "      <td>0.0</td>\n",
       "      <td>0.0</td>\n",
       "    </tr>\n",
       "    <tr>\n",
       "      <th>1</th>\n",
       "      <td>2019-09-01</td>\n",
       "      <td>4270000</td>\n",
       "      <td>시외</td>\n",
       "      <td>357</td>\n",
       "      <td>한라병원</td>\n",
       "      <td>33.48944</td>\n",
       "      <td>126.48508</td>\n",
       "      <td>1.0</td>\n",
       "      <td>4.0</td>\n",
       "      <td>4.0</td>\n",
       "      <td>2.0</td>\n",
       "      <td>5.0</td>\n",
       "      <td>6.0</td>\n",
       "      <td>0.0</td>\n",
       "      <td>0.0</td>\n",
       "      <td>0.0</td>\n",
       "      <td>0.0</td>\n",
       "      <td>0.0</td>\n",
       "      <td>0.0</td>\n",
       "      <td>5.0</td>\n",
       "    </tr>\n",
       "    <tr>\n",
       "      <th>2</th>\n",
       "      <td>2019-09-01</td>\n",
       "      <td>4270000</td>\n",
       "      <td>시외</td>\n",
       "      <td>432</td>\n",
       "      <td>정존마을</td>\n",
       "      <td>33.48181</td>\n",
       "      <td>126.47352</td>\n",
       "      <td>1.0</td>\n",
       "      <td>1.0</td>\n",
       "      <td>0.0</td>\n",
       "      <td>2.0</td>\n",
       "      <td>0.0</td>\n",
       "      <td>0.0</td>\n",
       "      <td>0.0</td>\n",
       "      <td>0.0</td>\n",
       "      <td>0.0</td>\n",
       "      <td>0.0</td>\n",
       "      <td>0.0</td>\n",
       "      <td>0.0</td>\n",
       "      <td>2.0</td>\n",
       "    </tr>\n",
       "    <tr>\n",
       "      <th>3</th>\n",
       "      <td>2019-09-01</td>\n",
       "      <td>4270000</td>\n",
       "      <td>시내</td>\n",
       "      <td>1579</td>\n",
       "      <td>제주국제공항(600번)</td>\n",
       "      <td>33.50577</td>\n",
       "      <td>126.49252</td>\n",
       "      <td>0.0</td>\n",
       "      <td>17.0</td>\n",
       "      <td>6.0</td>\n",
       "      <td>26.0</td>\n",
       "      <td>14.0</td>\n",
       "      <td>16.0</td>\n",
       "      <td>0.0</td>\n",
       "      <td>0.0</td>\n",
       "      <td>0.0</td>\n",
       "      <td>0.0</td>\n",
       "      <td>0.0</td>\n",
       "      <td>0.0</td>\n",
       "      <td>53.0</td>\n",
       "    </tr>\n",
       "    <tr>\n",
       "      <th>4</th>\n",
       "      <td>2019-09-01</td>\n",
       "      <td>4270000</td>\n",
       "      <td>시내</td>\n",
       "      <td>1646</td>\n",
       "      <td>중문관광단지입구</td>\n",
       "      <td>33.25579</td>\n",
       "      <td>126.41260</td>\n",
       "      <td>0.0</td>\n",
       "      <td>0.0</td>\n",
       "      <td>0.0</td>\n",
       "      <td>0.0</td>\n",
       "      <td>0.0</td>\n",
       "      <td>0.0</td>\n",
       "      <td>0.0</td>\n",
       "      <td>0.0</td>\n",
       "      <td>0.0</td>\n",
       "      <td>1.0</td>\n",
       "      <td>0.0</td>\n",
       "      <td>0.0</td>\n",
       "      <td>0.0</td>\n",
       "    </tr>\n",
       "  </tbody>\n",
       "</table>\n",
       "</div>"
      ],
      "text/plain": [
       "          date  bus_route_id in_out  station_code  station_name  latitude  \\\n",
       "id                                                                          \n",
       "0   2019-09-01       4270000     시외           344         제주썬호텔  33.48990   \n",
       "1   2019-09-01       4270000     시외           357          한라병원  33.48944   \n",
       "2   2019-09-01       4270000     시외           432          정존마을  33.48181   \n",
       "3   2019-09-01       4270000     시내          1579  제주국제공항(600번)  33.50577   \n",
       "4   2019-09-01       4270000     시내          1646      중문관광단지입구  33.25579   \n",
       "\n",
       "    longitude  6~7_ride  7~8_ride  8~9_ride  9~10_ride  10~11_ride  \\\n",
       "id                                                                   \n",
       "0   126.49373       0.0       1.0       2.0        5.0         2.0   \n",
       "1   126.48508       1.0       4.0       4.0        2.0         5.0   \n",
       "2   126.47352       1.0       1.0       0.0        2.0         0.0   \n",
       "3   126.49252       0.0      17.0       6.0       26.0        14.0   \n",
       "4   126.41260       0.0       0.0       0.0        0.0         0.0   \n",
       "\n",
       "    11~12_ride  6~7_takeoff  7~8_takeoff  8~9_takeoff  9~10_takeoff  \\\n",
       "id                                                                    \n",
       "0          6.0          0.0          0.0          0.0           0.0   \n",
       "1          6.0          0.0          0.0          0.0           0.0   \n",
       "2          0.0          0.0          0.0          0.0           0.0   \n",
       "3         16.0          0.0          0.0          0.0           0.0   \n",
       "4          0.0          0.0          0.0          0.0           1.0   \n",
       "\n",
       "    10~11_takeoff  11~12_takeoff  18~20_ride  \n",
       "id                                            \n",
       "0             0.0            0.0         0.0  \n",
       "1             0.0            0.0         5.0  \n",
       "2             0.0            0.0         2.0  \n",
       "3             0.0            0.0        53.0  \n",
       "4             0.0            0.0         0.0  "
      ]
     },
     "execution_count": 4,
     "metadata": {},
     "output_type": "execute_result"
    }
   ],
   "source": [
    "# train 데이터 상위 5개 행 출력\n",
    "train.head()"
   ]
  },
  {
   "cell_type": "code",
   "execution_count": 5,
   "id": "FhXzf61fwZML",
   "metadata": {
    "colab": {
     "base_uri": "https://localhost:8080/"
    },
    "id": "FhXzf61fwZML",
    "outputId": "396f8afb-798b-44ba-920a-d6da1807256b",
    "scrolled": true
   },
   "outputs": [
    {
     "name": "stdout",
     "output_type": "stream",
     "text": [
      "<class 'pandas.core.frame.DataFrame'>\n",
      "Int64Index: 415423 entries, 0 to 415422\n",
      "Data columns (total 20 columns):\n",
      " #   Column         Non-Null Count   Dtype  \n",
      "---  ------         --------------   -----  \n",
      " 0   date           415423 non-null  object \n",
      " 1   bus_route_id   415423 non-null  int64  \n",
      " 2   in_out         415423 non-null  object \n",
      " 3   station_code   415423 non-null  int64  \n",
      " 4   station_name   415423 non-null  object \n",
      " 5   latitude       415423 non-null  float64\n",
      " 6   longitude      415423 non-null  float64\n",
      " 7   6~7_ride       415423 non-null  float64\n",
      " 8   7~8_ride       415423 non-null  float64\n",
      " 9   8~9_ride       415423 non-null  float64\n",
      " 10  9~10_ride      415423 non-null  float64\n",
      " 11  10~11_ride     415423 non-null  float64\n",
      " 12  11~12_ride     415423 non-null  float64\n",
      " 13  6~7_takeoff    415423 non-null  float64\n",
      " 14  7~8_takeoff    415423 non-null  float64\n",
      " 15  8~9_takeoff    415423 non-null  float64\n",
      " 16  9~10_takeoff   415423 non-null  float64\n",
      " 17  10~11_takeoff  415423 non-null  float64\n",
      " 18  11~12_takeoff  415423 non-null  float64\n",
      " 19  18~20_ride     415423 non-null  float64\n",
      "dtypes: float64(15), int64(2), object(3)\n",
      "memory usage: 66.6+ MB\n"
     ]
    }
   ],
   "source": [
    "# train 데이터 결측치 및 변수들의 타입 확인\n",
    "train.info()"
   ]
  },
  {
   "cell_type": "markdown",
   "id": "jDaLQHjV5SiE",
   "metadata": {
    "id": "jDaLQHjV5SiE"
   },
   "source": [
    "train.info()의 결과를 보면 Dtype부분에 object와 int64 그리고 float64가 존재합니다. \n",
    "</br> int64는 정수, float64는 실수를 의미하고 object는 문자열 객체를 의미합니다."
   ]
  },
  {
   "cell_type": "markdown",
   "id": "U5Dxhy4D7isT",
   "metadata": {
    "id": "U5Dxhy4D7isT"
   },
   "source": [
    "이번에는 <font style = \"color:#6495ED; font-weight:bold; font-size:25px\">넘파이(Numpy)</font>라는 패키지를 불러올겁니다. \n",
    "</br> 앞서 pandas를 불러왔던 것과 동일한 방식을 사용할 겁니다. \n"
   ]
  },
  {
   "cell_type": "code",
   "execution_count": 6,
   "id": "8ENNHgEA72Bv",
   "metadata": {
    "id": "8ENNHgEA72Bv"
   },
   "outputs": [],
   "source": [
    "import numpy as np"
   ]
  },
  {
   "cell_type": "markdown",
   "id": "7hnoaJzg730V",
   "metadata": {
    "id": "7hnoaJzg730V"
   },
   "source": [
    "이 Numpy는 다차원 배열을 쉽게 처리하고 효율적으로 사용할 수 있도록 지원하는 파이썬의 패키지입니다. \n",
    "</br> NumPy는 데이터 구조 외에도 수치 계산을 위해 효율적으로 구현된 기능을 제공합니다. 데이터 분석을 할때 자주 사용되는 패키지 중 하나입니다."
   ]
  },
  {
   "cell_type": "markdown",
   "id": "ad65fd48",
   "metadata": {
    "id": "ad65fd48"
   },
   "source": [
    "NumPy 배열에서 배열의 형태를 알아보는 shape()란 함수가 있습니다.\n",
    "</br>즉, shape은 해당 데이터의 차원이 몇 차원인지 표시해줍니다."
   ]
  },
  {
   "cell_type": "code",
   "execution_count": 7,
   "id": "1651068c",
   "metadata": {
    "id": "1651068c",
    "outputId": "d61b0ff6-9bb5-4b09-f817-6b30cf08ec6a"
   },
   "outputs": [
    {
     "data": {
      "text/plain": [
       "(415423, 20)"
      ]
     },
     "execution_count": 7,
     "metadata": {},
     "output_type": "execute_result"
    }
   ],
   "source": [
    "np.shape(train)"
   ]
  },
  {
   "cell_type": "markdown",
   "id": "gyxmnazI5Nvk",
   "metadata": {
    "id": "gyxmnazI5Nvk"
   },
   "source": [
    "train 데이터는 415423x20의 배열 형태를 가지고 있다는 걸 알 수 있습니다. "
   ]
  },
  {
   "cell_type": "markdown",
   "id": "YUA9D0y10s3O",
   "metadata": {
    "id": "YUA9D0y10s3O"
   },
   "source": [
    "train 데이터를 살펴보니 총 20개의 열이 있네요. 하나하나 살펴보겠습니다. \n",
    "\n",
    "1. id : 해당 데이터에서의 고유한 ID\n",
    "2. date : 버스 운행 날짜\n",
    "3. bus_route_id: 버스 노선 ID\n",
    "4. in_out: 시내버스, 시외버스 구분\n",
    "5. station_code: 해당 승하차 정류소의 ID\n",
    "6. station_name: 해당 승하차 정류소의 이름\n",
    "7. latitude: 해당 버스 정류장의 위도( 같은 정류장 이름이어도 버스의 진행 방향에 따라 다를 수 있음)\n",
    "8. longitude: 해당 버스 정류장의 경도( 같은 정류장 이름이어도 버스의 진행 방향에 따라 다를 수 있음)\n",
    "9. 6~7_ride: 6시부터 6시 59분 59초까지 승차한 인원 수\n",
    "10. 7~8_ride: 7시부터 7시 59분 59초까지 승차한 인원 수\n",
    "11. 8~9_ride: 8시부터 8시 59분 59초까지 승차한 인원 수\n",
    "12. 9~10_ride: 9시부터 9시 59분 59초까지 승차한 인원 수\n",
    "13. 10~11_ride: 10시부터 10시 59분 59초까지 승차한 인원 수\n",
    "14. 11~12_ride: 11시부터 11시 59분 59초까지 승차한 인원 수\n",
    "15. 6~7_takeoff: 6시부터 6시 59분 59초까지 하차한 인원 수\n",
    "16. 7~8_takeoff: 7시부터 7시 59분 59초까지 하차한 인원 수\n",
    "17. 8~9_takeoff: 8시부터 8시 59분 59초까지 하차한 인원 수\n",
    "18. 9~10_takeoff: 9시부터 9시 59분 59초까지 하차한 인원 수\n",
    "19. 10~11_takeoff: 10시부터 10시 59분 59초까지 하차한 인원 수\n",
    "20. 11~12_takeoff: 11시부터 11시 59분 59초까지 하차한 인원 수\n",
    "21. 18~20_ride: 18시부터 19시 59분 59초까지 승차한 인원의 수 ( train data에만 존재)\n",
    "\n",
    "</br> 총 21개의 변수와  415423개의 행으로 이루어져 있습니다. \n",
    "</br> 또한 Non-Null Count를 살펴보면 결측치는 존재하지 않는다는 것을 알 수 있습니다. \n"
   ]
  },
  {
   "cell_type": "markdown",
   "id": "61f17106",
   "metadata": {},
   "source": [
    "### 🔑**참여 실습**\n",
    "\n",
    "\n",
    "### *Inst.*  \n",
    "다음으로 test 데이터도 살펴봐봅시다. test데이터의 하위 5개 행을 출력해봅시다.\n",
    "\n",
    "\n",
    "\n",
    "\n",
    "\n",
    "\n",
    "### *Hint.*  \n",
    "tail()\n",
    "\n",
    "\n",
    "\n",
    "\n",
    "\n",
    "\n",
    "### *Solution.* "
   ]
  },
  {
   "cell_type": "markdown",
   "id": "a7cf9a7a",
   "metadata": {
    "id": "l475Y9ZX1yLy",
    "outputId": "ff2d3d7a-2363-4ee6-cfe4-693a2ed8cb02"
   },
   "source": [
    "test.tail()"
   ]
  },
  {
   "cell_type": "markdown",
   "id": "4158e967",
   "metadata": {},
   "source": [
    "### 🔑**참여 실습**\n",
    "\n",
    "\n",
    "### *Inst.*  \n",
    "test 데이터 결측치 및 변수들의 타입을 확인해봅시다. \n",
    "\n",
    "\n",
    "\n",
    "\n",
    "\n",
    "\n",
    "### *Hint.*  \n",
    "info()\n",
    "\n",
    "\n",
    "\n",
    "\n",
    "\n",
    "\n",
    "### *Solution.* "
   ]
  },
  {
   "cell_type": "code",
   "execution_count": 9,
   "id": "m9ZXsFx2yMLz",
   "metadata": {
    "colab": {
     "base_uri": "https://localhost:8080/"
    },
    "id": "m9ZXsFx2yMLz",
    "outputId": "6501bd24-9834-400d-f6b4-819e6c616439"
   },
   "outputs": [
    {
     "name": "stdout",
     "output_type": "stream",
     "text": [
      "<class 'pandas.core.frame.DataFrame'>\n",
      "Int64Index: 228170 entries, 415423 to 643592\n",
      "Data columns (total 19 columns):\n",
      " #   Column         Non-Null Count   Dtype  \n",
      "---  ------         --------------   -----  \n",
      " 0   date           228170 non-null  object \n",
      " 1   bus_route_id   228170 non-null  int64  \n",
      " 2   in_out         228170 non-null  object \n",
      " 3   station_code   228170 non-null  int64  \n",
      " 4   station_name   228170 non-null  object \n",
      " 5   latitude       228170 non-null  float64\n",
      " 6   longitude      228170 non-null  float64\n",
      " 7   6~7_ride       228170 non-null  float64\n",
      " 8   7~8_ride       228170 non-null  float64\n",
      " 9   8~9_ride       228170 non-null  float64\n",
      " 10  9~10_ride      228170 non-null  float64\n",
      " 11  10~11_ride     228170 non-null  float64\n",
      " 12  11~12_ride     228170 non-null  float64\n",
      " 13  6~7_takeoff    228170 non-null  float64\n",
      " 14  7~8_takeoff    228170 non-null  float64\n",
      " 15  8~9_takeoff    228170 non-null  float64\n",
      " 16  9~10_takeoff   228170 non-null  float64\n",
      " 17  10~11_takeoff  228170 non-null  float64\n",
      " 18  11~12_takeoff  228170 non-null  float64\n",
      "dtypes: float64(14), int64(2), object(3)\n",
      "memory usage: 34.8+ MB\n"
     ]
    }
   ],
   "source": [
    "test.info()"
   ]
  },
  {
   "cell_type": "markdown",
   "id": "alEeU2qT10jd",
   "metadata": {
    "id": "alEeU2qT10jd"
   },
   "source": [
    "test 데이터에는 18-20_ride 변수가 빠지고 총 19개의 열이 존재합니다. \n",
    "</br> 그러므로 이번 분석은 18-20_ride, 즉 18시부터 20시까지 승차한 인원의 수를 예측하는 문제라고 파악할 수 있습니다. "
   ]
  },
  {
   "cell_type": "markdown",
   "id": "7217e879",
   "metadata": {},
   "source": [
    "### 🔑**참여 실습**\n",
    "\n",
    "\n",
    "### *Inst.*  \n",
    "test 데이터의 (행, 열) 크기를 출력해봅시다.\n",
    "\n",
    "\n",
    "\n",
    "\n",
    "\n",
    "\n",
    "### *Hint.*  \n",
    "shape()\n",
    "\n",
    "\n",
    "\n",
    "\n",
    "\n",
    "\n",
    "### *Solution.* "
   ]
  },
  {
   "cell_type": "code",
   "execution_count": 10,
   "id": "48cade77",
   "metadata": {
    "id": "48cade77",
    "outputId": "c14e03a6-6e4d-4bbf-eb2d-dfbf15b2fab7",
    "scrolled": true
   },
   "outputs": [
    {
     "data": {
      "text/plain": [
       "(228170, 19)"
      ]
     },
     "execution_count": 10,
     "metadata": {},
     "output_type": "execute_result"
    }
   ],
   "source": [
    "np.shape(test)"
   ]
  },
  {
   "cell_type": "markdown",
   "id": "9Bz8vPt265HE",
   "metadata": {
    "id": "9Bz8vPt265HE"
   },
   "source": [
    "마지막으로 submission 데이터도 한번 살펴봅시다."
   ]
  },
  {
   "cell_type": "markdown",
   "id": "RuJROVfT2JLb",
   "metadata": {
    "id": "RuJROVfT2JLb"
   },
   "source": [
    "# **3. 제출파일 생성**"
   ]
  },
  {
   "cell_type": "markdown",
   "id": "dESMtWWu2Kuk",
   "metadata": {
    "id": "dESMtWWu2Kuk"
   },
   "source": [
    "앞서 sample_submission.csv 파일을 샘플 정답 파일이라고 소개했었습니다.\n",
    "</br> 앞으로는 이 sample_submission.csv 파일을 이용해서 제출 파일을 만들 예정입니다. \n",
    "</br> 그러면 제출 파일을 생성하는 방법을 간단하게 알아봅시다. \n",
    "</br> </br> 18-20_ride 값을 일단 train 데이터의 18~20_ride의 평균으로 채워봅시다. "
   ]
  },
  {
   "cell_type": "code",
   "execution_count": 11,
   "id": "BfzJofrOAjXq",
   "metadata": {
    "id": "BfzJofrOAjXq",
    "outputId": "ba667900-70e0-4598-b734-1cfda0ff6e47"
   },
   "outputs": [
    {
     "data": {
      "text/html": [
       "<div>\n",
       "<style scoped>\n",
       "    .dataframe tbody tr th:only-of-type {\n",
       "        vertical-align: middle;\n",
       "    }\n",
       "\n",
       "    .dataframe tbody tr th {\n",
       "        vertical-align: top;\n",
       "    }\n",
       "\n",
       "    .dataframe thead th {\n",
       "        text-align: right;\n",
       "    }\n",
       "</style>\n",
       "<table border=\"1\" class=\"dataframe\">\n",
       "  <thead>\n",
       "    <tr style=\"text-align: right;\">\n",
       "      <th></th>\n",
       "      <th>18~20_ride</th>\n",
       "    </tr>\n",
       "    <tr>\n",
       "      <th>id</th>\n",
       "      <th></th>\n",
       "    </tr>\n",
       "  </thead>\n",
       "  <tbody>\n",
       "    <tr>\n",
       "      <th>415423</th>\n",
       "      <td>1.242095</td>\n",
       "    </tr>\n",
       "    <tr>\n",
       "      <th>415424</th>\n",
       "      <td>1.242095</td>\n",
       "    </tr>\n",
       "    <tr>\n",
       "      <th>415425</th>\n",
       "      <td>1.242095</td>\n",
       "    </tr>\n",
       "    <tr>\n",
       "      <th>415426</th>\n",
       "      <td>1.242095</td>\n",
       "    </tr>\n",
       "    <tr>\n",
       "      <th>415427</th>\n",
       "      <td>1.242095</td>\n",
       "    </tr>\n",
       "  </tbody>\n",
       "</table>\n",
       "</div>"
      ],
      "text/plain": [
       "        18~20_ride\n",
       "id                \n",
       "415423    1.242095\n",
       "415424    1.242095\n",
       "415425    1.242095\n",
       "415426    1.242095\n",
       "415427    1.242095"
      ]
     },
     "execution_count": 11,
     "metadata": {},
     "output_type": "execute_result"
    }
   ],
   "source": [
    "submission['18~20_ride'] = train['18~20_ride'].mean()\n",
    "submission.head()"
   ]
  },
  {
   "cell_type": "markdown",
   "id": "kAqMiITAAmE7",
   "metadata": {
    "id": "kAqMiITAAmE7"
   },
   "source": [
    "이제 평균으로 채운 submission파일을 submission.csv에 저장하고 제출해봅시다.\n",
    "</br>기본적으로 to_csv 메소드는 데이터 프레임 객체의 내용을 csv 파일 형태로 만들어서 저장해 주는 기능입니다. \n",
    "</br>이렇게 해야 파이썬 안에서 작업한 내용이 파이썬 밖으로 빠져나가 여러분이 만질 수 있는 형태가 되는 겁니다. \n",
    "\n",
    "to_csv 메서도 안에 아무런 옵션도 지정해주지 않는다면 다음과 같이 인덱스도 데이터에 포함되어 저장되기 떄문에 </br>index는 포함하지않고 저장하는 옵션을 지정해주어야 합니다.\n",
    " \n",
    "index를 포함시키지 않고 데이터를 저장하기 위해서는 to_csv(inedx=False)로 지정해서 데이터를 저장해주면 됩니다."
   ]
  },
  {
   "cell_type": "markdown",
   "id": "6caf88cc",
   "metadata": {},
   "source": [
    "### 🔑**참여 실습**\n",
    "\n",
    "\n",
    "### *Inst.*  \n",
    "submission파일을 저장해봅시다.\n",
    "\n",
    "\n",
    "\n",
    "\n",
    "\n",
    "\n",
    "### *Hint.*  \n",
    "to_csv()\n",
    "\n",
    "\n",
    "\n",
    "\n",
    "\n",
    "\n",
    "### *Solution.* "
   ]
  },
  {
   "cell_type": "code",
   "execution_count": 12,
   "id": "QAONtFb_A3BQ",
   "metadata": {
    "id": "QAONtFb_A3BQ"
   },
   "outputs": [],
   "source": [
    "submission.to_csv('submission.csv', index=False)"
   ]
  }
 ],
 "metadata": {
  "colab": {
   "provenance": []
  },
  "kernelspec": {
   "display_name": "Python 3 (ipykernel)",
   "language": "python",
   "name": "python3"
  },
  "language_info": {
   "codemirror_mode": {
    "name": "ipython",
    "version": 3
   },
   "file_extension": ".py",
   "mimetype": "text/x-python",
   "name": "python",
   "nbconvert_exporter": "python",
   "pygments_lexer": "ipython3",
   "version": "3.9.13"
  },
  "toc": {
   "base_numbering": 1,
   "nav_menu": {},
   "number_sections": true,
   "sideBar": true,
   "skip_h1_title": false,
   "title_cell": "Table of Contents",
   "title_sidebar": "Contents",
   "toc_cell": false,
   "toc_position": {},
   "toc_section_display": true,
   "toc_window_display": false
  },
  "varInspector": {
   "cols": {
    "lenName": 16,
    "lenType": 16,
    "lenVar": 40
   },
   "kernels_config": {
    "python": {
     "delete_cmd_postfix": "",
     "delete_cmd_prefix": "del ",
     "library": "var_list.py",
     "varRefreshCmd": "print(var_dic_list())"
    },
    "r": {
     "delete_cmd_postfix": ") ",
     "delete_cmd_prefix": "rm(",
     "library": "var_list.r",
     "varRefreshCmd": "cat(var_dic_list()) "
    }
   },
   "types_to_exclude": [
    "module",
    "function",
    "builtin_function_or_method",
    "instance",
    "_Feature"
   ],
   "window_display": false
  }
 },
 "nbformat": 4,
 "nbformat_minor": 5
}
