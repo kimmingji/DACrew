{
  "cells": [
    {
      "attachments": {},
      "cell_type": "markdown",
      "metadata": {
        "id": "QOpNtEdh0fMd"
      },
      "source": [
        "# **윤슬의 잔물결✨**\n",
        "\n",
        "\n",
        "\n",
        "[[윤슬🌊] 퇴근시간 버스승차인원 예측 경진대회 Stage 1: 데이터 불러오기](https://dacon.io/competitions/official/236047/codeshare/7455?page=1&dtype=random)\n",
        "</br>[[윤슬🌊] 퇴근시간 버스승차인원 예측 경진대회 Stage 2: 데이터 전처리 및 모델링](https://dacon.io/codeshare/7655)\n",
        "</br>[[윤슬🌊] 퇴근시간 버스승차인원 예측 경진대회 Stage 3: 고급 시각화 및 모델링](https://dacon.io/competitions/official/236047/codeshare/7656)\n",
        "\n",
        "<br/>\n",
        "<div style=\"text-align: right\"> 23-02-01 | ver.004 </div>\n",
        "\n",
        "---\n",
        "\n"
      ]
    },
    {
      "cell_type": "markdown",
      "metadata": {
        "id": "cBMUs8rELPIW"
      },
      "source": [
        "분석을 시작하기에 앞서 사용했던 라이브러리와 데이터를 불러오겠습니다😊"
      ]
    },
    {
      "cell_type": "markdown",
      "metadata": {
        "id": "mB1V1pLbOHVj"
      },
      "source": [
        "> 라이브러리 호출"
      ]
    },
    {
      "cell_type": "code",
      "execution_count": 40,
      "metadata": {
        "id": "zURFctIaLOy6"
      },
      "outputs": [],
      "source": [
        "import pandas as pd\n",
        "from pandas.plotting import scatter_matrix\n",
        "import numpy as np\n",
        "import matplotlib.pyplot as plt\n",
        "import matplotlib\n",
        "\n",
        "from sklearn.model_selection import train_test_split"
      ]
    },
    {
      "cell_type": "markdown",
      "metadata": {
        "id": "0LmUMEz3OFx1"
      },
      "source": [
        "> 데이터 불러오기"
      ]
    },
    {
      "cell_type": "code",
      "execution_count": 41,
      "metadata": {
        "colab": {
          "base_uri": "https://localhost:8080/"
        },
        "id": "K-4Cc9G0Ll3W",
        "outputId": "68f002dd-f5aa-47e8-cb31-15ddacbb01dc"
      },
      "outputs": [
        {
          "name": "stdout",
          "output_type": "stream",
          "text": [
            "Drive already mounted at /content/drive; to attempt to forcibly remount, call drive.mount(\"/content/drive\", force_remount=True).\n"
          ]
        }
      ],
      "source": [
        "train = pd.read_csv('train.csv' ,index_col=0)\n",
        "test = pd.read_csv('test.csv', index_col=0)\n",
        "bus = pd.read_csv('bus_bts.csv' ,index_col=0)\n",
        "submission = pd.read_csv('submission_sample.csv', index_col=0)"
      ]
    },
    {
      "cell_type": "markdown",
      "metadata": {
        "id": "DQ-NzD8wLqwK"
      },
      "source": [
        "> 전처리"
      ]
    },
    {
      "cell_type": "code",
      "execution_count": 42,
      "metadata": {
        "id": "AfBT9r8uLpmG"
      },
      "outputs": [],
      "source": [
        "# train 데이터셋 전처리\n",
        "train = train.replace('시내', 0)\n",
        "train = train.replace('시외', 1)\n",
        "\n",
        "train = train.drop(['station_name'], axis = 1)\n",
        "\n",
        "train['date'] = pd.to_datetime(train['date'])\n",
        "train['date'] = train['date'].dt.weekday"
      ]
    },
    {
      "cell_type": "code",
      "execution_count": 43,
      "metadata": {
        "id": "KugUiSFcMEss"
      },
      "outputs": [],
      "source": [
        "# test 데이터셋 전처리\n",
        "test = test.replace('시외', 1)\n",
        "test = test.replace('시내', 0)\n",
        "\n",
        "test = test.drop(['station_name'], axis = 1)\n",
        "\n",
        "test['date'] = pd.to_datetime(test['date'])\n",
        "test['date'] = test['date'].dt.weekday"
      ]
    },
    {
      "cell_type": "markdown",
      "metadata": {
        "id": "PaoCXQj5KS2P"
      },
      "source": [
        "이전 포스팅에서 무엇을 했는지 한번 떠올려볼까요?\n",
        "\n",
        "</br>기초 통계 분석을 통해 데이터의 통계량을 구해보고,</br>\n",
        "matplotlib 을 사용해 여러 시각화를 시도해보았습니다."
      ]
    },
    {
      "cell_type": "markdown",
      "metadata": {
        "id": "W9mb25nWRJUA"
      },
      "source": [
        "우선, 예측하려는 데이터 특성에 맞도록 데이터프레임을 수정하고 시각화를 진행했습니다."
      ]
    },
    {
      "cell_type": "markdown",
      "metadata": {
        "id": "qJI-RYx4BhCs"
      },
      "source": [
        "> train 데이터"
      ]
    },
    {
      "cell_type": "code",
      "execution_count": 44,
      "metadata": {
        "id": "NyxoH37APR52"
      },
      "outputs": [],
      "source": [
        "train['6~8_ride']=train['6~7_ride']+train['7~8_ride'] # 6 ~ 8시 승차인원\n",
        "train['8~10_ride']=train['8~9_ride']+train['9~10_ride']\n",
        "train['10~12_ride']=train['10~11_ride']+train['11~12_ride']\n",
        "\n",
        "train['6~8_off']=train['6~7_takeoff']+train['7~8_takeoff'] # 6 ~ 8시 하차인원\n",
        "train['8~10_off']=train['8~9_takeoff']+train['9~10_takeoff']\n",
        "train['10~12_off']=train['10~11_takeoff']+train['11~12_takeoff']\n",
        "\n",
        "train=train.drop(['6~7_ride','7~8_ride','8~9_ride','9~10_ride','10~11_ride','11~12_ride',\n",
        "              '6~7_takeoff','7~8_takeoff','8~9_takeoff','9~10_takeoff','9~10_takeoff','10~11_takeoff','11~12_takeoff'],axis=1)"
      ]
    },
    {
      "cell_type": "markdown",
      "metadata": {
        "id": "SJlgti2aBkgR"
      },
      "source": [
        "> test 데이터"
      ]
    },
    {
      "cell_type": "code",
      "execution_count": 45,
      "metadata": {
        "id": "QEUE5AZQBl78"
      },
      "outputs": [],
      "source": [
        "test['6~8_ride']=test['6~7_ride']+test['7~8_ride'] # 6 ~ 8시 승차인원\n",
        "test['8~10_ride']=test['8~9_ride']+test['9~10_ride']\n",
        "test['10~12_ride']=test['10~11_ride']+test['11~12_ride']\n",
        "\n",
        "test['6~8_off']=test['6~7_takeoff']+test['7~8_takeoff'] # 6 ~ 8시 하차인원\n",
        "test['8~10_off']=test['8~9_takeoff']+test['9~10_takeoff']\n",
        "test['10~12_off']=test['10~11_takeoff']+test['11~12_takeoff']\n",
        "\n",
        "\n",
        "test=test.drop(['6~7_ride','7~8_ride','8~9_ride','9~10_ride','10~11_ride','11~12_ride',\n",
        "              '6~7_takeoff','7~8_takeoff','8~9_takeoff','9~10_takeoff','9~10_takeoff','10~11_takeoff','11~12_takeoff'],axis=1)"
      ]
    },
    {
      "cell_type": "code",
      "execution_count": 46,
      "metadata": {
        "id": "Y7spfxsCC0qW"
      },
      "outputs": [],
      "source": [
        "x = train[['date', 'bus_route_id', 'in_out', 'station_code', 'latitude', 'longitude',\n",
        "       \"6~8_ride\",  \"8~10_ride\", \"10~12_ride\" , \n",
        "       \"6~8_off\", \"8~10_off\",  \"10~12_off\"]]\n",
        "\n",
        "y = train['18~20_ride']"
      ]
    },
    {
      "cell_type": "markdown",
      "metadata": {
        "id": "eNsZ7uVeR1_y"
      },
      "source": [
        "정말 다양한 📊그래프가 사용되었었죠?"
      ]
    },
    {
      "cell_type": "markdown",
      "metadata": {
        "id": "tD0WLP1mOY_C"
      },
      "source": [
        "- <font style=\"color : #6495ED ; font-weight : bold ; font-size : 25px;\">Scatter Matrix</font>를 사용하여 morning 데이터의 특성 관계를 표현했습니다.\n",
        "\n",
        "- 요일별 18~20시 버스 승차량 분포를 \n",
        "<font style=\"color : #6495ED ; font-weight : bold ; font-size : 25px;\">Scatter</font>로 표현하여 데이터를 한 눈에 파악하기 편리했습니다.\n",
        "\n",
        "- 변수간 상관관계를 <font style=\"color : #6495ED ; font-weight : bold ; font-size : 25px;\">Heatmap</font>으로 표현하여 상관성 분석을 했습니다.\n",
        "\n",
        "- <font style=\"color : #6495ED ; font-weight : bold ; font-size : 25px;\">Line, Bar, Boxplot</font>을 사용하여\n",
        "요일별 시간대별 버스 승하차량 분포를 나타내보았습니다.\n"
      ]
    },
    {
      "cell_type": "markdown",
      "metadata": {
        "id": "jntR8MCAO1Of"
      },
      "source": [
        "특히, boxplot을 사용한 시각화 자료를 바탕으로\n",
        "<font style=\"color:#FF9999; font-weight : bold; font-size : 25px;\">이상치</font>를 확인✔해보았습니다.\n"
      ]
    },
    {
      "cell_type": "markdown",
      "metadata": {
        "id": "770W1EkVNzSC"
      },
      "source": [
        "그리고 모델 검증 단계를 거쳤습니다.\n",
        "</br>이때, <font style=\"color : #6495ED ; font-weight : bold ; font-size : 25px;\">train_test_split</font>을 사용했습니다.\n"
      ]
    },
    {
      "cell_type": "code",
      "execution_count": 47,
      "metadata": {
        "id": "L243fsC2PQoR"
      },
      "outputs": [],
      "source": [
        "x_train, x_val, y_train, y_val = train_test_split(x, y)"
      ]
    },
    {
      "cell_type": "markdown",
      "metadata": {
        "id": "Iq6u16TbFxy8"
      },
      "source": [
        "이렇게 데이터셋을 분리하고, LinearRegression 을 사용했죠!"
      ]
    },
    {
      "cell_type": "markdown",
      "metadata": {
        "id": "U9RcofsN1q7J"
      },
      "source": [
        "# **1. 개념 알아가기**"
      ]
    },
    {
      "cell_type": "markdown",
      "metadata": {
        "id": "_CMAYdAwbn6H"
      },
      "source": [
        "Stage 4를 시작하기에 앞서 시각화 관련 이야기를 좀 더 이어 나가 보려고 합니다.\n",
        "<br/> 지금까지 다양한 그래프를 그려왔는데, 지도 유형의 시각화는 아직 시도하지 않았습니다."
      ]
    },
    {
      "cell_type": "markdown",
      "metadata": {
        "id": "sNOdL__YcePK"
      },
      "source": [
        "Python 에서 <font style=\"color : #6495ED ; font-weight : bold ; font-size : 25px;\">지도</font> 유형의 시각화를 할 수 있는 라이브러리는 다음과 같습니다."
      ]
    },
    {
      "cell_type": "markdown",
      "metadata": {
        "id": "Rl28tfqAarcR"
      },
      "source": [
        "**☝ Folium**\n",
        "<br/>**✌ Geopandas**\n",
        "<br/>**👌 Ploty - choropleth**"
      ]
    },
    {
      "cell_type": "markdown",
      "metadata": {
        "id": "Bcnbc1vcbgbW"
      },
      "source": [
        "> **Folium**\n",
        "<br/>Folium은 파이썬에서 비교적 쉽고 간편하게 지도를 그리는데 유용한 라이브러리입니다.\n",
        "<br/>지도를 생성하고 다양한 마커를 추가할 수 있습니다."
      ]
    },
    {
      "cell_type": "markdown",
      "metadata": {
        "id": "hQ9v07iBbhwK"
      },
      "source": [
        "> **Geopandas**\n",
        "<br/>Geopandas는 공간정보 데이터를 활용해서 분석할 수 있는 패키지입니다.\n",
        "<br/>plot() 메서드를 사용하면 지도를 나타낼 수 있습니다."
      ]
    },
    {
      "cell_type": "markdown",
      "metadata": {
        "id": "G6_Vp4G2bkMa"
      },
      "source": [
        "> **Ploty - choropleth**\n",
        "<br/>Choropleth Map은 다양한 색의 폴리곤으로 이루어진 지도유형 시각화 입니다.\n",
        "<br/> 이 시각화는 수량의 변화를 공간적으로 나타내는데 효율적입니다."
      ]
    },
    {
      "cell_type": "markdown",
      "metadata": {
        "id": "oTy5rjA5UPdv"
      },
      "source": [
        "Stage4에서 고급 시각화 및 데이터 스케일링을 해보려 합니다.\n",
        "<br/>모두 준비됐나요?\n",
        "\n",
        "<br/>그렇다면, 출발🌊"
      ]
    },
    {
      "cell_type": "markdown",
      "metadata": {
        "id": "F0AR1-xb19KN"
      },
      "source": [
        "# **2. 고급 시각화**"
      ]
    },
    {
      "cell_type": "markdown",
      "metadata": {
        "id": "JTmwi7M_cool"
      },
      "source": [
        "저희가 다루고 있는 데이터에는 위도와 경도, 지리 정보 데이터가 포함되어 있습니다. </br>이번 스테이지 에서는 지리정보를 가지고 멋진 시각화 그림을 하나 만들어보려고 합니다.\n",
        "\n",
        "사용할 모델은 <font style=\"color:#99CCFF; font-weight : bold; font-size : 25px;\">Geopandas</font>입니다!<br/>\n",
        "GeoPandas는 파이썬에서 <font style=\"font-weight : bold\">지리정보</font> 데이터 처리의 기하하적 연산과 시각화 등을 돕는 패키지입니다.. </br>이름에서도 알 수 있듯이, Pandas와 매우 유사하다고 합니다. \n",
        "\n",
        "\n"
      ]
    },
    {
      "cell_type": "code",
      "execution_count": 48,
      "metadata": {
        "colab": {
          "base_uri": "https://localhost:8080/"
        },
        "id": "pEC8YBX87AWK",
        "outputId": "09b753c0-f1fb-4a07-f4a6-ac5141e12faf"
      },
      "outputs": [
        {
          "name": "stdout",
          "output_type": "stream",
          "text": [
            "Looking in indexes: https://pypi.org/simple, https://us-python.pkg.dev/colab-wheels/public/simple/\n",
            "Requirement already satisfied: geopandas in /usr/local/lib/python3.8/dist-packages (0.12.2)\n",
            "Requirement already satisfied: packaging in /usr/local/lib/python3.8/dist-packages (from geopandas) (23.0)\n",
            "Requirement already satisfied: fiona>=1.8 in /usr/local/lib/python3.8/dist-packages (from geopandas) (1.9.1)\n",
            "Requirement already satisfied: shapely>=1.7 in /usr/local/lib/python3.8/dist-packages (from geopandas) (2.0.1)\n",
            "Requirement already satisfied: pandas>=1.0.0 in /usr/local/lib/python3.8/dist-packages (from geopandas) (1.3.5)\n",
            "Requirement already satisfied: pyproj>=2.6.1.post1 in /usr/local/lib/python3.8/dist-packages (from geopandas) (3.4.1)\n",
            "Requirement already satisfied: click-plugins>=1.0 in /usr/local/lib/python3.8/dist-packages (from fiona>=1.8->geopandas) (1.1.1)\n",
            "Requirement already satisfied: certifi in /usr/local/lib/python3.8/dist-packages (from fiona>=1.8->geopandas) (2022.12.7)\n",
            "Requirement already satisfied: setuptools in /usr/local/lib/python3.8/dist-packages (from fiona>=1.8->geopandas) (57.4.0)\n",
            "Requirement already satisfied: cligj>=0.5 in /usr/local/lib/python3.8/dist-packages (from fiona>=1.8->geopandas) (0.7.2)\n",
            "Requirement already satisfied: attrs>=19.2.0 in /usr/local/lib/python3.8/dist-packages (from fiona>=1.8->geopandas) (22.2.0)\n",
            "Requirement already satisfied: munch>=2.3.2 in /usr/local/lib/python3.8/dist-packages (from fiona>=1.8->geopandas) (2.5.0)\n",
            "Requirement already satisfied: click~=8.0 in /usr/local/lib/python3.8/dist-packages (from fiona>=1.8->geopandas) (8.1.3)\n",
            "Requirement already satisfied: numpy>=1.17.3 in /usr/local/lib/python3.8/dist-packages (from pandas>=1.0.0->geopandas) (1.22.4)\n",
            "Requirement already satisfied: python-dateutil>=2.7.3 in /usr/local/lib/python3.8/dist-packages (from pandas>=1.0.0->geopandas) (2.8.2)\n",
            "Requirement already satisfied: pytz>=2017.3 in /usr/local/lib/python3.8/dist-packages (from pandas>=1.0.0->geopandas) (2022.7.1)\n",
            "Requirement already satisfied: six in /usr/local/lib/python3.8/dist-packages (from munch>=2.3.2->fiona>=1.8->geopandas) (1.15.0)\n"
          ]
        }
      ],
      "source": [
        "pip install geopandas  ## geopandas 설치"
      ]
    },
    {
      "cell_type": "markdown",
      "metadata": {
        "id": "iG3cRxgL7AWL"
      },
      "source": [
        "geopandas 라이브러리를 불러오겠습니다."
      ]
    },
    {
      "cell_type": "code",
      "execution_count": 49,
      "metadata": {
        "id": "2LH-vB9K7AWL"
      },
      "outputs": [],
      "source": [
        "import geopandas as gpd"
      ]
    },
    {
      "cell_type": "markdown",
      "metadata": {
        "id": "sV0NvTTw7AWL"
      },
      "source": [
        "다음으로 좌표계 정의/변환용 라이브러리를 불러옵니다."
      ]
    },
    {
      "cell_type": "code",
      "execution_count": 50,
      "metadata": {
        "id": "qO2kYI0W7AWM"
      },
      "outputs": [],
      "source": [
        "import pyproj\n",
        "from fiona.crs import from_epsg"
      ]
    },
    {
      "cell_type": "markdown",
      "metadata": {
        "id": "O83onktWfkGc"
      },
      "source": [
        "이제 준비를 마친거 같으니!  시각화를 시작해볼까요? \n",
        "\n",
        "geopandas에는 이용자들이 자유롭게 사용할 수 있는 오픈데이터가 있습니다. </br>이걸로 지도시각화 맛보기를 해볼게요!\n",
        "\n",
        "오픈데이터 셋은 총 3가지가 있습니다.\n",
        "- naturalearth_cities : 세계의 도시\n",
        "- naturalearth_lowres :세계 지도\n",
        "- nybb : 뉴욕\n",
        "\n",
        "불러오는 함수 <font style=\"font-weight : bold\">gpd.datasets.get_path()</font>를 이용해 세계지도를 한번 그려볼게요!"
      ]
    },
    {
      "cell_type": "code",
      "execution_count": 51,
      "metadata": {
        "colab": {
          "base_uri": "https://localhost:8080/",
          "height": 317
        },
        "id": "n7StSGG2fgNU",
        "outputId": "07e45924-5255-4bed-d486-34b5e7bea763"
      },
      "outputs": [
        {
          "data": {
            "image/png": "[encoded data removed]",
            "text/plain": [
              "<Figure size 720x720 with 1 Axes>"
            ]
          },
          "metadata": {
            "needs_background": "light"
          },
          "output_type": "display_data"
        }
      ],
      "source": [
        "world = gpd.read_file(gpd.datasets.get_path('naturalearth_lowres'))  \n",
        "#https://geopandas.org/en/stable/docs/reference/api/geopandas.datasets.available.html\n",
        "world = world.to_crs(4326)  # 좌표 변환\n",
        "\n",
        "ax = world.plot(figsize=(10,10))\n"
      ]
    },
    {
      "cell_type": "markdown",
      "metadata": {
        "id": "T6wO7yqqmtPU"
      },
      "source": [
        "세계지도가 그려지는걸 확인했나요? 그렇다면 전세계의 도시를 불러와보세요!"
      ]
    },
    {
      "cell_type": "markdown",
      "metadata": {
        "id": "vYYI_BLMnYLK"
      },
      "source": [
        "###**🔑참여 실습**\n",
        "\n",
        "\n",
        "###*Inst.*  \n",
        "세계도시 데이터셋을 불러와 그림을 그려봅시다.   \n",
        "\n",
        " \n",
        "\n",
        "###*Hint.*  \n",
        "gpd.datasets.get_path()  \n",
        "\"naturalearth_cities\"  \n",
        " \n",
        "\n",
        "\n",
        "###*Solution.*\n"
      ]
    },
    {
      "cell_type": "code",
      "execution_count": 52,
      "metadata": {
        "colab": {
          "base_uri": "https://localhost:8080/",
          "height": 217
        },
        "id": "NLAS2vjilsGz",
        "outputId": "60a7bf17-59b3-4fa1-c4bd-563720287cfc"
      },
      "outputs": [
        {
          "data": {
            "image/png": "[encoded data removed]",
            "text/plain": [
              "<Figure size 720x720 with 1 Axes>"
            ]
          },
          "metadata": {
            "needs_background": "light"
          },
          "output_type": "display_data"
        }
      ],
      "source": [
        "nybb = gpd.read_file(gpd.datasets.get_path('naturalearth_cities'))  \n",
        "#https://geopandas.org/en/stable/docs/reference/api/geopandas.datasets.available.html\n",
        "nybb = nybb.to_crs(4326)  # Convert the dataset to a coordinate\n",
        "# system which uses meters\n",
        "\n",
        "ax = nybb.plot(figsize=(10,10))\n"
      ]
    },
    {
      "cell_type": "markdown",
      "metadata": {
        "id": "Tbclt3FpoWv0"
      },
      "source": [
        "세계지도에서 대한민국만 따로 시각화 할 수도 있습니다.!\n",
        "<br/>속성정보를 추가해서 대한민국 지도를 만들어 보겠습니다."
      ]
    },
    {
      "cell_type": "code",
      "execution_count": 53,
      "metadata": {
        "colab": {
          "base_uri": "https://localhost:8080/",
          "height": 501
        },
        "id": "3V1QOE73k1XB",
        "outputId": "c0e7bd2b-0d92-42d9-b3ea-3111c7cb4a73"
      },
      "outputs": [
        {
          "data": {
            "text/plain": [
              "<matplotlib.axes._subplots.AxesSubplot at 0x7fb71ca16df0>"
            ]
          },
          "execution_count": 53,
          "metadata": {},
          "output_type": "execute_result"
        },
        {
          "data": {
            "image/png": "[encoded data removed]",
            "text/plain": [
              "<Figure size 720x576 with 1 Axes>"
            ]
          },
          "metadata": {
            "needs_background": "light"
          },
          "output_type": "display_data"
        }
      ],
      "source": [
        "world = gpd.read_file(gpd.datasets.get_path('naturalearth_lowres'))\n",
        "southkorea = world[world.name=='South Korea']\n",
        "southkorea.plot(figsize=(10,8))\n"
      ]
    },
    {
      "cell_type": "markdown",
      "metadata": {
        "id": "AnscC72N7AWO"
      },
      "source": [
        "그럼 이 geopandas를 데이터에 적용해 볼까요?\n",
        "\n",
        "먼저 trian을 이용해 제주도 정류장 위치 정보를 공간데이터로 변환해 보겠습니다.\n",
        "\n",
        "- longitude, latitude 를 각각 x,y로 변환합니다.\n",
        "- 저장된 x,y는 하나의 점으로 표현됩니다.\n",
        "- array로 저장된 공간정보를 확인할 수 있습니다.\n"
      ]
    },
    {
      "cell_type": "code",
      "execution_count": 54,
      "metadata": {
        "colab": {
          "base_uri": "https://localhost:8080/"
        },
        "id": "gE7XD9MQ7AWO",
        "outputId": "37254802-e43b-471b-d6cf-85ec0527ac57"
      },
      "outputs": [
        {
          "data": {
            "text/plain": [
              "<GeometryArray>\n",
              "[<POINT (126.494 33.49)>, <POINT (126.485 33.489)>, <POINT (126.474 33.482)>]\n",
              "Length: 3, dtype: geometry"
            ]
          },
          "execution_count": 54,
          "metadata": {},
          "output_type": "execute_result"
        }
      ],
      "source": [
        "jeju_bus = gpd.points_from_xy(train.longitude, train.latitude)\n",
        "jeju_bus[0:3]"
      ]
    },
    {
      "cell_type": "markdown",
      "metadata": {
        "id": "9ahif0q67AWO"
      },
      "source": [
        " 그 다음 '18~20_ride'과 'station_code' 열의 속성 정보를 추가해 공간데이터프레임을 업데이트 하겠습니다."
      ]
    },
    {
      "cell_type": "code",
      "execution_count": 55,
      "metadata": {
        "colab": {
          "base_uri": "https://localhost:8080/",
          "height": 237
        },
        "id": "Lit2DtOl7AWO",
        "outputId": "5cf49e9a-9eda-4327-d825-b6f72000c945"
      },
      "outputs": [
        {
          "data": {
            "text/html": [
              "\n",
              "  <div id=\"df-5fec755b-167e-4377-be35-1e685a21f9a8\">\n",
              "    <div class=\"colab-df-container\">\n",
              "      <div>\n",
              "<style scoped>\n",
              "    .dataframe tbody tr th:only-of-type {\n",
              "        vertical-align: middle;\n",
              "    }\n",
              "\n",
              "    .dataframe tbody tr th {\n",
              "        vertical-align: top;\n",
              "    }\n",
              "\n",
              "    .dataframe thead th {\n",
              "        text-align: right;\n",
              "    }\n",
              "</style>\n",
              "<table border=\"1\" class=\"dataframe\">\n",
              "  <thead>\n",
              "    <tr style=\"text-align: right;\">\n",
              "      <th></th>\n",
              "      <th>18~20_ride</th>\n",
              "      <th>station_code</th>\n",
              "      <th>in_out</th>\n",
              "      <th>geometry</th>\n",
              "    </tr>\n",
              "    <tr>\n",
              "      <th>id</th>\n",
              "      <th></th>\n",
              "      <th></th>\n",
              "      <th></th>\n",
              "      <th></th>\n",
              "    </tr>\n",
              "  </thead>\n",
              "  <tbody>\n",
              "    <tr>\n",
              "      <th>0</th>\n",
              "      <td>0.0</td>\n",
              "      <td>344</td>\n",
              "      <td>1</td>\n",
              "      <td>POINT (126.49373 33.48990)</td>\n",
              "    </tr>\n",
              "    <tr>\n",
              "      <th>1</th>\n",
              "      <td>5.0</td>\n",
              "      <td>357</td>\n",
              "      <td>1</td>\n",
              "      <td>POINT (126.48508 33.48944)</td>\n",
              "    </tr>\n",
              "    <tr>\n",
              "      <th>2</th>\n",
              "      <td>2.0</td>\n",
              "      <td>432</td>\n",
              "      <td>1</td>\n",
              "      <td>POINT (126.47352 33.48181)</td>\n",
              "    </tr>\n",
              "    <tr>\n",
              "      <th>3</th>\n",
              "      <td>53.0</td>\n",
              "      <td>1579</td>\n",
              "      <td>0</td>\n",
              "      <td>POINT (126.49252 33.50577)</td>\n",
              "    </tr>\n",
              "    <tr>\n",
              "      <th>4</th>\n",
              "      <td>0.0</td>\n",
              "      <td>1646</td>\n",
              "      <td>0</td>\n",
              "      <td>POINT (126.41260 33.25579)</td>\n",
              "    </tr>\n",
              "  </tbody>\n",
              "</table>\n",
              "</div>\n",
              "      <button class=\"colab-df-convert\" onclick=\"convertToInteractive('df-5fec755b-167e-4377-be35-1e685a21f9a8')\"\n",
              "              title=\"Convert this dataframe to an interactive table.\"\n",
              "              style=\"display:none;\">\n",
              "        \n",
              "  <svg xmlns=\"http://www.w3.org/2000/svg\" height=\"24px\"viewBox=\"0 0 24 24\"\n",
              "       width=\"24px\">\n",
              "    <path d=\"M0 0h24v24H0V0z\" fill=\"none\"/>\n",
              "    <path d=\"M18.56 5.44l.94 2.06.94-2.06 2.06-.94-2.06-.94-.94-2.06-.94 2.06-2.06.94zm-11 1L8.5 8.5l.94-2.06 2.06-.94-2.06-.94L8.5 2.5l-.94 2.06-2.06.94zm10 10l.94 2.06.94-2.06 2.06-.94-2.06-.94-.94-2.06-.94 2.06-2.06.94z\"/><path d=\"M17.41 7.96l-1.37-1.37c-.4-.4-.92-.59-1.43-.59-.52 0-1.04.2-1.43.59L10.3 9.45l-7.72 7.72c-.78.78-.78 2.05 0 2.83L4 21.41c.39.39.9.59 1.41.59.51 0 1.02-.2 1.41-.59l7.78-7.78 2.81-2.81c.8-.78.8-2.07 0-2.86zM5.41 20L4 18.59l7.72-7.72 1.47 1.35L5.41 20z\"/>\n",
              "  </svg>\n",
              "      </button>\n",
              "      \n",
              "  <style>\n",
              "    .colab-df-container {\n",
              "      display:flex;\n",
              "      flex-wrap:wrap;\n",
              "      gap: 12px;\n",
              "    }\n",
              "\n",
              "    .colab-df-convert {\n",
              "      background-color: #E8F0FE;\n",
              "      border: none;\n",
              "      border-radius: 50%;\n",
              "      cursor: pointer;\n",
              "      display: none;\n",
              "      fill: #1967D2;\n",
              "      height: 32px;\n",
              "      padding: 0 0 0 0;\n",
              "      width: 32px;\n",
              "    }\n",
              "\n",
              "    .colab-df-convert:hover {\n",
              "      background-color: #E2EBFA;\n",
              "      box-shadow: 0px 1px 2px rgba(60, 64, 67, 0.3), 0px 1px 3px 1px rgba(60, 64, 67, 0.15);\n",
              "      fill: #174EA6;\n",
              "    }\n",
              "\n",
              "    [theme=dark] .colab-df-convert {\n",
              "      background-color: #3B4455;\n",
              "      fill: #D2E3FC;\n",
              "    }\n",
              "\n",
              "    [theme=dark] .colab-df-convert:hover {\n",
              "      background-color: #434B5C;\n",
              "      box-shadow: 0px 1px 3px 1px rgba(0, 0, 0, 0.15);\n",
              "      filter: drop-shadow(0px 1px 2px rgba(0, 0, 0, 0.3));\n",
              "      fill: #FFFFFF;\n",
              "    }\n",
              "  </style>\n",
              "\n",
              "      <script>\n",
              "        const buttonEl =\n",
              "          document.querySelector('#df-5fec755b-167e-4377-be35-1e685a21f9a8 button.colab-df-convert');\n",
              "        buttonEl.style.display =\n",
              "          google.colab.kernel.accessAllowed ? 'block' : 'none';\n",
              "\n",
              "        async function convertToInteractive(key) {\n",
              "          const element = document.querySelector('#df-5fec755b-167e-4377-be35-1e685a21f9a8');\n",
              "          const dataTable =\n",
              "            await google.colab.kernel.invokeFunction('convertToInteractive',\n",
              "                                                     [key], {});\n",
              "          if (!dataTable) return;\n",
              "\n",
              "          const docLinkHtml = 'Like what you see? Visit the ' +\n",
              "            '<a target=\"_blank\" href=https://colab.research.google.com/notebooks/data_table.ipynb>data table notebook</a>'\n",
              "            + ' to learn more about interactive tables.';\n",
              "          element.innerHTML = '';\n",
              "          dataTable['output_type'] = 'display_data';\n",
              "          await google.colab.output.renderOutput(dataTable, element);\n",
              "          const docLink = document.createElement('div');\n",
              "          docLink.innerHTML = docLinkHtml;\n",
              "          element.appendChild(docLink);\n",
              "        }\n",
              "      </script>\n",
              "    </div>\n",
              "  </div>\n",
              "  "
            ],
            "text/plain": [
              "    18~20_ride  station_code  in_out                    geometry\n",
              "id                                                              \n",
              "0          0.0           344       1  POINT (126.49373 33.48990)\n",
              "1          5.0           357       1  POINT (126.48508 33.48944)\n",
              "2          2.0           432       1  POINT (126.47352 33.48181)\n",
              "3         53.0          1579       0  POINT (126.49252 33.50577)\n",
              "4          0.0          1646       0  POINT (126.41260 33.25579)"
            ]
          },
          "execution_count": 55,
          "metadata": {},
          "output_type": "execute_result"
        }
      ],
      "source": [
        "coulumns = ['18~20_ride', 'station_code','in_out']\n",
        "jeju_bus = gpd.GeoDataFrame(train[coulumns], geometry=jeju_bus, crs=from_epsg(4326))\n",
        "#df_cctv_gdf.info()\n",
        "jeju_bus.head()"
      ]
    },
    {
      "cell_type": "markdown",
      "metadata": {
        "id": "wx5jdAcv7AWP"
      },
      "source": [
        "geopandas의 좌표계 변환 함수인 <font style=\"font-weight : bold\">to_crs()</font>를 이용하여 epsg:4326로 변환합니다.\n",
        "\n",
        "- to_crs(epsg=4326)"
      ]
    },
    {
      "cell_type": "code",
      "execution_count": 56,
      "metadata": {
        "colab": {
          "base_uri": "https://localhost:8080/",
          "height": 613
        },
        "id": "nMplLbT17AWP",
        "outputId": "8febcc88-eb04-4056-aa02-ba21c6d928a1"
      },
      "outputs": [
        {
          "data": {
            "text/plain": [
              "<matplotlib.axes._subplots.AxesSubplot at 0x7fb71c9feaf0>"
            ]
          },
          "execution_count": 56,
          "metadata": {},
          "output_type": "execute_result"
        },
        {
          "data": {
            "image/png": "[encoded data removed]",
            "text/plain": [
              "<Figure size 720x720 with 1 Axes>"
            ]
          },
          "metadata": {
            "needs_background": "light"
          },
          "output_type": "display_data"
        }
      ],
      "source": [
        "jeju_bus2 = jeju_bus.to_crs(epsg=4326)\n",
        "jeju_bus2.plot(color='gray', figsize=(10,10))"
      ]
    },
    {
      "cell_type": "markdown",
      "metadata": {
        "id": "pewG0D1J7AWP"
      },
      "source": [
        "위의 그림은 데이터에 있는 정류장을 모두 나타낸 그림입니다. </br>버스 노선이 제주도 안을 지나다 보니 그림이 제주도처럼 보이네요!    \n",
        "\n",
        "train을 전처리할 때 시내버스와 시외버스를 구분했던 것 기억하시나요?\n",
        "</br>이걸로 시내와 시외를 구분해서 시각화를 해볼게요!\n",
        "\n",
        "\n",
        "- 시내=0, 시외=1\n",
        "- jeju_bus['in_out']==0 : in_out 열에 0이 들어 있으면 <font style=\"font-weight : bold\">True</font>, 아니면 <font style=\"font-weight : bold\">False</font>로 나타냄\n",
        "- jeju_bus[jeju_bus['in_out']==0 ] : True(in_out 열이 0)값 출력 \n",
        "\n"
      ]
    },
    {
      "cell_type": "code",
      "execution_count": 57,
      "metadata": {
        "colab": {
          "base_uri": "https://localhost:8080/",
          "height": 780
        },
        "id": "d3WXY9xWkAUj",
        "outputId": "bd94b5f4-3316-4e9a-d58d-96f3079bfe5f"
      },
      "outputs": [
        {
          "name": "stderr",
          "output_type": "stream",
          "text": [
            "/usr/local/lib/python3.8/dist-packages/geopandas/array.py:938: RuntimeWarning: All-NaN slice encountered\n",
            "  np.nanmin(b[:, 0]),  # minx\n",
            "/usr/local/lib/python3.8/dist-packages/geopandas/array.py:939: RuntimeWarning: All-NaN slice encountered\n",
            "  np.nanmin(b[:, 1]),  # miny\n",
            "/usr/local/lib/python3.8/dist-packages/geopandas/array.py:940: RuntimeWarning: All-NaN slice encountered\n",
            "  np.nanmax(b[:, 2]),  # maxx\n",
            "/usr/local/lib/python3.8/dist-packages/geopandas/array.py:941: RuntimeWarning: All-NaN slice encountered\n",
            "  np.nanmax(b[:, 3]),  # maxy\n",
            "/usr/local/lib/python3.8/dist-packages/geopandas/plotting.py:410: UserWarning: The GeoSeries you are attempting to plot is composed of empty geometries. Nothing has been displayed.\n",
            "  warnings.warn(\n"
          ]
        },
        {
          "data": {
            "image/png": "[encoded data removed]",
            "text/plain": [
              "<Figure size 720x720 with 1 Axes>"
            ]
          },
          "metadata": {
            "needs_background": "light"
          },
          "output_type": "display_data"
        }
      ],
      "source": [
        "ax=jeju_bus.boundary.plot(linewidth=1,color='black',figsize=(10,10))\n",
        "jeju_bus[jeju_bus['in_out']==0].plot(ax=ax, color='blue',markersize=9) #시내\n",
        "jeju_bus[jeju_bus['in_out']==1].plot(ax=ax, color='red',markersize=9) #시외\n",
        "plt.show()"
      ]
    },
    {
      "cell_type": "markdown",
      "metadata": {
        "id": "SEVdLS3v043Q"
      },
      "source": [
        "시내, 시외가 분리된 그림이 완성 되었습니다.\n",
        "그림의 특징을 알아볼까요? \n",
        "\n",
        "- 시외 버스 정류장의 개수는 엄청 적다.\n",
        "- 섬에는 시외버스 정류장이 있다.\n",
        "- 섬을 제외하고 시외 버스 정류장은 남쪽에 더 많이 분포한다.\n"
      ]
    },
    {
      "cell_type": "markdown",
      "metadata": {
        "id": "9m9WYqCT2Gc3"
      },
      "source": [
        "# **3. 데이터 스케일링(Data Scaling)**"
      ]
    },
    {
      "cell_type": "markdown",
      "metadata": {
        "id": "RsXRozz1fV8u"
      },
      "source": [
        "정규화와 표준화는 <font style=\"color:#99CCFF; font-weight : bold; font-size : 25px;\">데이터 스케일링</font> 또는 특성 스케일링이라고 불립니다. </br>\n",
        "정규화와 표준화는 특성들의 단위를 통일시키거나 특성들의 값의 범위를 비슷하게 </br>만들어주는 역할을 합니다.  </br>\n",
        " </br>\n",
        "정규화와 표준화의 차이를 간단히 알아보자면 </br>\n",
        "정규화는 값의 범위를 <font style=\"font-weight : bold\">0에서 1사이의 값</font>으로 바꿔주고 </br>\n",
        "표준화는 값의 범위를 <font style=\"font-weight : bold\">평균은 0, 분산은 1</font>이 되도록 바꿔주는 것입니다. \n",
        "\n"
      ]
    },
    {
      "cell_type": "markdown",
      "metadata": {
        "id": "7xXeC-lU2heC"
      },
      "source": [
        "##**(1) 정규화(Normalization)**"
      ]
    },
    {
      "cell_type": "markdown",
      "metadata": {
        "id": "QRiYpY3Xfek6"
      },
      "source": [
        "정규화를 하지 않으면❗</br>\n",
        "각 칼럼에 들어있는 데이터의 상대적 크기로 분석결과가 달라질 수 있습니다.\n",
        "\n",
        "</br>열 bus_route_id 에는 427000부터 32820000까지의 값을 가집니다.</br>\n",
        "in_out은 0과 1의 값만 가집니다. </br></br>\n",
        "이때 정규화를 하지 않고, 모델링을 하게 되면 bus_route_id 변수의 영향이 더 커지게 됩니다. </br>\n",
        "그래서 숫자 데이터의 상대적인 크기 차이를 제거해서 동일하게 영향을 주도록 하는 게 정규화입니다.\n"
      ]
    },
    {
      "cell_type": "markdown",
      "metadata": {
        "id": "M0H2o1WDtoXK"
      },
      "source": [
        "데이터에서 latitude와 logitude는 정규화 하지 않고 그대로 가져갑니다."
      ]
    },
    {
      "cell_type": "code",
      "execution_count": 58,
      "metadata": {
        "id": "YcE4ytVzVzU5"
      },
      "outputs": [],
      "source": [
        "from sklearn.preprocessing import MinMaxScaler\n",
        "transformer = MinMaxScaler()\n",
        "train11 = transformer.fit_transform(train[[\"date\",\"bus_route_id\", \"in_out\", \"station_code\",\n",
        "                                            \"6~8_ride\", \"8~10_ride\" ,\"10~12_ride\",  \n",
        "                                           \"6~8_off\",  \"8~10_off\", \"10~12_off\"]])\n",
        "\n",
        "train[[\"date\",\"bus_route_id\", \"in_out\", \"station_code\",\n",
        "       \"6~8_ride\", \"8~10_ride\" ,\"10~12_ride\",  \"6~8_off\",  \"8~10_off\", \"10~12_off\"]]=train11"
      ]
    },
    {
      "cell_type": "code",
      "execution_count": 59,
      "metadata": {
        "colab": {
          "base_uri": "https://localhost:8080/",
          "height": 455
        },
        "id": "v6Yav3gouq_r",
        "outputId": "076b0c1c-ece8-437f-faa4-aa8680f27500"
      },
      "outputs": [
        {
          "data": {
            "text/html": [
              "\n",
              "  <div id=\"df-6547d336-45c4-4c4e-98a9-9f9497aaa0d8\">\n",
              "    <div class=\"colab-df-container\">\n",
              "      <div>\n",
              "<style scoped>\n",
              "    .dataframe tbody tr th:only-of-type {\n",
              "        vertical-align: middle;\n",
              "    }\n",
              "\n",
              "    .dataframe tbody tr th {\n",
              "        vertical-align: top;\n",
              "    }\n",
              "\n",
              "    .dataframe thead th {\n",
              "        text-align: right;\n",
              "    }\n",
              "</style>\n",
              "<table border=\"1\" class=\"dataframe\">\n",
              "  <thead>\n",
              "    <tr style=\"text-align: right;\">\n",
              "      <th></th>\n",
              "      <th>date</th>\n",
              "      <th>bus_route_id</th>\n",
              "      <th>in_out</th>\n",
              "      <th>station_code</th>\n",
              "      <th>latitude</th>\n",
              "      <th>longitude</th>\n",
              "      <th>18~20_ride</th>\n",
              "      <th>6~8_ride</th>\n",
              "      <th>8~10_ride</th>\n",
              "      <th>10~12_ride</th>\n",
              "      <th>6~8_off</th>\n",
              "      <th>8~10_off</th>\n",
              "      <th>10~12_off</th>\n",
              "    </tr>\n",
              "    <tr>\n",
              "      <th>id</th>\n",
              "      <th></th>\n",
              "      <th></th>\n",
              "      <th></th>\n",
              "      <th></th>\n",
              "      <th></th>\n",
              "      <th></th>\n",
              "      <th></th>\n",
              "      <th></th>\n",
              "      <th></th>\n",
              "      <th></th>\n",
              "      <th></th>\n",
              "      <th></th>\n",
              "      <th></th>\n",
              "    </tr>\n",
              "  </thead>\n",
              "  <tbody>\n",
              "    <tr>\n",
              "      <th>0</th>\n",
              "      <td>1.0</td>\n",
              "      <td>0.0</td>\n",
              "      <td>1.0</td>\n",
              "      <td>0.000056</td>\n",
              "      <td>33.48990</td>\n",
              "      <td>126.49373</td>\n",
              "      <td>0.0</td>\n",
              "      <td>0.008772</td>\n",
              "      <td>0.038674</td>\n",
              "      <td>0.045977</td>\n",
              "      <td>0.000000</td>\n",
              "      <td>0.000000</td>\n",
              "      <td>0.0</td>\n",
              "    </tr>\n",
              "    <tr>\n",
              "      <th>1</th>\n",
              "      <td>1.0</td>\n",
              "      <td>0.0</td>\n",
              "      <td>1.0</td>\n",
              "      <td>0.000058</td>\n",
              "      <td>33.48944</td>\n",
              "      <td>126.48508</td>\n",
              "      <td>5.0</td>\n",
              "      <td>0.043860</td>\n",
              "      <td>0.033149</td>\n",
              "      <td>0.063218</td>\n",
              "      <td>0.000000</td>\n",
              "      <td>0.000000</td>\n",
              "      <td>0.0</td>\n",
              "    </tr>\n",
              "    <tr>\n",
              "      <th>2</th>\n",
              "      <td>1.0</td>\n",
              "      <td>0.0</td>\n",
              "      <td>1.0</td>\n",
              "      <td>0.000070</td>\n",
              "      <td>33.48181</td>\n",
              "      <td>126.47352</td>\n",
              "      <td>2.0</td>\n",
              "      <td>0.017544</td>\n",
              "      <td>0.011050</td>\n",
              "      <td>0.000000</td>\n",
              "      <td>0.000000</td>\n",
              "      <td>0.000000</td>\n",
              "      <td>0.0</td>\n",
              "    </tr>\n",
              "    <tr>\n",
              "      <th>3</th>\n",
              "      <td>1.0</td>\n",
              "      <td>0.0</td>\n",
              "      <td>0.0</td>\n",
              "      <td>0.000258</td>\n",
              "      <td>33.50577</td>\n",
              "      <td>126.49252</td>\n",
              "      <td>53.0</td>\n",
              "      <td>0.149123</td>\n",
              "      <td>0.176796</td>\n",
              "      <td>0.172414</td>\n",
              "      <td>0.000000</td>\n",
              "      <td>0.000000</td>\n",
              "      <td>0.0</td>\n",
              "    </tr>\n",
              "    <tr>\n",
              "      <th>4</th>\n",
              "      <td>1.0</td>\n",
              "      <td>0.0</td>\n",
              "      <td>0.0</td>\n",
              "      <td>0.000269</td>\n",
              "      <td>33.25579</td>\n",
              "      <td>126.41260</td>\n",
              "      <td>0.0</td>\n",
              "      <td>0.000000</td>\n",
              "      <td>0.000000</td>\n",
              "      <td>0.000000</td>\n",
              "      <td>0.000000</td>\n",
              "      <td>0.011628</td>\n",
              "      <td>0.0</td>\n",
              "    </tr>\n",
              "    <tr>\n",
              "      <th>...</th>\n",
              "      <td>...</td>\n",
              "      <td>...</td>\n",
              "      <td>...</td>\n",
              "      <td>...</td>\n",
              "      <td>...</td>\n",
              "      <td>...</td>\n",
              "      <td>...</td>\n",
              "      <td>...</td>\n",
              "      <td>...</td>\n",
              "      <td>...</td>\n",
              "      <td>...</td>\n",
              "      <td>...</td>\n",
              "      <td>...</td>\n",
              "    </tr>\n",
              "    <tr>\n",
              "      <th>415418</th>\n",
              "      <td>0.0</td>\n",
              "      <td>1.0</td>\n",
              "      <td>0.0</td>\n",
              "      <td>0.000184</td>\n",
              "      <td>33.41437</td>\n",
              "      <td>126.26336</td>\n",
              "      <td>0.0</td>\n",
              "      <td>0.035088</td>\n",
              "      <td>0.000000</td>\n",
              "      <td>0.000000</td>\n",
              "      <td>0.000000</td>\n",
              "      <td>0.000000</td>\n",
              "      <td>0.0</td>\n",
              "    </tr>\n",
              "    <tr>\n",
              "      <th>415419</th>\n",
              "      <td>0.0</td>\n",
              "      <td>1.0</td>\n",
              "      <td>0.0</td>\n",
              "      <td>0.000256</td>\n",
              "      <td>33.49946</td>\n",
              "      <td>126.51479</td>\n",
              "      <td>0.0</td>\n",
              "      <td>0.035088</td>\n",
              "      <td>0.000000</td>\n",
              "      <td>0.000000</td>\n",
              "      <td>0.000000</td>\n",
              "      <td>0.000000</td>\n",
              "      <td>0.0</td>\n",
              "    </tr>\n",
              "    <tr>\n",
              "      <th>415420</th>\n",
              "      <td>0.0</td>\n",
              "      <td>1.0</td>\n",
              "      <td>0.0</td>\n",
              "      <td>0.000380</td>\n",
              "      <td>33.23100</td>\n",
              "      <td>126.26273</td>\n",
              "      <td>0.0</td>\n",
              "      <td>0.000000</td>\n",
              "      <td>0.000000</td>\n",
              "      <td>0.000000</td>\n",
              "      <td>0.011765</td>\n",
              "      <td>0.000000</td>\n",
              "      <td>0.0</td>\n",
              "    </tr>\n",
              "    <tr>\n",
              "      <th>415421</th>\n",
              "      <td>0.0</td>\n",
              "      <td>1.0</td>\n",
              "      <td>0.0</td>\n",
              "      <td>0.000538</td>\n",
              "      <td>33.46483</td>\n",
              "      <td>126.31870</td>\n",
              "      <td>0.0</td>\n",
              "      <td>0.008772</td>\n",
              "      <td>0.000000</td>\n",
              "      <td>0.000000</td>\n",
              "      <td>0.000000</td>\n",
              "      <td>0.000000</td>\n",
              "      <td>0.0</td>\n",
              "    </tr>\n",
              "    <tr>\n",
              "      <th>415422</th>\n",
              "      <td>0.0</td>\n",
              "      <td>1.0</td>\n",
              "      <td>0.0</td>\n",
              "      <td>1.000000</td>\n",
              "      <td>33.24873</td>\n",
              "      <td>126.50799</td>\n",
              "      <td>0.0</td>\n",
              "      <td>0.000000</td>\n",
              "      <td>0.000000</td>\n",
              "      <td>0.000000</td>\n",
              "      <td>0.000000</td>\n",
              "      <td>0.046512</td>\n",
              "      <td>0.0</td>\n",
              "    </tr>\n",
              "  </tbody>\n",
              "</table>\n",
              "<p>415423 rows × 13 columns</p>\n",
              "</div>\n",
              "      <button class=\"colab-df-convert\" onclick=\"convertToInteractive('df-6547d336-45c4-4c4e-98a9-9f9497aaa0d8')\"\n",
              "              title=\"Convert this dataframe to an interactive table.\"\n",
              "              style=\"display:none;\">\n",
              "        \n",
              "  <svg xmlns=\"http://www.w3.org/2000/svg\" height=\"24px\"viewBox=\"0 0 24 24\"\n",
              "       width=\"24px\">\n",
              "    <path d=\"M0 0h24v24H0V0z\" fill=\"none\"/>\n",
              "    <path d=\"M18.56 5.44l.94 2.06.94-2.06 2.06-.94-2.06-.94-.94-2.06-.94 2.06-2.06.94zm-11 1L8.5 8.5l.94-2.06 2.06-.94-2.06-.94L8.5 2.5l-.94 2.06-2.06.94zm10 10l.94 2.06.94-2.06 2.06-.94-2.06-.94-.94-2.06-.94 2.06-2.06.94z\"/><path d=\"M17.41 7.96l-1.37-1.37c-.4-.4-.92-.59-1.43-.59-.52 0-1.04.2-1.43.59L10.3 9.45l-7.72 7.72c-.78.78-.78 2.05 0 2.83L4 21.41c.39.39.9.59 1.41.59.51 0 1.02-.2 1.41-.59l7.78-7.78 2.81-2.81c.8-.78.8-2.07 0-2.86zM5.41 20L4 18.59l7.72-7.72 1.47 1.35L5.41 20z\"/>\n",
              "  </svg>\n",
              "      </button>\n",
              "      \n",
              "  <style>\n",
              "    .colab-df-container {\n",
              "      display:flex;\n",
              "      flex-wrap:wrap;\n",
              "      gap: 12px;\n",
              "    }\n",
              "\n",
              "    .colab-df-convert {\n",
              "      background-color: #E8F0FE;\n",
              "      border: none;\n",
              "      border-radius: 50%;\n",
              "      cursor: pointer;\n",
              "      display: none;\n",
              "      fill: #1967D2;\n",
              "      height: 32px;\n",
              "      padding: 0 0 0 0;\n",
              "      width: 32px;\n",
              "    }\n",
              "\n",
              "    .colab-df-convert:hover {\n",
              "      background-color: #E2EBFA;\n",
              "      box-shadow: 0px 1px 2px rgba(60, 64, 67, 0.3), 0px 1px 3px 1px rgba(60, 64, 67, 0.15);\n",
              "      fill: #174EA6;\n",
              "    }\n",
              "\n",
              "    [theme=dark] .colab-df-convert {\n",
              "      background-color: #3B4455;\n",
              "      fill: #D2E3FC;\n",
              "    }\n",
              "\n",
              "    [theme=dark] .colab-df-convert:hover {\n",
              "      background-color: #434B5C;\n",
              "      box-shadow: 0px 1px 3px 1px rgba(0, 0, 0, 0.15);\n",
              "      filter: drop-shadow(0px 1px 2px rgba(0, 0, 0, 0.3));\n",
              "      fill: #FFFFFF;\n",
              "    }\n",
              "  </style>\n",
              "\n",
              "      <script>\n",
              "        const buttonEl =\n",
              "          document.querySelector('#df-6547d336-45c4-4c4e-98a9-9f9497aaa0d8 button.colab-df-convert');\n",
              "        buttonEl.style.display =\n",
              "          google.colab.kernel.accessAllowed ? 'block' : 'none';\n",
              "\n",
              "        async function convertToInteractive(key) {\n",
              "          const element = document.querySelector('#df-6547d336-45c4-4c4e-98a9-9f9497aaa0d8');\n",
              "          const dataTable =\n",
              "            await google.colab.kernel.invokeFunction('convertToInteractive',\n",
              "                                                     [key], {});\n",
              "          if (!dataTable) return;\n",
              "\n",
              "          const docLinkHtml = 'Like what you see? Visit the ' +\n",
              "            '<a target=\"_blank\" href=https://colab.research.google.com/notebooks/data_table.ipynb>data table notebook</a>'\n",
              "            + ' to learn more about interactive tables.';\n",
              "          element.innerHTML = '';\n",
              "          dataTable['output_type'] = 'display_data';\n",
              "          await google.colab.output.renderOutput(dataTable, element);\n",
              "          const docLink = document.createElement('div');\n",
              "          docLink.innerHTML = docLinkHtml;\n",
              "          element.appendChild(docLink);\n",
              "        }\n",
              "      </script>\n",
              "    </div>\n",
              "  </div>\n",
              "  "
            ],
            "text/plain": [
              "        date  bus_route_id  in_out  station_code  latitude  longitude  \\\n",
              "id                                                                      \n",
              "0        1.0           0.0     1.0      0.000056  33.48990  126.49373   \n",
              "1        1.0           0.0     1.0      0.000058  33.48944  126.48508   \n",
              "2        1.0           0.0     1.0      0.000070  33.48181  126.47352   \n",
              "3        1.0           0.0     0.0      0.000258  33.50577  126.49252   \n",
              "4        1.0           0.0     0.0      0.000269  33.25579  126.41260   \n",
              "...      ...           ...     ...           ...       ...        ...   \n",
              "415418   0.0           1.0     0.0      0.000184  33.41437  126.26336   \n",
              "415419   0.0           1.0     0.0      0.000256  33.49946  126.51479   \n",
              "415420   0.0           1.0     0.0      0.000380  33.23100  126.26273   \n",
              "415421   0.0           1.0     0.0      0.000538  33.46483  126.31870   \n",
              "415422   0.0           1.0     0.0      1.000000  33.24873  126.50799   \n",
              "\n",
              "        18~20_ride  6~8_ride  8~10_ride  10~12_ride   6~8_off  8~10_off  \\\n",
              "id                                                                        \n",
              "0              0.0  0.008772   0.038674    0.045977  0.000000  0.000000   \n",
              "1              5.0  0.043860   0.033149    0.063218  0.000000  0.000000   \n",
              "2              2.0  0.017544   0.011050    0.000000  0.000000  0.000000   \n",
              "3             53.0  0.149123   0.176796    0.172414  0.000000  0.000000   \n",
              "4              0.0  0.000000   0.000000    0.000000  0.000000  0.011628   \n",
              "...            ...       ...        ...         ...       ...       ...   \n",
              "415418         0.0  0.035088   0.000000    0.000000  0.000000  0.000000   \n",
              "415419         0.0  0.035088   0.000000    0.000000  0.000000  0.000000   \n",
              "415420         0.0  0.000000   0.000000    0.000000  0.011765  0.000000   \n",
              "415421         0.0  0.008772   0.000000    0.000000  0.000000  0.000000   \n",
              "415422         0.0  0.000000   0.000000    0.000000  0.000000  0.046512   \n",
              "\n",
              "        10~12_off  \n",
              "id                 \n",
              "0             0.0  \n",
              "1             0.0  \n",
              "2             0.0  \n",
              "3             0.0  \n",
              "4             0.0  \n",
              "...           ...  \n",
              "415418        0.0  \n",
              "415419        0.0  \n",
              "415420        0.0  \n",
              "415421        0.0  \n",
              "415422        0.0  \n",
              "\n",
              "[415423 rows x 13 columns]"
            ]
          },
          "execution_count": 59,
          "metadata": {},
          "output_type": "execute_result"
        }
      ],
      "source": [
        "train"
      ]
    },
    {
      "cell_type": "markdown",
      "metadata": {
        "id": "f7Bde1sESoUc"
      },
      "source": [
        "정규화한 값을 x와 y에 넣어봅시다."
      ]
    },
    {
      "cell_type": "code",
      "execution_count": 60,
      "metadata": {
        "id": "Vyxpxe-nSZ3p"
      },
      "outputs": [],
      "source": [
        "x = train[['date', 'bus_route_id', 'in_out', 'station_code', 'latitude', 'longitude',\n",
        "       \"6~8_ride\",  \"8~10_ride\", \"10~12_ride\" , \n",
        "       \"6~8_off\", \"8~10_off\",  \"10~12_off\"]]\n",
        "\n",
        "y = train['18~20_ride']"
      ]
    },
    {
      "cell_type": "code",
      "execution_count": 61,
      "metadata": {
        "id": "ma1NKrFrSh7X"
      },
      "outputs": [],
      "source": [
        "x_train, x_val, y_train, y_val = train_test_split(x, y)"
      ]
    },
    {
      "cell_type": "markdown",
      "metadata": {
        "id": "3t7k20vGoDND"
      },
      "source": [
        "### 🔑**참여 실습**\n",
        "\n",
        "\n",
        "### *Inst.*  \n",
        "test데이터도 정규화 해봅시다. \n",
        "\n",
        "\n",
        "\n",
        "\n",
        "### *Hint.*  \n",
        "MinMaxScaler() , fit_transform()\n",
        "\n",
        "\n",
        "\n",
        "### *Solution.*"
      ]
    },
    {
      "cell_type": "code",
      "execution_count": 62,
      "metadata": {
        "id": "EU2ooRxNn_ov"
      },
      "outputs": [],
      "source": [
        "transformer = MinMaxScaler()\n",
        "test11 = transformer.fit_transform(test[[\"date\",\"bus_route_id\", \"in_out\", \"station_code\", \"6~8_ride\", \n",
        "                                         \"8~10_ride\" ,\"10~12_ride\",  \"6~8_off\",  \"8~10_off\", \"10~12_off\"]])\n",
        "\n",
        "test[[\"date\",\"bus_route_id\", \"in_out\", \"station_code\", \"6~8_ride\", \"8~10_ride\" ,\n",
        "      \"10~12_ride\",  \"6~8_off\",  \"8~10_off\", \"10~12_off\"]] = test11"
      ]
    },
    {
      "cell_type": "markdown",
      "metadata": {
        "id": "e7a321c0"
      },
      "source": [
        "# **4. 모델링(Modeling)**"
      ]
    },
    {
      "cell_type": "markdown",
      "metadata": {
        "id": "00cb3677"
      },
      "source": [
        "## **4.1 알고리즘 정리**\n",
        ">## 의사 결정 트리(Decision Tree)\n",
        "\n",
        "<font style=\"color:#99CCFF; font-weight : bold; font-size : 25px;\">Decision Tree</font>는 일상에서 사용하는 것과 비슷합니다. </br>친구에게 어떤 소파를 살지 추천해달라고 요청하는 것과 같습니다. </br>친구들이 귀하에게 중요한 것이 무엇인지 물어볼 것입니다. 크기? 색상? 직물 또는 가죽? </br>이러한 결정을 바탕으로 귀하의 선택에 따라 완벽한 소파를 찾을 수 있습니다. \n",
        "\n",
        "</br>Decision Tree는 기본적으로 일련의 <font style=\"font-weight : bold\">참 또는 거짓 질문</font>을 하여 특정 답변을 유도합니다.\n",
        "</br>각 <font style=\"font-weight : bold\">\"테스트\"</font>를 <font style=\"font-weight : bold\">\"노드\"</font>라고 합니다. </br>각 분기는 해당 선택의 결과를 나타냅니다. 각 리프 노드는 해당 결정의 label입니다. \n",
        "\n",
        "</br>명백한 것은 실제 시나리오에서는 전체 그룹이 다르므로 관찰을 분할하여 </br>서로 유사하지만 다른 그룹과는 다른 하위 그룹이 생성합니다.\n",
        "\n",
        ">## **랜덤 포레스트(Random Forest)**\n",
        "\n",
        "![image](https://cdn.analyticsvidhya.com/wp-content/uploads/2020/02/rfc_vs_dt1.png)\n",
        "<출처>https://www.analyticsvidhya.com/blog/2020/05/decision-tree-vs-random-forest-algorithm/\n",
        "\n",
        "</br><font style=\"color:#99CCFF; font-weight : bold; font-size : 25px;\">Random Forest</font>는 Supervised Learning 알고리즘입니다. </br>정확성, 단순성 및 유연성으로 인해 <font style=\"font-weight : bold\">가장 많이 사용</font>되는 알고리즘 중 하나입니다. \n",
        "</br><font style=\"font-weight : bold\">분류 및 회귀</font> 작업에 사용할 수 있다는 사실과 <font style=\"font-weight : bold\">비선형 특성</font>을 결합하면 다양한 데이터 및 상황에 매우 적합합니다.\n",
        "\n",
        "</br>Decision Tree의 숲이 자라기 때문에 \"Forest\"라고 합니다. </br>이 트리의 데이터를 병합하여 가장 정확한 예측을 보장합니다. </br>단독 의사 결정 트리는 하나의 결과와 좁은 범위의 그룹을 갖지만, </br>포레스트는 더 많은 수의 그룹 및 결정으로 보다 정확한 결과를 보장합니다. </br>랜덤 기능 하위 집합 중에서 최상의 기능을 찾아 모델에 <font style=\"font-weight : bold\">임의성</font>을 추가하는 추가 이점이 있습니다. \n",
        "\n",
        "</br>전반적으로 볼 때, 이러한 이점으로 하여 많은 데이터 사이언티스트가 선호하는 </br>광범위한 다양성을 가진 모델이 생성됩니다.\n",
        "\n",
        ">## **Decision Tree와 Random Forest의 차이점**\n",
        "\n",
        "Random Forest는 Decision Tree의 그룹입니다. 그러나 양자 사이에는 몇 가지 <font style=\"color:#FF9999; font-weight : bold; font-size : 25px;\">차이점</font>이 있습니다. \n",
        "\n",
        "</br>Decision Tre는 의사 결정에 사용하는 <font style=\"font-weight : bold\">규칙</font>을 만드는 경향이 있습니다. \n",
        "</br>Random Forest는 기능을 <font style=\"font-weight : bold\">무작위로 선택</font>하고 관찰하여 Decision Tree의 Forest를 만든 다음 결과를 <font style=\"font-weight : bold\">평균화</font>합니다.\n",
        "\n",
        "</br>이론에 따르면 많은 수의 상관되지 않은 Tree가 하나의 개별 Decision Tree보다 더 정확한 예측을 생성합니다. \n",
        "</br>이는 많은 Tree가 함께 작동하여 개별 오류와 overfitting으로부터 서로를 보호하기 때문입니다."
      ]
    },
    {
      "cell_type": "markdown",
      "metadata": {
        "id": "_l85MSR4vF4V"
      },
      "source": [
        "## **4.2 Random Forest + validation set**"
      ]
    },
    {
      "cell_type": "code",
      "execution_count": 63,
      "metadata": {
        "id": "ba66fe12"
      },
      "outputs": [],
      "source": [
        "# RandomForestRegressor 객체 호출\n",
        "from sklearn.ensemble import RandomForestRegressor"
      ]
    },
    {
      "cell_type": "markdown",
      "metadata": {
        "id": "148c84cf"
      },
      "source": [
        "### 🔑**참여 실습**\n",
        "\n",
        "\n",
        "### *Inst.*  \n",
        "모델 선언\n",
        "\n",
        "\n",
        "\n",
        "\n",
        "\n",
        "\n",
        "### *Hint.*  \n",
        "RandomForestRegressor()\n",
        "\n",
        "\n",
        "\n",
        "\n",
        "\n",
        "\n",
        "### *Solution.*"
      ]
    },
    {
      "cell_type": "code",
      "execution_count": 64,
      "metadata": {
        "id": "01d7ea17"
      },
      "outputs": [],
      "source": [
        "# 모델 선언\n",
        "model = RandomForestRegressor()"
      ]
    },
    {
      "cell_type": "code",
      "execution_count": 65,
      "metadata": {
        "colab": {
          "base_uri": "https://localhost:8080/"
        },
        "id": "fb5a5f72",
        "outputId": "4a4076b7-77bd-46c9-9de7-cd9f291408cb"
      },
      "outputs": [
        {
          "data": {
            "text/plain": [
              "RandomForestRegressor()"
            ]
          },
          "execution_count": 65,
          "metadata": {},
          "output_type": "execute_result"
        }
      ],
      "source": [
        "# 모델-데이터셋의 학습 진행\n",
        "model.fit(x_train, y_train)"
      ]
    },
    {
      "cell_type": "code",
      "execution_count": 66,
      "metadata": {
        "colab": {
          "base_uri": "https://localhost:8080/"
        },
        "id": "zssDhduwvF4a",
        "outputId": "bedf176e-c57e-4c25-a9ac-20a56031b042"
      },
      "outputs": [
        {
          "name": "stdout",
          "output_type": "stream",
          "text": [
            "training set accuracy: 0.9510504495653924\n"
          ]
        }
      ],
      "source": [
        "# 학습된 model로 x_train의 결과를 얻어낸 다음, 그 예측과 y_train을 비교\n",
        "# training set 정확도 확인\n",
        "print(\"training set accuracy:\", model.score(x_train, y_train))"
      ]
    },
    {
      "cell_type": "code",
      "execution_count": 67,
      "metadata": {
        "colab": {
          "base_uri": "https://localhost:8080/"
        },
        "id": "_chnW1bGvF4b",
        "outputId": "057cbbcd-f4e8-4414-b53b-1637acc77a39"
      },
      "outputs": [
        {
          "name": "stdout",
          "output_type": "stream",
          "text": [
            "validation set accuracy: 0.6536167993689574\n"
          ]
        }
      ],
      "source": [
        "print(\"validation set accuracy:\", model.score(x_val, y_val))"
      ]
    },
    {
      "cell_type": "code",
      "execution_count": 68,
      "metadata": {
        "colab": {
          "base_uri": "https://localhost:8080/"
        },
        "id": "8748ff32",
        "outputId": "127bdbda-4a5f-429d-ada3-fed4a50cdec9"
      },
      "outputs": [
        {
          "data": {
            "text/plain": [
              "array([12.77, 13.57,  3.69, ...,  0.  ,  0.92,  0.  ])"
            ]
          },
          "execution_count": 68,
          "metadata": {},
          "output_type": "execute_result"
        }
      ],
      "source": [
        "# 학습된 모델을 이용해 결괏값 예측\n",
        "predict = model.predict(test)\n",
        "predict"
      ]
    },
    {
      "cell_type": "code",
      "execution_count": 69,
      "metadata": {
        "colab": {
          "base_uri": "https://localhost:8080/"
        },
        "id": "LM5MiUYpBm5P",
        "outputId": "975481ee-e452-439c-b08b-1c091ba0e871"
      },
      "outputs": [
        {
          "data": {
            "text/plain": [
              "array([13., 14.,  4., ...,  0.,  1.,  0.])"
            ]
          },
          "execution_count": 69,
          "metadata": {},
          "output_type": "execute_result"
        }
      ],
      "source": [
        "# 반올림\n",
        "predict = predict.round(0)\n",
        "predict"
      ]
    },
    {
      "cell_type": "code",
      "execution_count": 70,
      "metadata": {
        "colab": {
          "base_uri": "https://localhost:8080/"
        },
        "id": "Aly9i13jBsHc",
        "outputId": "092d9414-8c9b-4675-9fd0-784247ec5d43"
      },
      "outputs": [
        {
          "data": {
            "text/plain": [
              "array([13, 14,  4, ...,  0,  1,  0])"
            ]
          },
          "execution_count": 70,
          "metadata": {},
          "output_type": "execute_result"
        }
      ],
      "source": [
        "# float type -> int type 변환\n",
        "predict = predict.astype(int)\n",
        "predict"
      ]
    },
    {
      "cell_type": "code",
      "execution_count": 71,
      "metadata": {
        "colab": {
          "base_uri": "https://localhost:8080/"
        },
        "id": "yQA1exLdBvyQ",
        "outputId": "94a27616-22c0-40ca-918c-272036607583"
      },
      "outputs": [
        {
          "data": {
            "text/plain": [
              "array([13, 14,  4, ...,  0,  1,  0])"
            ]
          },
          "execution_count": 71,
          "metadata": {},
          "output_type": "execute_result"
        }
      ],
      "source": [
        "# 0보다 작은 수를 0으로 변환\n",
        "predict[predict < 0] = 0\n",
        "predict"
      ]
    },
    {
      "cell_type": "markdown",
      "metadata": {
        "id": "RuJROVfT2JLb"
      },
      "source": [
        "# **5. 제출파일 생성**"
      ]
    },
    {
      "cell_type": "markdown",
      "metadata": {
        "id": "dESMtWWu2Kuk"
      },
      "source": [
        "지난 시간과 마찬가지로 train data, test data, validation data로 나눈 다음 학습은 진행하였습니다.\n",
        "</br>이를 통한 Random Forest Model의 예측값으로 test의 18~20_ride 값을 채워봅시다."
      ]
    },
    {
      "cell_type": "code",
      "execution_count": 72,
      "metadata": {
        "colab": {
          "base_uri": "https://localhost:8080/"
        },
        "id": "BfzJofrOAjXq",
        "outputId": "e766e1c1-fb2a-4310-82f9-5a323a5de801"
      },
      "outputs": [
        {
          "data": {
            "text/plain": [
              "id\n",
              "415423    13\n",
              "415424    14\n",
              "415425     4\n",
              "415426    51\n",
              "415427     0\n",
              "          ..\n",
              "643588     0\n",
              "643589     0\n",
              "643590     0\n",
              "643591     1\n",
              "643592     0\n",
              "Name: 18~20_ride, Length: 228170, dtype: int64"
            ]
          },
          "execution_count": 72,
          "metadata": {},
          "output_type": "execute_result"
        }
      ],
      "source": [
        "test['18~20_ride'] = predict\n",
        "test['18~20_ride'] "
      ]
    },
    {
      "cell_type": "markdown",
      "metadata": {
        "id": "wcHhdSvXIlIa"
      },
      "source": [
        "지난 시간에 설명드렸 듯이 to_csv 메소드는 </br>데이터 프레임 객체의 내용을 csv 파일 형태로 만들어서 저장해 주는 기능입니다.\n",
        "</br>index를 포함시키지 않고 데이터를 저장하기 위해서는 </br>to_csv(inedx=False)로 지정해서 데이터를 저장해주면 됩니다.\n",
        "\n",
        "</br>이제 제출용 파일인 submission.csv를 저장해봅시다. "
      ]
    },
    {
      "cell_type": "code",
      "execution_count": 73,
      "metadata": {
        "id": "QAONtFb_A3BQ"
      },
      "outputs": [],
      "source": [
        "test[['18~20_ride']].to_csv('submission.csv')"
      ]
    },
    {
      "cell_type": "code",
      "execution_count": 73,
      "metadata": {
        "id": "yT0aTM56A6B4"
      },
      "outputs": [],
      "source": []
    }
  ],
  "metadata": {
    "colab": {
      "provenance": []
    },
    "kernelspec": {
      "display_name": "Python 3",
      "language": "python",
      "name": "python3"
    },
    "language_info": {
      "codemirror_mode": {
        "name": "ipython",
        "version": 3
      },
      "file_extension": ".py",
      "mimetype": "text/x-python",
      "name": "python",
      "nbconvert_exporter": "python",
      "pygments_lexer": "ipython3",
      "version": "3.7.11"
    },
    "toc": {
      "base_numbering": 1,
      "nav_menu": {},
      "number_sections": true,
      "sideBar": true,
      "skip_h1_title": false,
      "title_cell": "Table of Contents",
      "title_sidebar": "Contents",
      "toc_cell": false,
      "toc_position": {},
      "toc_section_display": true,
      "toc_window_display": false
    },
    "varInspector": {
      "cols": {
        "lenName": 16,
        "lenType": 16,
        "lenVar": 40
      },
      "kernels_config": {
        "python": {
          "delete_cmd_postfix": "",
          "delete_cmd_prefix": "del ",
          "library": "var_list.py",
          "varRefreshCmd": "print(var_dic_list())"
        },
        "r": {
          "delete_cmd_postfix": ") ",
          "delete_cmd_prefix": "rm(",
          "library": "var_list.r",
          "varRefreshCmd": "cat(var_dic_list()) "
        }
      },
      "types_to_exclude": [
        "module",
        "function",
        "builtin_function_or_method",
        "instance",
        "_Feature"
      ],
      "window_display": false
    }
  },
  "nbformat": 4,
  "nbformat_minor": 0
}
